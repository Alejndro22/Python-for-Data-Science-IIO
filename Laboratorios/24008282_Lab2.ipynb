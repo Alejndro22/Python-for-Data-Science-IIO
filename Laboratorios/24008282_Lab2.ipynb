{
 "cells": [
  {
   "cell_type": "markdown",
   "id": "db7b72c2-a1a1-4bbc-821a-69cd70a3d372",
   "metadata": {},
   "source": [
    "# Laboratorio # 2 - Sintaxis y Estructuras de Datos"
   ]
  },
  {
   "cell_type": "markdown",
   "id": "9b713877-a452-4d28-adf6-e486ab700b60",
   "metadata": {},
   "source": [
    "## Problema 1"
   ]
  },
  {
   "cell_type": "code",
   "execution_count": 17,
   "id": "dfb6a977-f3a5-4427-bedb-7f30ce65da82",
   "metadata": {
    "tags": []
   },
   "outputs": [
    {
     "name": "stdin",
     "output_type": "stream",
     "text": [
      "Ingrese la cantidad de segundos:  5871\n"
     ]
    },
    {
     "name": "stdout",
     "output_type": "stream",
     "text": [
      "Horas: 1, Minutos: 37, Segundos: 51\n"
     ]
    }
   ],
   "source": [
    "try:\n",
    "    while True:\n",
    "        time = int(input(\"Ingrese la cantidad de segundos: \"))\n",
    "        \n",
    "        if (time>=0):\n",
    "            break\n",
    "        else:\n",
    "            print(\"Por favor, ingrese un numero positivo\")\n",
    "    \n",
    "    \n",
    "    hours = time // 3600\n",
    "    time = time % 3600\n",
    "    seconds = time % 60\n",
    "    minutes = time // 60\n",
    "    \n",
    "    print(f\"Horas: {hours}, Minutos: {minutes}, Segundos: {seconds}\")\n",
    "except ValueError:\n",
    "    print(\"Error - Ingresó un valor distinto a un entero \\nPor favor ingrese su valor exacto en segundos\")\n",
    "    "
   ]
  },
  {
   "cell_type": "markdown",
   "id": "e82408d0-1f5d-4230-b1dd-bc91c1c9b104",
   "metadata": {},
   "source": [
    "## Problema 2"
   ]
  },
  {
   "cell_type": "code",
   "execution_count": 18,
   "id": "e460de07-3acc-4685-8be3-fd752ae95a8a",
   "metadata": {
    "tags": []
   },
   "outputs": [
    {
     "name": "stdin",
     "output_type": "stream",
     "text": [
      "Ingrese un numero del 1-20:  4\n"
     ]
    },
    {
     "name": "stdout",
     "output_type": "stream",
     "text": [
      "Patron #0\n",
      "---------------------\n",
      "*\n",
      "**\n",
      "***\n",
      "****\n",
      "Patron #1\n",
      "---------------------\n",
      "****\n",
      " ***\n",
      "  **\n",
      "   *\n",
      "Patron #2\n",
      "---------------------\n",
      "****\n",
      "*** \n",
      "**  \n",
      "*   \n",
      "Patron #3\n",
      "---------------------\n",
      "   *\n",
      "  **\n",
      " ***\n",
      "****\n"
     ]
    }
   ],
   "source": [
    "try:\n",
    "    while True:\n",
    "        n = int(input(\"Ingrese un numero del 1-20: \"))\n",
    "        \n",
    "        if ((n >= 1) and (n<=20)):\n",
    "            break\n",
    "        else:\n",
    "            print(\"Numero fuera de rango. Por favor ingrese un numero entre 1 y 20.\")\n",
    "            \n",
    "\n",
    "\n",
    "    for i in range(4):\n",
    "        str_out = ''\n",
    "        print('Patron #' + str(i))\n",
    "        print('---------------------')\n",
    "        for j in range(n):\n",
    "            if (i == 0):\n",
    "                str_out = str_out + '*'\n",
    "\n",
    "            elif(i == 1):\n",
    "                str_out = ' ' * (j) + '*' * (n-j)\n",
    "\n",
    "            elif(i == 2):\n",
    "                str_out = '*' * (n-j) + ' ' * (j)\n",
    "\n",
    "            elif(i == 3):  \n",
    "                str_out = ' ' * (n-j-1) + '*' * (j+1)\n",
    "\n",
    "            print(str_out)\n",
    "except ValueError:\n",
    "    print(\"Error - Ingresó un valor distinto a un entero \\nPor favor ingrese su valor exacto en segundos\")"
   ]
  },
  {
   "cell_type": "markdown",
   "id": "35c739e1-0e34-43de-bb6a-c211f75beaae",
   "metadata": {},
   "source": [
    "## Problema 3"
   ]
  },
  {
   "cell_type": "code",
   "execution_count": 133,
   "id": "3a2c04ca-66bb-4f9e-82a4-976efea84a15",
   "metadata": {},
   "outputs": [
    {
     "name": "stdin",
     "output_type": "stream",
     "text": [
      "Ingrese la fecha en formato dd/mm/aaaa:  22/03/2001\n"
     ]
    },
    {
     "name": "stdout",
     "output_type": "stream",
     "text": [
      "Usted tiene la edad estimada de:\n",
      "Años: 22 , Meses: 11 , Días: 9\n"
     ]
    }
   ],
   "source": [
    "from datetime import datetime, date\n",
    "\n",
    "try:\n",
    "    txt = input(\"Ingrese la fecha en formato dd/mm/aaaa: \")\n",
    "    x = txt.split('/')\n",
    "    x = [int(n) for n in x]\n",
    "    #print(x)\n",
    "    x_date = date(x[2], x[1], x[0])\n",
    "    \n",
    "    hoy = date.today()\n",
    "    y = [hoy.day, hoy.month, hoy.year]\n",
    "    #print(y)\n",
    "    \n",
    "    # Obtener la diferencia en dias \n",
    "    delta = (hoy - x_date)\n",
    "    days = int(delta.days)\n",
    "    #print(days)\n",
    "    \n",
    "    # Pasar a años, meses y dias\n",
    "    years =  days / 365\n",
    "    years_int = int(years)\n",
    "    years_decimal = years - years_int\n",
    "    \n",
    "    new_days = years_decimal * 365\n",
    "    \n",
    "    months = new_days / 30.5\n",
    "    if(months >= 12):\n",
    "        months -= 12\n",
    "        years_int += 1\n",
    "        \n",
    "    months_int = int(months)\n",
    "    months_decimal = months - months_int\n",
    "    \n",
    "    final_days = months_decimal * 30.5\n",
    "    final_days_int = int(final_days)\n",
    "\n",
    "    print('Usted tiene la edad estimada de:')\n",
    "    print(f\"Años: {years_int} , Meses: {months_int} , Días: {final_days_int}\")\n",
    "except ValueError :\n",
    "    print(\"Error - Ingresó una fecha mal\")\n"
   ]
  },
  {
   "cell_type": "markdown",
   "id": "ceab211e-b0e5-4d60-8986-6b5a66fce0dc",
   "metadata": {},
   "source": [
    "## Problema 4"
   ]
  },
  {
   "cell_type": "code",
   "execution_count": 151,
   "id": "6ee6f0ab-fe90-4f15-a351-453e04e5df55",
   "metadata": {
    "tags": []
   },
   "outputs": [
    {
     "name": "stdout",
     "output_type": "stream",
     "text": [
      "Ingrese los elementos de la tupla separados por coma sin espacios\n"
     ]
    },
    {
     "name": "stdin",
     "output_type": "stream",
     "text": [
      " 10,20,40,5,70\n"
     ]
    },
    {
     "name": "stdout",
     "output_type": "stream",
     "text": [
      "\n",
      "El output de este problema es:\n",
      "102040570\n"
     ]
    }
   ],
   "source": [
    "#n = int(input(\"Ingrese la cantidad de elementos que ingresara: \"))\n",
    "\n",
    "#for i in range(n):\n",
    "\n",
    "print('Ingrese los elementos de la tupla separados por coma sin espacios')\n",
    "arr = [str(x) for x in input().split(',')]\n",
    "tupla_input = tuple(arr)\n",
    "\n",
    "chain_str = \"\".join(tupla_input)\n",
    "\n",
    "print('\\nEl output de este problema es:')\n",
    "print(chain_str)"
   ]
  },
  {
   "cell_type": "markdown",
   "id": "a4a130c7-866e-4ab7-a144-1581fd5c3d61",
   "metadata": {},
   "source": [
    "## Problema 5"
   ]
  },
  {
   "cell_type": "code",
   "execution_count": 181,
   "id": "9bc05346-b219-4ef4-8fc2-d172c4c74f64",
   "metadata": {
    "tags": []
   },
   "outputs": [
    {
     "name": "stdin",
     "output_type": "stream",
     "text": [
      "Ingrese la cantidad de tuplas que ingresara:  3\n"
     ]
    },
    {
     "name": "stdout",
     "output_type": "stream",
     "text": [
      "Ingrese los elementos de la tupla separados por comas sin espacio\n"
     ]
    },
    {
     "name": "stdin",
     "output_type": "stream",
     "text": [
      " ,12,45\n"
     ]
    },
    {
     "name": "stdout",
     "output_type": "stream",
     "text": [
      "Ingrese los elementos de la tupla separados por comas sin espacio\n"
     ]
    },
    {
     "name": "stdin",
     "output_type": "stream",
     "text": [
      " \n"
     ]
    },
    {
     "name": "stdout",
     "output_type": "stream",
     "text": [
      "Ingrese los elementos de la tupla separados por comas sin espacio\n"
     ]
    },
    {
     "name": "stdin",
     "output_type": "stream",
     "text": [
      " 78,89,56\n"
     ]
    },
    {
     "name": "stdout",
     "output_type": "stream",
     "text": [
      "\n",
      "Este es el input de tuplas:\n",
      "[('12', '45'), (), ('78', '89', '56')]\n",
      "\n",
      "Este es el output sin tuplas vacias:\n",
      "[('12', '45'), ('78', '89', '56')]\n"
     ]
    }
   ],
   "source": [
    "try:\n",
    "    n = int(input(\"Ingrese la cantidad de tuplas que ingresara: \"))\n",
    "    list_of_tuples = []\n",
    "    for i in range(n):\n",
    "        print('Ingrese los elementos de la tupla separados por comas sin espacio')\n",
    "        arr = [x for x in input().split(',') if (x!='')]\n",
    "        tupla_input = tuple(arr)\n",
    "        list_of_tuples.append(tupla_input)\n",
    "\n",
    "    print('\\nEste es el input de tuplas:')\n",
    "    print(list_of_tuples)\n",
    "\n",
    "    #new_list = [x in x for list_of_tuples]\n",
    "    new_list = [x for x in list_of_tuples if (len(x)>0)]\n",
    "    print('\\nEste es el output sin tuplas vacias:')\n",
    "    print(new_list)\n",
    "except ValueError:\n",
    "    print(\"Error - Ingresó un valor distinto a un entero\")"
   ]
  },
  {
   "cell_type": "markdown",
   "id": "b7e22a79-ce43-4b85-bcaf-412ab8aae738",
   "metadata": {},
   "source": [
    "## Problema 6"
   ]
  },
  {
   "cell_type": "code",
   "execution_count": 192,
   "id": "6abee322-2298-4041-b280-62e84542b2ec",
   "metadata": {
    "tags": []
   },
   "outputs": [
    {
     "name": "stdin",
     "output_type": "stream",
     "text": [
      "Ingrese la cantidad de tuplas que ingresara:  3\n"
     ]
    },
    {
     "name": "stdout",
     "output_type": "stream",
     "text": [
      "Ingrese los elementos de la tupla separados por comas sin espacio\n"
     ]
    },
    {
     "name": "stdin",
     "output_type": "stream",
     "text": [
      " 10,10,10,12\n"
     ]
    },
    {
     "name": "stdout",
     "output_type": "stream",
     "text": [
      "Ingrese los elementos de la tupla separados por comas sin espacio\n"
     ]
    },
    {
     "name": "stdin",
     "output_type": "stream",
     "text": [
      " 30,45,56,45\n"
     ]
    },
    {
     "name": "stdout",
     "output_type": "stream",
     "text": [
      "Ingrese los elementos de la tupla separados por comas sin espacio\n"
     ]
    },
    {
     "name": "stdin",
     "output_type": "stream",
     "text": [
      " 81,80,39,32\n"
     ]
    },
    {
     "name": "stdout",
     "output_type": "stream",
     "text": [
      "\n",
      "Este es el input de tuplas:\n",
      "((10, 10, 10, 12), (30, 45, 56, 45), (81, 80, 39, 32))\n",
      "\n",
      "Este es el output de las medias de cada tupla:\n",
      "(10.5, 44.0, 58.0)\n"
     ]
    }
   ],
   "source": [
    "def calc_promedio(suma, cantidad):\n",
    "    return suma/cantidad\n",
    "\n",
    "try:\n",
    "    n = int(input(\"Ingrese la cantidad de tuplas que ingresara: \"))\n",
    "    list_of_tuples = []\n",
    "    list_of_means = []\n",
    "    for i in range(n):\n",
    "        print('Ingrese los elementos de la tupla separados por comas sin espacio')\n",
    "        arr = [int(x) for x in input().split(',') if (x!='')]\n",
    "        tupla_input = tuple(arr)\n",
    "        list_of_tuples.append(tupla_input)\n",
    "\n",
    "    print('\\nEste es el input de tuplas:')\n",
    "    tuple_inputs = tuple(list_of_tuples)\n",
    "    print(tuple_inputs)\n",
    "    \n",
    "    # Volver a pasarlo a listas \n",
    "    tempList = [x for x in tuple_inputs]\n",
    "    \n",
    "    # Calcular media por cada tupla\n",
    "    for i in range(len(tempList)):\n",
    "        tempList2 = [x for x in tempList[i]]\n",
    "        list_of_means.append(calc_promedio(sum(tempList2), len(tempList)+1))\n",
    "        \n",
    "    final_tuple = tuple(list_of_means)    \n",
    "    print('\\nEste es el output de las medias de cada tupla:')\n",
    "    print(final_tuple)\n",
    "\n",
    "    \n",
    "except ValueError:\n",
    "    print(\"Error - Ingresó un valor distinto a un entero\")"
   ]
  },
  {
   "cell_type": "markdown",
   "id": "8a86dc56-a42b-41a9-ae89-3f189c345b7c",
   "metadata": {},
   "source": [
    "## Problema 7"
   ]
  },
  {
   "cell_type": "code",
   "execution_count": 208,
   "id": "307819c7-810c-4f63-bdc2-914b52398864",
   "metadata": {
    "tags": []
   },
   "outputs": [
    {
     "name": "stdout",
     "output_type": "stream",
     "text": [
      "----- Menu -----\n",
      "1. Agregar nueva factura\n",
      "2. Pagar factura\n",
      "3. Ver facturas pendientes\n",
      "4. Salir\n"
     ]
    },
    {
     "name": "stdin",
     "output_type": "stream",
     "text": [
      "Ingrese la opcion deseada:  1\n",
      "Ingrese numero de factura:  1111\n",
      "Ingrese monto de la factura:  500\n"
     ]
    },
    {
     "name": "stdout",
     "output_type": "stream",
     "text": [
      "\n",
      "---------------------\n",
      "Total por pagar: 500.0\n",
      "Total pagado: 0\n",
      "---------------------\n",
      "\n",
      "----- Menu -----\n",
      "1. Agregar nueva factura\n",
      "2. Pagar factura\n",
      "3. Ver facturas pendientes\n",
      "4. Salir\n"
     ]
    },
    {
     "name": "stdin",
     "output_type": "stream",
     "text": [
      "Ingrese la opcion deseada:  1\n",
      "Ingrese numero de factura:  2222\n",
      "Ingrese monto de la factura:  700\n"
     ]
    },
    {
     "name": "stdout",
     "output_type": "stream",
     "text": [
      "\n",
      "---------------------\n",
      "Total por pagar: 1200.0\n",
      "Total pagado: 0\n",
      "---------------------\n",
      "\n",
      "----- Menu -----\n",
      "1. Agregar nueva factura\n",
      "2. Pagar factura\n",
      "3. Ver facturas pendientes\n",
      "4. Salir\n"
     ]
    },
    {
     "name": "stdin",
     "output_type": "stream",
     "text": [
      "Ingrese la opcion deseada:  1\n",
      "Ingrese numero de factura:  3333\n",
      "Ingrese monto de la factura:  1950\n"
     ]
    },
    {
     "name": "stdout",
     "output_type": "stream",
     "text": [
      "\n",
      "---------------------\n",
      "Total por pagar: 3150.0\n",
      "Total pagado: 0\n",
      "---------------------\n",
      "\n",
      "----- Menu -----\n",
      "1. Agregar nueva factura\n",
      "2. Pagar factura\n",
      "3. Ver facturas pendientes\n",
      "4. Salir\n"
     ]
    },
    {
     "name": "stdin",
     "output_type": "stream",
     "text": [
      "Ingrese la opcion deseada:  1\n",
      "Ingrese numero de factura:  2222\n",
      "Ingrese monto de la factura:  145\n"
     ]
    },
    {
     "name": "stdout",
     "output_type": "stream",
     "text": [
      "\n",
      "!!! YA existe factura con este id !!!\n",
      "\n",
      "---------------------\n",
      "Total por pagar: 3150.0\n",
      "Total pagado: 0\n",
      "---------------------\n",
      "\n",
      "----- Menu -----\n",
      "1. Agregar nueva factura\n",
      "2. Pagar factura\n",
      "3. Ver facturas pendientes\n",
      "4. Salir\n"
     ]
    },
    {
     "name": "stdin",
     "output_type": "stream",
     "text": [
      "Ingrese la opcion deseada:  3\n"
     ]
    },
    {
     "name": "stdout",
     "output_type": "stream",
     "text": [
      "{1111: 500.0, 2222: 700.0, 3333: 1950.0}\n",
      "\n",
      "----- Menu -----\n",
      "1. Agregar nueva factura\n",
      "2. Pagar factura\n",
      "3. Ver facturas pendientes\n",
      "4. Salir\n"
     ]
    },
    {
     "name": "stdin",
     "output_type": "stream",
     "text": [
      "Ingrese la opcion deseada:  2\n",
      "Ingrese numero de factura:  3333\n"
     ]
    },
    {
     "name": "stdout",
     "output_type": "stream",
     "text": [
      "\n",
      "---------------------\n",
      "Total por pagar: 1200.0\n",
      "Total pagado: 1950.0\n",
      "---------------------\n",
      "\n",
      "----- Menu -----\n",
      "1. Agregar nueva factura\n",
      "2. Pagar factura\n",
      "3. Ver facturas pendientes\n",
      "4. Salir\n"
     ]
    },
    {
     "name": "stdin",
     "output_type": "stream",
     "text": [
      "Ingrese la opcion deseada:  2\n",
      "Ingrese numero de factura:  2222\n"
     ]
    },
    {
     "name": "stdout",
     "output_type": "stream",
     "text": [
      "\n",
      "---------------------\n",
      "Total por pagar: 500.0\n",
      "Total pagado: 2650.0\n",
      "---------------------\n",
      "\n",
      "----- Menu -----\n",
      "1. Agregar nueva factura\n",
      "2. Pagar factura\n",
      "3. Ver facturas pendientes\n",
      "4. Salir\n"
     ]
    },
    {
     "name": "stdin",
     "output_type": "stream",
     "text": [
      "Ingrese la opcion deseada:  2\n",
      "Ingrese numero de factura:  2222\n"
     ]
    },
    {
     "name": "stdout",
     "output_type": "stream",
     "text": [
      "\n",
      "!!! NO existe factura con este id !!!\n",
      "\n",
      "---------------------\n",
      "Total por pagar: 500.0\n",
      "Total pagado: 2650.0\n",
      "---------------------\n",
      "\n",
      "----- Menu -----\n",
      "1. Agregar nueva factura\n",
      "2. Pagar factura\n",
      "3. Ver facturas pendientes\n",
      "4. Salir\n"
     ]
    },
    {
     "name": "stdin",
     "output_type": "stream",
     "text": [
      "Ingrese la opcion deseada:  3\n"
     ]
    },
    {
     "name": "stdout",
     "output_type": "stream",
     "text": [
      "{1111: 500.0}\n",
      "\n",
      "----- Menu -----\n",
      "1. Agregar nueva factura\n",
      "2. Pagar factura\n",
      "3. Ver facturas pendientes\n",
      "4. Salir\n"
     ]
    },
    {
     "name": "stdin",
     "output_type": "stream",
     "text": [
      "Ingrese la opcion deseada:  2\n",
      "Ingrese numero de factura:  1111\n"
     ]
    },
    {
     "name": "stdout",
     "output_type": "stream",
     "text": [
      "\n",
      "---------------------\n",
      "Total por pagar: 0.0\n",
      "Total pagado: 3150.0\n",
      "---------------------\n",
      "\n",
      "----- Menu -----\n",
      "1. Agregar nueva factura\n",
      "2. Pagar factura\n",
      "3. Ver facturas pendientes\n",
      "4. Salir\n"
     ]
    },
    {
     "name": "stdin",
     "output_type": "stream",
     "text": [
      "Ingrese la opcion deseada:  3\n"
     ]
    },
    {
     "name": "stdout",
     "output_type": "stream",
     "text": [
      "{}\n",
      "\n",
      "----- Menu -----\n",
      "1. Agregar nueva factura\n",
      "2. Pagar factura\n",
      "3. Ver facturas pendientes\n",
      "4. Salir\n"
     ]
    },
    {
     "name": "stdin",
     "output_type": "stream",
     "text": [
      "Ingrese la opcion deseada:  4\n"
     ]
    }
   ],
   "source": [
    "def display_menu():\n",
    "    print('----- Menu -----')\n",
    "    print('1. Agregar nueva factura')\n",
    "    print('2. Pagar factura')\n",
    "    print('3. Ver facturas pendientes')\n",
    "    print('4. Salir')\n",
    "\n",
    "def agregar_nueva(dict_facts, fact_key, fact_total):\n",
    "    if (fact_key in dict_facts):\n",
    "        print('\\n!!! YA existe factura con este id !!!')\n",
    "        return False\n",
    "    else:\n",
    "        dict_facts[fact_key] = fact_total\n",
    "        return True\n",
    "    \n",
    "def pagar_factura(dict_facts, fact_key):\n",
    "    if (fact_key in dict_facts):\n",
    "        value = dict_facts[fact_key]\n",
    "        dict_facts.pop(fact_key)\n",
    "        return value\n",
    "    else:\n",
    "        print('\\n!!! NO existe factura con este id !!!')\n",
    "        return 0\n",
    "    \n",
    "def ver_facturas(dict_facts):\n",
    "    print(dict_facts)\n",
    "    print()\n",
    "\n",
    "def print_estados(e1, e2):\n",
    "    print('\\n---------------------')\n",
    "    print(\"Total por pagar:\", e1)\n",
    "    print(\"Total pagado:\", e2)\n",
    "    print('---------------------\\n')\n",
    "    \n",
    "try:\n",
    "    n = 0\n",
    "    total_pagado = 0\n",
    "    total_por_pagar = 0\n",
    "    dict_facturas = {}\n",
    "    \n",
    "    while (n != 4):\n",
    "        display_menu()\n",
    "        \n",
    "        n = int(input(\"Ingrese la opcion deseada: \"))\n",
    "        if (n==1):\n",
    "            no_fact = int(input(\"Ingrese numero de factura: \"))\n",
    "            monto_fact = float(input(\"Ingrese monto de la factura: \"))\n",
    "            new_fact = agregar_nueva(dict_facturas, no_fact, monto_fact)\n",
    "            if(new_fact):\n",
    "                total_por_pagar += monto_fact\n",
    "            print_estados(total_por_pagar, total_pagado)\n",
    "        elif (n==2):\n",
    "            no_fact = int(input(\"Ingrese numero de factura: \"))\n",
    "            subtotal = pagar_factura(dict_facturas, no_fact)\n",
    "            total_por_pagar -= subtotal\n",
    "            total_pagado += subtotal\n",
    "            print_estados(total_por_pagar, total_pagado)\n",
    "        elif (n==3):\n",
    "            ver_facturas(dict_facturas)\n",
    "        elif (n==4):\n",
    "            break\n",
    "        else: \n",
    "            print(\"Opcion invalida, ingrese un numero valido1\\n\")\n",
    "    \n",
    "except ValueError:\n",
    "    print(\"Error - Ingresó un valor distinto a un entero\")\n",
    "    "
   ]
  },
  {
   "cell_type": "markdown",
   "id": "ee2a539e-9349-4000-857b-bc342d47bd41",
   "metadata": {},
   "source": [
    "## Problema 8total_pagado"
   ]
  },
  {
   "cell_type": "code",
   "execution_count": 196,
   "id": "09dcf554-4997-4bb8-accd-ccf16317be16",
   "metadata": {
    "tags": []
   },
   "outputs": [
    {
     "name": "stdout",
     "output_type": "stream",
     "text": [
      "------ Set1 ------\n",
      "7\n",
      "{'P10', 'P2', 'T2', 'P8', 'T4', 'C12', 'C3'}\n",
      "\n",
      "------ Set2 ------\n",
      "12\n",
      "{'P11', 'C2', 'C9', 'E2', 'P1', 'E9', 'P4', 'T4', 'T11', 'C7', 'P0', 'T6'}\n",
      "\n",
      "Prob. Set 1: 0.1346153846153846 \n",
      "Prob. Set 2: 0.23076923076923078\n",
      "\n",
      "------ Interseccion ------\n",
      "1\n",
      "{'T4'}\n",
      "\n",
      "Prob. Interseccion calculada: 0.019230769230769232 \n",
      "Prob. Interseccion regla producto: 0.03106508875739645\n",
      "\n",
      "Comprobamos que son eventos dependientes, pues el elemento elegido tiene que pertenecer al primer set para comprobar si también está el el segundo set\n",
      "\n",
      "------ Union ------\n",
      "18\n",
      "{'T2', 'C9', 'E2', 'P1', 'P8', 'T4', 'C12', 'T11', 'C7', 'C3', 'P10', 'P11', 'P2', 'C2', 'E9', 'P4', 'P0', 'T6'}\n",
      "\n",
      "Prob. Union calculada: 0.34615384615384615 \n",
      "Prob. Union regla adición: 0.3461538461538462\n",
      "\n",
      "Comprobamos que si se satisface la ley de la adición\n"
     ]
    }
   ],
   "source": [
    "import random\n",
    "\n",
    "def create_subset(x):\n",
    "    \n",
    "    ss = random.sample(list(card_set), x)\n",
    "    ss_set = {e for e in ss}\n",
    "    \n",
    "    print(ss_set)\n",
    "    return ss_set\n",
    "\n",
    "def create_set():\n",
    "    figuras = ['T','C','P', 'E']\n",
    "    card_set = {'T0'}\n",
    "    \n",
    "    # Llenar el set dinamicamente\n",
    "    for i in range(4):\n",
    "        for j in range(13):\n",
    "            card = str(figuras[i]) + str(j)\n",
    "            card_set.add(card)\n",
    "    return card_set\n",
    "\n",
    "try:\n",
    "    card_set = create_set()\n",
    "            \n",
    "    # Obtener subconjuntos\n",
    "    print('------', 'Set1','------')\n",
    "    x_s1 = random.randint(1,52)\n",
    "    print(x_s1)\n",
    "    s1 = create_subset(x_s1);\n",
    "    print()\n",
    "    print('------', 'Set2','------')\n",
    "    x_s2 = random.randint(1,52)\n",
    "    print(x_s2)\n",
    "    s2 = create_subset(x_s2);\n",
    "    \n",
    "    # Obtener probabilidad de set1 y 2\n",
    "    prob_s1 = x_s1 / 52\n",
    "    prob_s2 = x_s2 / 52\n",
    "    \n",
    "    print('\\nProb. Set 1:', prob_s1, '\\nProb. Set 2:',  prob_s2)\n",
    "    \n",
    "    x_interseccion_y = s1.intersection(s2)\n",
    "    print('\\n------', 'Interseccion','------')\n",
    "    print(len(x_interseccion_y))\n",
    "    print(x_interseccion_y)\n",
    "    \n",
    "    prob_inter_calc = len(x_interseccion_y)/52\n",
    "    prob_inter_producto = prob_s1 * prob_s2\n",
    "\n",
    "    print('\\nProb. Interseccion calculada:', prob_inter_calc, '\\nProb. Interseccion regla producto:',  prob_inter_producto)\n",
    "    print('\\nComprobamos que son eventos dependientes, pues el elemento elegido tiene que pertenecer al primer set para comprobar si también está el el segundo set')\n",
    "    \n",
    "    x_union_y = s1.union(s2)\n",
    "    print('\\n------', 'Union','------')\n",
    "    print(len(x_union_y))\n",
    "    print(x_union_y)\n",
    "    \n",
    "    prob_union_calc = len(x_union_y)/52\n",
    "    prob_union_regla_ad = prob_s1 + prob_s2 - prob_inter_calc\n",
    "    \n",
    "    print('\\nProb. Union calculada:', prob_union_calc, '\\nProb. Union regla adición:',  prob_union_regla_ad)\n",
    "    print('\\nComprobamos que si se satisface la ley de la adición')\n",
    "    \n",
    "except ValueError:\n",
    "    print(\"Error - Ingresó un valor distinto a un entero\")"
   ]
  },
  {
   "cell_type": "code",
   "execution_count": null,
   "id": "59b1fbcd-eb61-4c1d-8b34-2da6346217b8",
   "metadata": {},
   "outputs": [],
   "source": []
  }
 ],
 "metadata": {
  "kernelspec": {
   "display_name": "Python 3 (ipykernel)",
   "language": "python",
   "name": "python3"
  },
  "language_info": {
   "codemirror_mode": {
    "name": "ipython",
    "version": 3
   },
   "file_extension": ".py",
   "mimetype": "text/x-python",
   "name": "python",
   "nbconvert_exporter": "python",
   "pygments_lexer": "ipython3",
   "version": "3.11.5"
  }
 },
 "nbformat": 4,
 "nbformat_minor": 5
}
