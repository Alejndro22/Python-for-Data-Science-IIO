{
 "cells": [
  {
   "cell_type": "markdown",
   "id": "f5420421-d1ab-4426-b93f-caf85609f44d",
   "metadata": {},
   "source": [
    "## Numpy"
   ]
  },
  {
   "cell_type": "code",
   "execution_count": 1,
   "id": "07671ed2-73b8-478d-b9d1-8316d43494b9",
   "metadata": {
    "tags": []
   },
   "outputs": [],
   "source": [
    "import numpy as np"
   ]
  },
  {
   "cell_type": "markdown",
   "id": "ff800a7e-9391-488c-9869-7d617be4d885",
   "metadata": {},
   "source": [
    "### Ejercicio 1\n",
    "\n",
    "¿Cuál es el tamaño en bytes de un array de 1000\n",
    "elementos de tipo booleano?"
   ]
  },
  {
   "cell_type": "code",
   "execution_count": 2,
   "id": "7c7ea38f-aa07-4aca-afd8-78c99a3331dc",
   "metadata": {
    "tags": []
   },
   "outputs": [],
   "source": [
    "ex1_array = np.ones(1000, dtype=np.bool_)\n",
    "# print(ex1_array)"
   ]
  },
  {
   "cell_type": "code",
   "execution_count": 3,
   "id": "db5dc7b3-2ba8-4e16-9704-66f6908d26f4",
   "metadata": {
    "tags": []
   },
   "outputs": [],
   "source": [
    "# Tamaño del array\n",
    "ex1_array_size = ex1_array.size"
   ]
  },
  {
   "cell_type": "code",
   "execution_count": 4,
   "id": "99ae5b6a-d51a-4de6-a9cd-fd7b9bcd10b7",
   "metadata": {
    "tags": []
   },
   "outputs": [],
   "source": [
    "# Tamaño en bytes en memoria por item del array\n",
    "ex1_array_item_size = ex1_array.itemsize"
   ]
  },
  {
   "cell_type": "code",
   "execution_count": 5,
   "id": "6151d220-5766-4ffa-810c-f260387b8899",
   "metadata": {
    "tags": []
   },
   "outputs": [
    {
     "name": "stdout",
     "output_type": "stream",
     "text": [
      "El tamaño del array en bytes es de: 1000\n"
     ]
    }
   ],
   "source": [
    "print('El tamaño del array en bytes es de:', ex1_array_size * ex1_array_item_size)"
   ]
  },
  {
   "cell_type": "markdown",
   "id": "0a5fad1d-6ef4-4971-9ae5-74adf6e5bb79",
   "metadata": {},
   "source": [
    "### Ejercicio 2\n",
    "Cree un array cuyos elementos sean los enteros pares en\n",
    "[1,100] y en orden decreciente. Muestre los 10 últimos\n",
    "por pantalla."
   ]
  },
  {
   "cell_type": "code",
   "execution_count": 6,
   "id": "255a5873-55bd-444f-aa6b-37d4278644a4",
   "metadata": {
    "tags": []
   },
   "outputs": [],
   "source": [
    "# Crear array del 100 a 1, decreciente, solo pares\n",
    "ex2_array = np.arange(100, 0, -2)"
   ]
  },
  {
   "cell_type": "code",
   "execution_count": 7,
   "id": "158e7b22-0c87-41ee-bf34-e18bb15bcb73",
   "metadata": {
    "tags": []
   },
   "outputs": [
    {
     "name": "stdout",
     "output_type": "stream",
     "text": [
      "[20 18 16 14 12 10  8  6  4  2]\n"
     ]
    }
   ],
   "source": [
    "# Slice del array comenzando por el elemento 10 desde el final\n",
    "last10_ex2_array = ex2_array[-10:]\n",
    "print(last10_ex2_array)"
   ]
  },
  {
   "cell_type": "markdown",
   "id": "81eecdf5-9bf2-4f3a-a28a-482a18e8e3ae",
   "metadata": {},
   "source": [
    "### Ejercicio 3\n",
    "Dado el array\n",
    "\n",
    "2 4 5 6\n",
    "\n",
    "0 3 7 4\n",
    "\n",
    "8 8 5 2\n",
    "\n",
    "1 5 6 1\n",
    "\n",
    "Seleccione con una instrucción el subarray de elementos\n",
    "\n",
    "0 3 7 4\n",
    "\n",
    "Después, seleccione el subarray de elementos\n",
    "\n",
    "2 5\n",
    "\n",
    "8 5"
   ]
  },
  {
   "cell_type": "code",
   "execution_count": 8,
   "id": "07bdb192-1eca-4abc-8e7d-7b4914eb3cb1",
   "metadata": {
    "tags": []
   },
   "outputs": [],
   "source": [
    "ex3_array = np.array([[2, 4, 5, 6],\n",
    "                      [0, 3, 7, 4],\n",
    "                      [8, 8, 5, 2],\n",
    "                      [1, 5, 6, 1]])"
   ]
  },
  {
   "cell_type": "code",
   "execution_count": 9,
   "id": "b0ea5034-86e0-4d27-8f04-4a6c2c228d00",
   "metadata": {
    "tags": []
   },
   "outputs": [
    {
     "name": "stdout",
     "output_type": "stream",
     "text": [
      "[[0 3 7 4]]\n"
     ]
    }
   ],
   "source": [
    "subarr1_ex3_array = ex3_array[1:2]\n",
    "print(subarr1_ex3_array)"
   ]
  },
  {
   "cell_type": "code",
   "execution_count": 10,
   "id": "e50428c6-d44a-464b-b872-f364aab19d85",
   "metadata": {
    "tags": []
   },
   "outputs": [
    {
     "name": "stdout",
     "output_type": "stream",
     "text": [
      "[[2 5]\n",
      " [8 5]]\n"
     ]
    }
   ],
   "source": [
    "subarr2_ex3_array = ex3_array[::2, ::2]\n",
    "print(subarr2_ex3_array)"
   ]
  },
  {
   "cell_type": "markdown",
   "id": "111c915d-fdd5-477e-b590-a1d908d2705f",
   "metadata": {},
   "source": [
    "### Ejercicio 4\n",
    "\n",
    "Dados los arrays a = [1, 4, 2, 7] y b = [1, 3, 2, 9],\n",
    "obtenga la media aritmética de la diferencia (a-b)."
   ]
  },
  {
   "cell_type": "code",
   "execution_count": 11,
   "id": "445b43da-25fe-48cd-b9ec-0961a0137e59",
   "metadata": {
    "tags": []
   },
   "outputs": [],
   "source": [
    "ex4_a = np.array([1, 4, 2, 7])\n",
    "ex4_b = np.array([1, 3, 2, 9])"
   ]
  },
  {
   "cell_type": "code",
   "execution_count": 12,
   "id": "2e7e30ed-dce4-4931-8c64-b125f1b67f30",
   "metadata": {
    "tags": []
   },
   "outputs": [],
   "source": [
    "# Diferencia entre arrays\n",
    "dif_a_b_array = ex4_a- ex4_b"
   ]
  },
  {
   "cell_type": "code",
   "execution_count": 13,
   "id": "8b9764a3-6416-4898-bbab-7f34f0dd6576",
   "metadata": {
    "tags": []
   },
   "outputs": [
    {
     "name": "stdout",
     "output_type": "stream",
     "text": [
      "-0.25\n"
     ]
    }
   ],
   "source": [
    "# Media aritmetica del array resultante\n",
    "mean_dif_a_b = np.mean(dif_a_b_array)\n",
    "print(mean_dif_a_b)"
   ]
  },
  {
   "cell_type": "markdown",
   "id": "2279e9af-96c7-4015-b0a5-4d4dce717a13",
   "metadata": {},
   "source": [
    "### Ejercicio 5\n",
    "\n",
    "Tengo valores de cordenadas (x, y) en las columnas\n",
    "del array\n",
    "\n",
    "1.33 4.5\n",
    "\n",
    "30.0 10.7\n",
    "\n",
    "70.2 0.5\n",
    "\n",
    "Agregue a este array las coordenadas (37.1, -3.6).\n",
    "\n",
    "Muestre en pantalla las dimensiones del nuevo\n",
    "array."
   ]
  },
  {
   "cell_type": "code",
   "execution_count": 14,
   "id": "0168d7a0-de6e-4ca1-ac70-4b2595490603",
   "metadata": {
    "tags": []
   },
   "outputs": [],
   "source": [
    "ex5_array = np.array([[1.33, 4.5],\n",
    "                      [30.0, 10.7],\n",
    "                      [70.2, 0.5]])"
   ]
  },
  {
   "cell_type": "code",
   "execution_count": 15,
   "id": "ea4cf653-ea3c-4ccb-9a39-8a179178f1ef",
   "metadata": {
    "tags": []
   },
   "outputs": [
    {
     "name": "stdout",
     "output_type": "stream",
     "text": [
      "[[ 1.33  4.5 ]\n",
      " [30.   10.7 ]\n",
      " [70.2   0.5 ]\n",
      " [37.1  -3.6 ]]\n"
     ]
    }
   ],
   "source": [
    "ex5_array = np.append(ex5_array, [[37.1, -3.6]], axis=0)\n",
    "print(ex5_array)"
   ]
  },
  {
   "cell_type": "code",
   "execution_count": 16,
   "id": "bd707e60-73a0-4afa-aa7c-9efd7e913811",
   "metadata": {
    "tags": []
   },
   "outputs": [
    {
     "data": {
      "text/plain": [
       "(4, 2)"
      ]
     },
     "execution_count": 16,
     "metadata": {},
     "output_type": "execute_result"
    }
   ],
   "source": [
    "ex5_array.shape"
   ]
  },
  {
   "cell_type": "markdown",
   "id": "ec226b3c-b6cd-48ab-b5f0-d7acb74d971e",
   "metadata": {},
   "source": [
    "### Ejercicio 6\n",
    "Copie el array del ejercicio anterior. Traspóngalo (.\n",
    "Agregue ahora dos nuevos pares de coordenadas: (10.8,\n",
    "3.0) y (35.8, 12.0)."
   ]
  },
  {
   "cell_type": "code",
   "execution_count": 17,
   "id": "e4bf6220-53f3-418e-9223-3064debb0a5d",
   "metadata": {
    "tags": []
   },
   "outputs": [
    {
     "name": "stdout",
     "output_type": "stream",
     "text": [
      "[[ 1.33 30.   70.2  37.1 ]\n",
      " [ 4.5  10.7   0.5  -3.6 ]]\n"
     ]
    }
   ],
   "source": [
    "transposed_ex5_array = ex5_array.transpose()\n",
    "print(transposed_ex5_array)"
   ]
  },
  {
   "cell_type": "code",
   "execution_count": 18,
   "id": "ef89dc93-7830-4d8b-a7e2-a4295a5cd636",
   "metadata": {
    "tags": []
   },
   "outputs": [
    {
     "name": "stdout",
     "output_type": "stream",
     "text": [
      "[[10.8 35.8]\n",
      " [ 3.  12. ]]\n"
     ]
    }
   ],
   "source": [
    "new_coords = np.array([[10.8, 3.0],\n",
    "                       [35.8, 12.0]])\n",
    "transposed_coords = np.transpose(new_coords)\n",
    "print(transposed_coords)"
   ]
  },
  {
   "cell_type": "code",
   "execution_count": 19,
   "id": "4f6e7e9f-d97c-4fbe-99d5-642e7cd0813a",
   "metadata": {
    "tags": []
   },
   "outputs": [
    {
     "name": "stdout",
     "output_type": "stream",
     "text": [
      "[[ 1.33 30.   70.2  37.1  10.8  35.8 ]\n",
      " [ 4.5  10.7   0.5  -3.6   3.   12.  ]]\n"
     ]
    }
   ],
   "source": [
    "ex6_array = np.hstack((transposed_ex5_array, transposed_coords))\n",
    "print(ex6_array)"
   ]
  },
  {
   "cell_type": "markdown",
   "id": "37e0b00c-d101-444a-96a7-d645424d769f",
   "metadata": {},
   "source": [
    "## Pandas"
   ]
  },
  {
   "cell_type": "code",
   "execution_count": 20,
   "id": "6e931de1-6754-4da5-875f-e80089fd3c93",
   "metadata": {
    "tags": []
   },
   "outputs": [],
   "source": [
    "import pandas as pd"
   ]
  },
  {
   "cell_type": "code",
   "execution_count": 21,
   "id": "8b4d704c-25aa-48bc-b0c6-7c3b0d6fe768",
   "metadata": {
    "tags": []
   },
   "outputs": [
    {
     "data": {
      "text/html": [
       "<div>\n",
       "<style scoped>\n",
       "    .dataframe tbody tr th:only-of-type {\n",
       "        vertical-align: middle;\n",
       "    }\n",
       "\n",
       "    .dataframe tbody tr th {\n",
       "        vertical-align: top;\n",
       "    }\n",
       "\n",
       "    .dataframe thead th {\n",
       "        text-align: right;\n",
       "    }\n",
       "</style>\n",
       "<table border=\"1\" class=\"dataframe\">\n",
       "  <thead>\n",
       "    <tr style=\"text-align: right;\">\n",
       "      <th></th>\n",
       "      <th>FID</th>\n",
       "      <th>OBJECTID</th>\n",
       "      <th>Texto</th>\n",
       "      <th>Poblacion</th>\n",
       "      <th>CodMun</th>\n",
       "      <th>Municipio</th>\n",
       "      <th>CodProvin</th>\n",
       "      <th>Provincia</th>\n",
       "      <th>X</th>\n",
       "      <th>Y</th>\n",
       "    </tr>\n",
       "  </thead>\n",
       "  <tbody>\n",
       "    <tr>\n",
       "      <th>0</th>\n",
       "      <td>0</td>\n",
       "      <td>1</td>\n",
       "      <td>Agüimes</td>\n",
       "      <td>29431.0</td>\n",
       "      <td>35002</td>\n",
       "      <td>Agüimes</td>\n",
       "      <td>35</td>\n",
       "      <td>Las Palmas</td>\n",
       "      <td>-15.446012</td>\n",
       "      <td>27.900542</td>\n",
       "    </tr>\n",
       "    <tr>\n",
       "      <th>1</th>\n",
       "      <td>1</td>\n",
       "      <td>2</td>\n",
       "      <td>Antigua</td>\n",
       "      <td>10458.0</td>\n",
       "      <td>35003</td>\n",
       "      <td>Antigua</td>\n",
       "      <td>35</td>\n",
       "      <td>Las Palmas</td>\n",
       "      <td>-14.013301</td>\n",
       "      <td>28.418966</td>\n",
       "    </tr>\n",
       "    <tr>\n",
       "      <th>2</th>\n",
       "      <td>2</td>\n",
       "      <td>3</td>\n",
       "      <td>Arrecife</td>\n",
       "      <td>58156.0</td>\n",
       "      <td>35004</td>\n",
       "      <td>Arrecife</td>\n",
       "      <td>35</td>\n",
       "      <td>Las Palmas</td>\n",
       "      <td>-13.551451</td>\n",
       "      <td>28.960649</td>\n",
       "    </tr>\n",
       "    <tr>\n",
       "      <th>3</th>\n",
       "      <td>3</td>\n",
       "      <td>4</td>\n",
       "      <td>Arucas</td>\n",
       "      <td>36745.0</td>\n",
       "      <td>35006</td>\n",
       "      <td>Arucas</td>\n",
       "      <td>35</td>\n",
       "      <td>Las Palmas</td>\n",
       "      <td>-15.521512</td>\n",
       "      <td>28.117496</td>\n",
       "    </tr>\n",
       "    <tr>\n",
       "      <th>4</th>\n",
       "      <td>4</td>\n",
       "      <td>5</td>\n",
       "      <td>Gáldar</td>\n",
       "      <td>24473.0</td>\n",
       "      <td>35009</td>\n",
       "      <td>Gáldar</td>\n",
       "      <td>35</td>\n",
       "      <td>Las Palmas</td>\n",
       "      <td>-15.654111</td>\n",
       "      <td>28.143873</td>\n",
       "    </tr>\n",
       "  </tbody>\n",
       "</table>\n",
       "</div>"
      ],
      "text/plain": [
       "   FID  OBJECTID     Texto  Poblacion  CodMun Municipio  CodProvin  \\\n",
       "0    0         1   Agüimes    29431.0   35002   Agüimes         35   \n",
       "1    1         2   Antigua    10458.0   35003   Antigua         35   \n",
       "2    2         3  Arrecife    58156.0   35004  Arrecife         35   \n",
       "3    3         4    Arucas    36745.0   35006    Arucas         35   \n",
       "4    4         5    Gáldar    24473.0   35009    Gáldar         35   \n",
       "\n",
       "    Provincia          X          Y  \n",
       "0  Las Palmas -15.446012  27.900542  \n",
       "1  Las Palmas -14.013301  28.418966  \n",
       "2  Las Palmas -13.551451  28.960649  \n",
       "3  Las Palmas -15.521512  28.117496  \n",
       "4  Las Palmas -15.654111  28.143873  "
      ]
     },
     "execution_count": 21,
     "metadata": {},
     "output_type": "execute_result"
    }
   ],
   "source": [
    "# Cargar datos del csv\n",
    "dataset = pd.read_csv('NucleosPoblacion.csv')\n",
    "dataset.head()"
   ]
  },
  {
   "cell_type": "code",
   "execution_count": 22,
   "id": "c9a00fe8-7693-4ca7-bf87-4c271bbbcd78",
   "metadata": {
    "tags": []
   },
   "outputs": [
    {
     "data": {
      "text/plain": [
       "Provincia\n",
       "Barcelona                 84\n",
       "València/Valencia         56\n",
       "Madrid                    56\n",
       "Murcia                    46\n",
       "Alacant/Alicante          45\n",
       "Sevilla                   38\n",
       "Las Palmas                35\n",
       "Málaga                    32\n",
       "Illes Balears             30\n",
       "Santa Cruz de Tenerife    26\n",
       "Pontevedra                25\n",
       "Cádiz                     24\n",
       "Asturias                  23\n",
       "A Coruña                  23\n",
       "Vizcaya                   22\n",
       "Granada                   20\n",
       "Girona                    19\n",
       "Tarragona                 19\n",
       "Guipúzcoa                 19\n",
       "Jaén                      15\n",
       "Cantabria                 14\n",
       "Córdoba                   14\n",
       "Toledo                    14\n",
       "Almería                   14\n",
       "Huelva                    13\n",
       "Ciudad Real               13\n",
       "Castelló/Castellón        13\n",
       "Navarra                   11\n",
       "Badajoz                    9\n",
       "León                       9\n",
       "Huesca                     6\n",
       "Albacete                   6\n",
       "Lugo                       5\n",
       "Zaragoza                   5\n",
       "Cáceres                    5\n",
       "Lleida                     5\n",
       "Ourense                    5\n",
       "Salamanca                  4\n",
       "Valladolid                 4\n",
       "La Rioja                   4\n",
       "Guadalajara                4\n",
       "Burgos                     3\n",
       "Álava                      3\n",
       "Teruel                     2\n",
       "Zamora                     2\n",
       "Cuenca                     2\n",
       "Soria                      1\n",
       "Ceuta                      1\n",
       "Segovia                    1\n",
       "Palencia                   1\n",
       "Ávila                      1\n",
       "Melilla                    1\n",
       "Name: count, dtype: int64"
      ]
     },
     "execution_count": 22,
     "metadata": {},
     "output_type": "execute_result"
    }
   ],
   "source": [
    "dataset['Provincia'].value_counts() "
   ]
  },
  {
   "cell_type": "code",
   "execution_count": 23,
   "id": "6974e5d2-1f33-4c80-a8c4-d4a8778c10dc",
   "metadata": {
    "tags": []
   },
   "outputs": [
    {
     "data": {
      "text/plain": [
       "Municipio\n",
       "Murcia                     10\n",
       "Palma                       5\n",
       "Lorca                       5\n",
       "Mijas                       4\n",
       "Santa Lucía de Tirajana     4\n",
       "                           ..\n",
       "Puente Genil                1\n",
       "Rute                        1\n",
       "Cuenca                      1\n",
       "Tarancón                    1\n",
       "Valdemorillo                1\n",
       "Name: count, Length: 751, dtype: int64"
      ]
     },
     "execution_count": 23,
     "metadata": {},
     "output_type": "execute_result"
    }
   ],
   "source": [
    "dataset['Municipio'].value_counts() "
   ]
  },
  {
   "cell_type": "code",
   "execution_count": 24,
   "id": "f7396dc3-bf63-45e5-8e9c-0b94ca42996b",
   "metadata": {
    "tags": []
   },
   "outputs": [
    {
     "data": {
      "text/html": [
       "<div>\n",
       "<style scoped>\n",
       "    .dataframe tbody tr th:only-of-type {\n",
       "        vertical-align: middle;\n",
       "    }\n",
       "\n",
       "    .dataframe tbody tr th {\n",
       "        vertical-align: top;\n",
       "    }\n",
       "\n",
       "    .dataframe thead th {\n",
       "        text-align: right;\n",
       "    }\n",
       "</style>\n",
       "<table border=\"1\" class=\"dataframe\">\n",
       "  <thead>\n",
       "    <tr style=\"text-align: right;\">\n",
       "      <th></th>\n",
       "      <th>FID</th>\n",
       "      <th>OBJECTID</th>\n",
       "      <th>Poblacion</th>\n",
       "      <th>CodMun</th>\n",
       "      <th>CodProvin</th>\n",
       "      <th>X</th>\n",
       "      <th>Y</th>\n",
       "    </tr>\n",
       "  </thead>\n",
       "  <tbody>\n",
       "    <tr>\n",
       "      <th>count</th>\n",
       "      <td>852.00000</td>\n",
       "      <td>852.00000</td>\n",
       "      <td>8.520000e+02</td>\n",
       "      <td>852.000000</td>\n",
       "      <td>852.000000</td>\n",
       "      <td>852.000000</td>\n",
       "      <td>852.000000</td>\n",
       "    </tr>\n",
       "    <tr>\n",
       "      <th>mean</th>\n",
       "      <td>425.50000</td>\n",
       "      <td>426.50000</td>\n",
       "      <td>4.571086e+04</td>\n",
       "      <td>25064.747653</td>\n",
       "      <td>24.974178</td>\n",
       "      <td>-3.449561</td>\n",
       "      <td>39.168865</td>\n",
       "    </tr>\n",
       "    <tr>\n",
       "      <th>std</th>\n",
       "      <td>246.09551</td>\n",
       "      <td>246.09551</td>\n",
       "      <td>1.405981e+05</td>\n",
       "      <td>14288.756872</td>\n",
       "      <td>14.289414</td>\n",
       "      <td>4.602387</td>\n",
       "      <td>3.682011</td>\n",
       "    </tr>\n",
       "    <tr>\n",
       "      <th>min</th>\n",
       "      <td>0.00000</td>\n",
       "      <td>1.00000</td>\n",
       "      <td>1.003700e+04</td>\n",
       "      <td>1002.000000</td>\n",
       "      <td>1.000000</td>\n",
       "      <td>-17.914361</td>\n",
       "      <td>27.770340</td>\n",
       "    </tr>\n",
       "    <tr>\n",
       "      <th>25%</th>\n",
       "      <td>212.75000</td>\n",
       "      <td>213.75000</td>\n",
       "      <td>1.368975e+04</td>\n",
       "      <td>11027.000000</td>\n",
       "      <td>11.000000</td>\n",
       "      <td>-5.692163</td>\n",
       "      <td>37.591777</td>\n",
       "    </tr>\n",
       "    <tr>\n",
       "      <th>50%</th>\n",
       "      <td>425.50000</td>\n",
       "      <td>426.50000</td>\n",
       "      <td>1.986500e+04</td>\n",
       "      <td>28059.500000</td>\n",
       "      <td>28.000000</td>\n",
       "      <td>-3.253442</td>\n",
       "      <td>39.593034</td>\n",
       "    </tr>\n",
       "    <tr>\n",
       "      <th>75%</th>\n",
       "      <td>638.25000</td>\n",
       "      <td>639.25000</td>\n",
       "      <td>3.495075e+04</td>\n",
       "      <td>36056.250000</td>\n",
       "      <td>36.000000</td>\n",
       "      <td>-0.418458</td>\n",
       "      <td>41.630062</td>\n",
       "    </tr>\n",
       "    <tr>\n",
       "      <th>max</th>\n",
       "      <td>851.00000</td>\n",
       "      <td>852.00000</td>\n",
       "      <td>3.273049e+06</td>\n",
       "      <td>52001.000000</td>\n",
       "      <td>52.000000</td>\n",
       "      <td>4.265466</td>\n",
       "      <td>43.625578</td>\n",
       "    </tr>\n",
       "  </tbody>\n",
       "</table>\n",
       "</div>"
      ],
      "text/plain": [
       "             FID   OBJECTID     Poblacion        CodMun   CodProvin  \\\n",
       "count  852.00000  852.00000  8.520000e+02    852.000000  852.000000   \n",
       "mean   425.50000  426.50000  4.571086e+04  25064.747653   24.974178   \n",
       "std    246.09551  246.09551  1.405981e+05  14288.756872   14.289414   \n",
       "min      0.00000    1.00000  1.003700e+04   1002.000000    1.000000   \n",
       "25%    212.75000  213.75000  1.368975e+04  11027.000000   11.000000   \n",
       "50%    425.50000  426.50000  1.986500e+04  28059.500000   28.000000   \n",
       "75%    638.25000  639.25000  3.495075e+04  36056.250000   36.000000   \n",
       "max    851.00000  852.00000  3.273049e+06  52001.000000   52.000000   \n",
       "\n",
       "                X           Y  \n",
       "count  852.000000  852.000000  \n",
       "mean    -3.449561   39.168865  \n",
       "std      4.602387    3.682011  \n",
       "min    -17.914361   27.770340  \n",
       "25%     -5.692163   37.591777  \n",
       "50%     -3.253442   39.593034  \n",
       "75%     -0.418458   41.630062  \n",
       "max      4.265466   43.625578  "
      ]
     },
     "execution_count": 24,
     "metadata": {},
     "output_type": "execute_result"
    }
   ],
   "source": [
    "dataset.describe()"
   ]
  },
  {
   "cell_type": "code",
   "execution_count": 25,
   "id": "37f24cf6-d9f5-480a-9a65-7387821aa8e3",
   "metadata": {
    "tags": []
   },
   "outputs": [
    {
     "data": {
      "text/plain": [
       "FID            int64\n",
       "OBJECTID       int64\n",
       "Texto         object\n",
       "Poblacion    float64\n",
       "CodMun         int64\n",
       "Municipio     object\n",
       "CodProvin      int64\n",
       "Provincia     object\n",
       "X            float64\n",
       "Y            float64\n",
       "dtype: object"
      ]
     },
     "execution_count": 25,
     "metadata": {},
     "output_type": "execute_result"
    }
   ],
   "source": [
    "dataset.dtypes"
   ]
  },
  {
   "cell_type": "code",
   "execution_count": 26,
   "id": "087fd711-9146-44c2-923f-99fa2fcad6e3",
   "metadata": {
    "tags": []
   },
   "outputs": [
    {
     "name": "stdout",
     "output_type": "stream",
     "text": [
      "FID: 0.0\n",
      "OBJECTID: 0.0\n",
      "Texto: 0.0\n",
      "Poblacion: 0.0\n",
      "CodMun: 0.0\n",
      "Municipio: 0.0\n",
      "CodProvin: 0.0\n",
      "Provincia: 0.0\n",
      "X: 0.0\n",
      "Y: 0.0\n"
     ]
    }
   ],
   "source": [
    "columnas = dataset.columns\n",
    "for col in columnas:\n",
    "    porcentaje_na = dataset[col].isnull().mean()\n",
    "    print(f\"{col}: {porcentaje_na}\")"
   ]
  },
  {
   "cell_type": "markdown",
   "id": "1073d987-3f75-4565-9b30-40a1f2bf10f5",
   "metadata": {},
   "source": [
    "### Ejercicio 1\n",
    "¿Cuántos Municipios tienen más de 100000\n",
    "habitantes?."
   ]
  },
  {
   "cell_type": "code",
   "execution_count": 27,
   "id": "23fba99a-6aca-400b-afe5-feeb7ffc0d08",
   "metadata": {},
   "outputs": [
    {
     "name": "stdout",
     "output_type": "stream",
     "text": [
      "La cantidad de municipios con más de 100000 habitantes es: 62\n"
     ]
    }
   ],
   "source": [
    "ex1_ds = dataset[dataset['Poblacion']>100000]['Municipio']\n",
    "num_rows = ex1_ds.shape[0]\n",
    "print(f'La cantidad de municipios con más de 100000 habitantes es: {num_rows}')"
   ]
  },
  {
   "cell_type": "markdown",
   "id": "0dc826fb-d451-4117-9f12-b88b75280599",
   "metadata": {},
   "source": [
    "### Ejercicio 2\n",
    "Realice una gráfica de barras sobre la polbación de cada\n",
    "ciudad, ordenela de menor a mayo y responda:\n",
    "\n",
    "a. ¿Cuál es la segunda ciudad más poblada?\n",
    "\n",
    "b. ¿Qué posición ocupa Granada en el ranking de\n",
    "las ciudades más pobladas?"
   ]
  },
  {
   "cell_type": "code",
   "execution_count": 28,
   "id": "0a6b2caa-ecd8-40df-ac15-51408e76f127",
   "metadata": {
    "tags": []
   },
   "outputs": [],
   "source": [
    "# importar matplotlib para graficas\n",
    "import matplotlib.pyplot as plt"
   ]
  },
  {
   "cell_type": "code",
   "execution_count": 29,
   "id": "aa75b20f-de83-4ec5-b8bc-3a11282c9c76",
   "metadata": {
    "tags": []
   },
   "outputs": [],
   "source": [
    "# Uso reset index porque al agrupar se pierden los indices originales\n",
    "# Dataset de provincias agrupadas\n",
    "city_population = dataset.groupby(\"Provincia\")[\"Poblacion\"].sum().reset_index()"
   ]
  },
  {
   "cell_type": "code",
   "execution_count": 30,
   "id": "a93ad6b7-78d4-4d68-933c-6f0217444c45",
   "metadata": {
    "tags": []
   },
   "outputs": [
    {
     "data": {
      "text/html": [
       "<div>\n",
       "<style scoped>\n",
       "    .dataframe tbody tr th:only-of-type {\n",
       "        vertical-align: middle;\n",
       "    }\n",
       "\n",
       "    .dataframe tbody tr th {\n",
       "        vertical-align: top;\n",
       "    }\n",
       "\n",
       "    .dataframe thead th {\n",
       "        text-align: right;\n",
       "    }\n",
       "</style>\n",
       "<table border=\"1\" class=\"dataframe\">\n",
       "  <thead>\n",
       "    <tr style=\"text-align: right;\">\n",
       "      <th></th>\n",
       "      <th>Provincia</th>\n",
       "      <th>Poblacion</th>\n",
       "    </tr>\n",
       "  </thead>\n",
       "  <tbody>\n",
       "    <tr>\n",
       "      <th>0</th>\n",
       "      <td>Soria</td>\n",
       "      <td>39838.0</td>\n",
       "    </tr>\n",
       "    <tr>\n",
       "      <th>1</th>\n",
       "      <td>Teruel</td>\n",
       "      <td>51532.0</td>\n",
       "    </tr>\n",
       "    <tr>\n",
       "      <th>2</th>\n",
       "      <td>Segovia</td>\n",
       "      <td>55748.0</td>\n",
       "    </tr>\n",
       "    <tr>\n",
       "      <th>3</th>\n",
       "      <td>Ávila</td>\n",
       "      <td>58245.0</td>\n",
       "    </tr>\n",
       "    <tr>\n",
       "      <th>4</th>\n",
       "      <td>Cuenca</td>\n",
       "      <td>71921.0</td>\n",
       "    </tr>\n",
       "    <tr>\n",
       "      <th>5</th>\n",
       "      <td>Melilla</td>\n",
       "      <td>76034.0</td>\n",
       "    </tr>\n",
       "    <tr>\n",
       "      <th>6</th>\n",
       "      <td>Ceuta</td>\n",
       "      <td>80579.0</td>\n",
       "    </tr>\n",
       "    <tr>\n",
       "      <th>7</th>\n",
       "      <td>Palencia</td>\n",
       "      <td>82169.0</td>\n",
       "    </tr>\n",
       "    <tr>\n",
       "      <th>8</th>\n",
       "      <td>Zamora</td>\n",
       "      <td>85098.0</td>\n",
       "    </tr>\n",
       "    <tr>\n",
       "      <th>9</th>\n",
       "      <td>Huesca</td>\n",
       "      <td>124838.0</td>\n",
       "    </tr>\n",
       "    <tr>\n",
       "      <th>10</th>\n",
       "      <td>Guadalajara</td>\n",
       "      <td>139373.0</td>\n",
       "    </tr>\n",
       "    <tr>\n",
       "      <th>11</th>\n",
       "      <td>Ourense</td>\n",
       "      <td>161821.0</td>\n",
       "    </tr>\n",
       "    <tr>\n",
       "      <th>12</th>\n",
       "      <td>Lugo</td>\n",
       "      <td>162422.0</td>\n",
       "    </tr>\n",
       "    <tr>\n",
       "      <th>13</th>\n",
       "      <td>Cáceres</td>\n",
       "      <td>176220.0</td>\n",
       "    </tr>\n",
       "    <tr>\n",
       "      <th>14</th>\n",
       "      <td>Salamanca</td>\n",
       "      <td>197780.0</td>\n",
       "    </tr>\n",
       "    <tr>\n",
       "      <th>15</th>\n",
       "      <td>Lleida</td>\n",
       "      <td>199135.0</td>\n",
       "    </tr>\n",
       "    <tr>\n",
       "      <th>16</th>\n",
       "      <td>La Rioja</td>\n",
       "      <td>203911.0</td>\n",
       "    </tr>\n",
       "    <tr>\n",
       "      <th>17</th>\n",
       "      <td>Burgos</td>\n",
       "      <td>250766.0</td>\n",
       "    </tr>\n",
       "    <tr>\n",
       "      <th>18</th>\n",
       "      <td>Álava</td>\n",
       "      <td>266717.0</td>\n",
       "    </tr>\n",
       "    <tr>\n",
       "      <th>19</th>\n",
       "      <td>Albacete</td>\n",
       "      <td>280673.0</td>\n",
       "    </tr>\n",
       "    <tr>\n",
       "      <th>20</th>\n",
       "      <td>León</td>\n",
       "      <td>316662.0</td>\n",
       "    </tr>\n",
       "    <tr>\n",
       "      <th>21</th>\n",
       "      <td>Toledo</td>\n",
       "      <td>332751.0</td>\n",
       "    </tr>\n",
       "    <tr>\n",
       "      <th>22</th>\n",
       "      <td>Ciudad Real</td>\n",
       "      <td>348364.0</td>\n",
       "    </tr>\n",
       "    <tr>\n",
       "      <th>23</th>\n",
       "      <td>Badajoz</td>\n",
       "      <td>361700.0</td>\n",
       "    </tr>\n",
       "    <tr>\n",
       "      <th>24</th>\n",
       "      <td>Huelva</td>\n",
       "      <td>361777.0</td>\n",
       "    </tr>\n",
       "    <tr>\n",
       "      <th>25</th>\n",
       "      <td>Valladolid</td>\n",
       "      <td>372022.0</td>\n",
       "    </tr>\n",
       "    <tr>\n",
       "      <th>26</th>\n",
       "      <td>Jaén</td>\n",
       "      <td>426169.0</td>\n",
       "    </tr>\n",
       "    <tr>\n",
       "      <th>27</th>\n",
       "      <td>Cantabria</td>\n",
       "      <td>437448.0</td>\n",
       "    </tr>\n",
       "    <tr>\n",
       "      <th>28</th>\n",
       "      <td>Navarra</td>\n",
       "      <td>440005.0</td>\n",
       "    </tr>\n",
       "    <tr>\n",
       "      <th>29</th>\n",
       "      <td>Girona</td>\n",
       "      <td>474739.0</td>\n",
       "    </tr>\n",
       "    <tr>\n",
       "      <th>30</th>\n",
       "      <td>Castelló/Castellón</td>\n",
       "      <td>476388.0</td>\n",
       "    </tr>\n",
       "    <tr>\n",
       "      <th>31</th>\n",
       "      <td>Guipúzcoa</td>\n",
       "      <td>546141.0</td>\n",
       "    </tr>\n",
       "    <tr>\n",
       "      <th>32</th>\n",
       "      <td>Almería</td>\n",
       "      <td>550604.0</td>\n",
       "    </tr>\n",
       "    <tr>\n",
       "      <th>33</th>\n",
       "      <td>Córdoba</td>\n",
       "      <td>590503.0</td>\n",
       "    </tr>\n",
       "    <tr>\n",
       "      <th>34</th>\n",
       "      <td>Tarragona</td>\n",
       "      <td>598738.0</td>\n",
       "    </tr>\n",
       "    <tr>\n",
       "      <th>35</th>\n",
       "      <td>Granada</td>\n",
       "      <td>604357.0</td>\n",
       "    </tr>\n",
       "    <tr>\n",
       "      <th>36</th>\n",
       "      <td>Zaragoza</td>\n",
       "      <td>743312.0</td>\n",
       "    </tr>\n",
       "    <tr>\n",
       "      <th>37</th>\n",
       "      <td>Pontevedra</td>\n",
       "      <td>794690.0</td>\n",
       "    </tr>\n",
       "    <tr>\n",
       "      <th>38</th>\n",
       "      <td>A Coruña</td>\n",
       "      <td>818982.0</td>\n",
       "    </tr>\n",
       "    <tr>\n",
       "      <th>39</th>\n",
       "      <td>Asturias</td>\n",
       "      <td>965777.0</td>\n",
       "    </tr>\n",
       "    <tr>\n",
       "      <th>40</th>\n",
       "      <td>Vizcaya</td>\n",
       "      <td>984560.0</td>\n",
       "    </tr>\n",
       "    <tr>\n",
       "      <th>41</th>\n",
       "      <td>Santa Cruz de Tenerife</td>\n",
       "      <td>989964.0</td>\n",
       "    </tr>\n",
       "    <tr>\n",
       "      <th>42</th>\n",
       "      <td>Illes Balears</td>\n",
       "      <td>1041183.0</td>\n",
       "    </tr>\n",
       "    <tr>\n",
       "      <th>43</th>\n",
       "      <td>Cádiz</td>\n",
       "      <td>1166531.0</td>\n",
       "    </tr>\n",
       "    <tr>\n",
       "      <th>44</th>\n",
       "      <td>Las Palmas</td>\n",
       "      <td>1220407.0</td>\n",
       "    </tr>\n",
       "    <tr>\n",
       "      <th>45</th>\n",
       "      <td>Murcia</td>\n",
       "      <td>1599339.0</td>\n",
       "    </tr>\n",
       "    <tr>\n",
       "      <th>46</th>\n",
       "      <td>Sevilla</td>\n",
       "      <td>1671058.0</td>\n",
       "    </tr>\n",
       "    <tr>\n",
       "      <th>47</th>\n",
       "      <td>Málaga</td>\n",
       "      <td>1702839.0</td>\n",
       "    </tr>\n",
       "    <tr>\n",
       "      <th>48</th>\n",
       "      <td>Alacant/Alicante</td>\n",
       "      <td>1804252.0</td>\n",
       "    </tr>\n",
       "    <tr>\n",
       "      <th>49</th>\n",
       "      <td>València/Valencia</td>\n",
       "      <td>2189461.0</td>\n",
       "    </tr>\n",
       "    <tr>\n",
       "      <th>50</th>\n",
       "      <td>Barcelona</td>\n",
       "      <td>4934795.0</td>\n",
       "    </tr>\n",
       "    <tr>\n",
       "      <th>51</th>\n",
       "      <td>Madrid</td>\n",
       "      <td>6315312.0</td>\n",
       "    </tr>\n",
       "  </tbody>\n",
       "</table>\n",
       "</div>"
      ],
      "text/plain": [
       "                 Provincia  Poblacion\n",
       "0                    Soria    39838.0\n",
       "1                   Teruel    51532.0\n",
       "2                  Segovia    55748.0\n",
       "3                    Ávila    58245.0\n",
       "4                   Cuenca    71921.0\n",
       "5                  Melilla    76034.0\n",
       "6                    Ceuta    80579.0\n",
       "7                 Palencia    82169.0\n",
       "8                   Zamora    85098.0\n",
       "9                   Huesca   124838.0\n",
       "10             Guadalajara   139373.0\n",
       "11                 Ourense   161821.0\n",
       "12                    Lugo   162422.0\n",
       "13                 Cáceres   176220.0\n",
       "14               Salamanca   197780.0\n",
       "15                  Lleida   199135.0\n",
       "16                La Rioja   203911.0\n",
       "17                  Burgos   250766.0\n",
       "18                   Álava   266717.0\n",
       "19                Albacete   280673.0\n",
       "20                    León   316662.0\n",
       "21                  Toledo   332751.0\n",
       "22             Ciudad Real   348364.0\n",
       "23                 Badajoz   361700.0\n",
       "24                  Huelva   361777.0\n",
       "25              Valladolid   372022.0\n",
       "26                    Jaén   426169.0\n",
       "27               Cantabria   437448.0\n",
       "28                 Navarra   440005.0\n",
       "29                  Girona   474739.0\n",
       "30      Castelló/Castellón   476388.0\n",
       "31               Guipúzcoa   546141.0\n",
       "32                 Almería   550604.0\n",
       "33                 Córdoba   590503.0\n",
       "34               Tarragona   598738.0\n",
       "35                 Granada   604357.0\n",
       "36                Zaragoza   743312.0\n",
       "37              Pontevedra   794690.0\n",
       "38                A Coruña   818982.0\n",
       "39                Asturias   965777.0\n",
       "40                 Vizcaya   984560.0\n",
       "41  Santa Cruz de Tenerife   989964.0\n",
       "42           Illes Balears  1041183.0\n",
       "43                   Cádiz  1166531.0\n",
       "44              Las Palmas  1220407.0\n",
       "45                  Murcia  1599339.0\n",
       "46                 Sevilla  1671058.0\n",
       "47                  Málaga  1702839.0\n",
       "48        Alacant/Alicante  1804252.0\n",
       "49       València/Valencia  2189461.0\n",
       "50               Barcelona  4934795.0\n",
       "51                  Madrid  6315312.0"
      ]
     },
     "execution_count": 30,
     "metadata": {},
     "output_type": "execute_result"
    }
   ],
   "source": [
    "# Ordenar dataset de menor a mayor\n",
    "ordered_ds = city_population.sort_values(by=['Poblacion'], ascending=True)\n",
    "ordered_ds.reset_index(drop=True, inplace=True)\n",
    "\n",
    "ordered_ds"
   ]
  },
  {
   "cell_type": "code",
   "execution_count": 31,
   "id": "936e2ca0-23a7-4b50-a447-0622257efa19",
   "metadata": {
    "tags": []
   },
   "outputs": [
    {
     "data": {
      "image/png": "[encoded data removed]",
      "text/plain": [
       "<Figure size 1000x1000 with 1 Axes>"
      ]
     },
     "metadata": {},
     "output_type": "display_data"
    }
   ],
   "source": [
    "plt.figure(figsize=(10, 10)) \n",
    "plt.barh(ordered_ds['Provincia'], ordered_ds['Poblacion'])\n",
    "plt.gca().invert_yaxis() \n",
    "plt.xscale('log')\n",
    "plt.tight_layout() \n",
    "plt.margins(y=0)\n",
    "plt.show()"
   ]
  },
  {
   "cell_type": "markdown",
   "id": "161c1d2d-6738-43e5-99d1-6bb4fdd52123",
   "metadata": {},
   "source": [
    "**a.** La segunda ciudad más poblada es: Barcelona.\n",
    "\n",
    "**b.** Granada ocupa la posición: 17"
   ]
  },
  {
   "cell_type": "markdown",
   "id": "4355645f-f984-4811-b736-d6b6633d1166",
   "metadata": {},
   "source": [
    "### Ejercicio 3\n",
    "¿Cuántos municipios de Extremadura tienen más de 5000\n",
    "habitantes?.\n",
    "\n",
    "Extremadura es una región occidental española que limita con Portugal y está compuesta por las provincias de Cáceres y Badajoz."
   ]
  },
  {
   "cell_type": "code",
   "execution_count": 32,
   "id": "69181573-99ab-42f5-b4a5-1096ab934068",
   "metadata": {
    "tags": []
   },
   "outputs": [],
   "source": [
    "extremadura_ds = dataset[(dataset['Provincia'] == 'Cáceres') | (dataset['Provincia'] == 'Badajoz')]"
   ]
  },
  {
   "cell_type": "code",
   "execution_count": 33,
   "id": "cde1a59d-48d9-4e32-b1c1-93f5f93a84a1",
   "metadata": {
    "tags": []
   },
   "outputs": [
    {
     "name": "stdout",
     "output_type": "stream",
     "text": [
      "Municipios de Extremadura (Cáceres y Badajoz) con mas de 5000 habitantes: 14\n"
     ]
    }
   ],
   "source": [
    "new_extremadura_ds = extremadura_ds[extremadura_ds['Poblacion'] > 5000]\n",
    "num_rows = new_extremadura_ds.shape[0]\n",
    "print(f'Municipios de Extremadura (Cáceres y Badajoz) con mas de 5000 habitantes: {num_rows}')"
   ]
  },
  {
   "cell_type": "markdown",
   "id": "7824f078-89e2-4b1a-b0af-86ec08ebe415",
   "metadata": {},
   "source": [
    "### Ejercicio 4\n",
    "\n",
    "¿Cuál es el municipio situado más al Norte? (Usar el\n",
    "valor de la coordenada \"Y\" que representa la latitud en\n",
    "grados). Proporcione también la provincia a la que\n",
    "pertenece y su población."
   ]
  },
  {
   "cell_type": "code",
   "execution_count": 34,
   "id": "af32db92-caf8-4d9e-8903-92673bfb4cdb",
   "metadata": {
    "tags": []
   },
   "outputs": [
    {
     "name": "stdout",
     "output_type": "stream",
     "text": [
      "El municipio más situado al norte es: Viveiro\n",
      "\n",
      "Ubicado en:\n"
     ]
    },
    {
     "data": {
      "text/html": [
       "<div>\n",
       "<style scoped>\n",
       "    .dataframe tbody tr th:only-of-type {\n",
       "        vertical-align: middle;\n",
       "    }\n",
       "\n",
       "    .dataframe tbody tr th {\n",
       "        vertical-align: top;\n",
       "    }\n",
       "\n",
       "    .dataframe thead th {\n",
       "        text-align: right;\n",
       "    }\n",
       "</style>\n",
       "<table border=\"1\" class=\"dataframe\">\n",
       "  <thead>\n",
       "    <tr style=\"text-align: right;\">\n",
       "      <th></th>\n",
       "      <th>Provincia</th>\n",
       "      <th>Poblacion</th>\n",
       "    </tr>\n",
       "  </thead>\n",
       "  <tbody>\n",
       "    <tr>\n",
       "      <th>28</th>\n",
       "      <td>Lugo</td>\n",
       "      <td>162422.0</td>\n",
       "    </tr>\n",
       "  </tbody>\n",
       "</table>\n",
       "</div>"
      ],
      "text/plain": [
       "   Provincia  Poblacion\n",
       "28      Lugo   162422.0"
      ]
     },
     "execution_count": 34,
     "metadata": {},
     "output_type": "execute_result"
    }
   ],
   "source": [
    "# Pandas dataframe.idxmax() hace return del index del valor maximo.\n",
    "ex4_id = dataset[\"Y\"].idxmax()\n",
    "\n",
    "municipio_highest_y = dataset[dataset['FID'] == ex4_id]\n",
    "municipio_highest_y_name = municipio_highest_y['Municipio'].iloc[0]\n",
    "print(f'El municipio más situado al norte es: {municipio_highest_y_name}')\n",
    "\n",
    "# En ejercicio 2 ya habia hecho un dataset sobre provincias.\n",
    "print('\\nUbicado en:')\n",
    "city_population[(city_population['Provincia'] == municipio_highest_y['Provincia'].values[0])]\n"
   ]
  },
  {
   "cell_type": "markdown",
   "id": "48cd4642-36d8-4fb6-8eae-65d9c8591f53",
   "metadata": {},
   "source": [
    "### Ejercicio 5\n",
    "\n",
    "Obtenga la media, mediana, desviación estándar, valor\n",
    "máximo y valor mínimo de la población de los municipios\n",
    "de la provincia de Granada."
   ]
  },
  {
   "cell_type": "code",
   "execution_count": 35,
   "id": "cab126bc-8c21-49cf-bfd2-66183c376c57",
   "metadata": {
    "tags": []
   },
   "outputs": [
    {
     "name": "stdout",
     "output_type": "stream",
     "text": [
      "-------------------------------\n",
      "Stats de los municipios de la provincia de Granada\n",
      "-------------------------------\n",
      "Media: 30217.85\n",
      "Mediana: 17526.0\n",
      "Desviacion Estándar: 50355.49171459277\n",
      "Valor mínimo: 10386.0\n",
      "Valor máximo: 239154.0\n"
     ]
    }
   ],
   "source": [
    "ex5_ds = dataset[dataset['Provincia'] == 'Granada']\n",
    "\n",
    "stats = ex5_ds['Poblacion'].describe()\n",
    "\n",
    "print('-------------------------------')\n",
    "print('Stats de los municipios de la provincia de Granada')\n",
    "print('-------------------------------')\n",
    "\n",
    "print('Media:', stats['mean'])\n",
    "print('Mediana:', stats['50%'])\n",
    "print('Desviacion Estándar:', stats['std'])\n",
    "print('Valor mínimo:', stats['min'])\n",
    "print('Valor máximo:', stats['max'])"
   ]
  },
  {
   "cell_type": "markdown",
   "id": "23fb1218-64e9-4f10-9798-adcaff83838c",
   "metadata": {},
   "source": [
    "### Ejercicio 6\n",
    "\n",
    "Realice un histograma con la población de los\n",
    "Municipios para cada una de las provincias."
   ]
  },
  {
   "cell_type": "code",
   "execution_count": 36,
   "id": "0eca19ac-1784-46c2-a0b2-351f525a8153",
   "metadata": {
    "tags": []
   },
   "outputs": [
    {
     "name": "stdout",
     "output_type": "stream",
     "text": [
      "    Provincia                      Municipio  Poblacion\n",
      "61   A Coruña                           Ames    27900.0\n",
      "62   A Coruña                        Arteixo    30255.0\n",
      "63   A Coruña                       Betanzos    13673.0\n",
      "64   A Coruña                          Boiro    19076.0\n",
      "65   A Coruña                         Cambre    23621.0\n",
      "66   A Coruña                       Carballo    31149.0\n",
      "67   A Coruña                       A Coruña   246047.0\n",
      "68   A Coruña                      Culleredo    28737.0\n",
      "69   A Coruña                           Fene    14092.0\n",
      "70   A Coruña                         Ferrol    73638.0\n",
      "71   A Coruña                      A Laracha    11213.0\n",
      "72   A Coruña                          Narón    38285.0\n",
      "73   A Coruña                           Noia    14947.0\n",
      "74   A Coruña                        Oleiros    33550.0\n",
      "75   A Coruña                          Ordes    12868.0\n",
      "76   A Coruña  As Pontes de García Rodríguez    11336.0\n",
      "77   A Coruña                         Rianxo    11826.0\n",
      "78   A Coruña                        Ribeira    27504.0\n",
      "79   A Coruña                           Sada    14734.0\n",
      "80   A Coruña                    Santa Comba    10408.0\n",
      "81   A Coruña         Santiago de Compostela    94824.0\n",
      "82   A Coruña                            Teo    17940.0\n",
      "772  A Coruña                           Ames    11359.0\n",
      "\n"
     ]
    },
    {
     "data": {
      "image/png": "[encoded data removed]",
      "text/plain": [
       "<Figure size 640x480 with 1 Axes>"
      ]
     },
     "metadata": {},
     "output_type": "display_data"
    },
    {
     "name": "stdout",
     "output_type": "stream",
     "text": [
      "-------------------------------------------------\n",
      "\n",
      "            Provincia                                        Municipio  \\\n",
      "157  Alacant/Alicante                                         Albatera   \n",
      "158  Alacant/Alicante                                      Alcoy/Alcoi   \n",
      "159  Alacant/Alicante                                   L'Alfàs del Pi   \n",
      "160  Alacant/Alicante                                 Alacant/Alicante   \n",
      "161  Alacant/Alicante                                         Almoradí   \n",
      "162  Alacant/Alicante                                            Altea   \n",
      "163  Alacant/Alicante                                             Aspe   \n",
      "164  Alacant/Alicante                                         Benidorm   \n",
      "165  Alacant/Alicante                                Callosa de Segura   \n",
      "166  Alacant/Alicante                                      El Campello   \n",
      "167  Alacant/Alicante                                         Castalla   \n",
      "175  Alacant/Alicante                                       Cocentaina   \n",
      "176  Alacant/Alicante                                       Crevillent   \n",
      "177  Alacant/Alicante                                        Elche/Elx   \n",
      "178  Alacant/Alicante                                             Elda   \n",
      "179  Alacant/Alicante                             Guardamar del Segura   \n",
      "180  Alacant/Alicante                                              Ibi   \n",
      "181  Alacant/Alicante                                  Monóvar/Monòver   \n",
      "182  Alacant/Alicante                                         Mutxamel   \n",
      "183  Alacant/Alicante                                          Novelda   \n",
      "184  Alacant/Alicante                                         La Nucia   \n",
      "185  Alacant/Alicante                                         Orihuela   \n",
      "186  Alacant/Alicante                                             Pego   \n",
      "187  Alacant/Alicante                                           Petrer   \n",
      "188  Alacant/Alicante                                          Rojales   \n",
      "189  Alacant/Alicante                                    San Fulgencio   \n",
      "190  Alacant/Alicante                              Sant Joan d'Alacant   \n",
      "191  Alacant/Alicante                                       Santa Pola   \n",
      "192  Alacant/Alicante  San Vicente del Raspeig/Sant Vicent del Raspeig   \n",
      "193  Alacant/Alicante                                              Sax   \n",
      "194  Alacant/Alicante                                       Torrevieja   \n",
      "195  Alacant/Alicante                       Villajoyosa/La Vila Joiosa   \n",
      "196  Alacant/Alicante                             Pilar de la Horadada   \n",
      "593  Alacant/Alicante                                          Benissa   \n",
      "594  Alacant/Alicante                                             Calp   \n",
      "595  Alacant/Alicante                                            Dénia   \n",
      "596  Alacant/Alicante                                      Jávea/Xàbia   \n",
      "597  Alacant/Alicante                                          Teulada   \n",
      "748  Alacant/Alicante                                          Villena   \n",
      "773  Alacant/Alicante                                         Mutxamel   \n",
      "774  Alacant/Alicante                                         Orihuela   \n",
      "823  Alacant/Alicante                                      Jávea/Xàbia   \n",
      "824  Alacant/Alicante                                          Teulada   \n",
      "840  Alacant/Alicante                                          Rojales   \n",
      "841  Alacant/Alicante                                    San Fulgencio   \n",
      "\n",
      "     Poblacion  \n",
      "157    11821.0  \n",
      "158    61417.0  \n",
      "159    21332.0  \n",
      "160   334418.0  \n",
      "161    19598.0  \n",
      "162    24006.0  \n",
      "163    20360.0  \n",
      "164    71198.0  \n",
      "165    18008.0  \n",
      "166    26941.0  \n",
      "167    10513.0  \n",
      "175    11534.0  \n",
      "176    28738.0  \n",
      "177   230822.0  \n",
      "178    54815.0  \n",
      "179    16423.0  \n",
      "180    23861.0  \n",
      "181    12928.0  \n",
      "182    23066.0  \n",
      "183    27104.0  \n",
      "184    18225.0  \n",
      "185    87113.0  \n",
      "186    11208.0  \n",
      "187    34634.0  \n",
      "188    20953.0  \n",
      "189    12144.0  \n",
      "190    22138.0  \n",
      "191    32507.0  \n",
      "192    54088.0  \n",
      "193    10099.0  \n",
      "194   101091.0  \n",
      "195    34344.0  \n",
      "196    22555.0  \n",
      "593    13369.0  \n",
      "594    29909.0  \n",
      "595    44498.0  \n",
      "596    31909.0  \n",
      "597    14778.0  \n",
      "748    34968.0  \n",
      "773    23066.0  \n",
      "774    29263.0  \n",
      "823    31909.0  \n",
      "824    14778.0  \n",
      "840    15607.0  \n",
      "841    10196.0  \n",
      "\n"
     ]
    },
    {
     "data": {
      "image/png": "[encoded data removed]",
      "text/plain": [
       "<Figure size 640x480 with 1 Axes>"
      ]
     },
     "metadata": {},
     "output_type": "display_data"
    },
    {
     "name": "stdout",
     "output_type": "stream",
     "text": [
      "-------------------------------------------------\n",
      "\n",
      "    Provincia      Municipio  Poblacion\n",
      "155  Albacete        La Roda    16299.0\n",
      "156  Albacete  Villarrobledo    26686.0\n",
      "171  Albacete       Albacete   170475.0\n",
      "172  Albacete        Almansa    25654.0\n",
      "173  Albacete        Caudete    10450.0\n",
      "174  Albacete         Hellín    31109.0\n",
      "\n"
     ]
    },
    {
     "data": {
      "image/png": "[encoded data removed]",
      "text/plain": [
       "<Figure size 640x480 with 1 Axes>"
      ]
     },
     "metadata": {},
     "output_type": "display_data"
    },
    {
     "name": "stdout",
     "output_type": "stream",
     "text": [
      "-------------------------------------------------\n",
      "\n",
      "    Provincia             Municipio  Poblacion\n",
      "197   Almería                  Adra    24512.0\n",
      "198   Almería                 Albox    11042.0\n",
      "199   Almería               Almería   190013.0\n",
      "200   Almería                 Berja    15325.0\n",
      "201   Almería  Cuevas del Almanzora    12891.0\n",
      "202   Almería    Huércal de Almería    15628.0\n",
      "203   Almería         Huércal-Overa    18278.0\n",
      "204   Almería                 Níjar    28242.0\n",
      "205   Almería       Roquetas de Mar    85808.0\n",
      "206   Almería                  Vera    14371.0\n",
      "207   Almería                 Vícar    23410.0\n",
      "208   Almería              El Ejido    85389.0\n",
      "775   Almería       Roquetas de Mar    14636.0\n",
      "776   Almería              El Ejido    11059.0\n",
      "\n"
     ]
    },
    {
     "data": {
      "image/png": "[encoded data removed]",
      "text/plain": [
       "<Figure size 640x480 with 1 Axes>"
      ]
     },
     "metadata": {},
     "output_type": "display_data"
    },
    {
     "name": "stdout",
     "output_type": "stream",
     "text": [
      "-------------------------------------------------\n",
      "\n",
      "    Provincia                   Municipio  Poblacion\n",
      "110  Asturias           Cangas del Narcea    14445.0\n",
      "111  Asturias                       Grado    11003.0\n",
      "112  Asturias                      Valdés    13371.0\n",
      "113  Asturias                       Tineo    11018.0\n",
      "441  Asturias                       Aller    12582.0\n",
      "442  Asturias                      Avilés    84202.0\n",
      "443  Asturias                     Carreño    11000.0\n",
      "444  Asturias                  Castrillón    22832.0\n",
      "445  Asturias         Corvera de Asturias    16109.0\n",
      "446  Asturias                       Gijón   277198.0\n",
      "447  Asturias                       Gozón    10788.0\n",
      "448  Asturias                     Langreo    45397.0\n",
      "449  Asturias                     Laviana    14160.0\n",
      "450  Asturias                        Lena    12705.0\n",
      "451  Asturias                     Llanera    13919.0\n",
      "452  Asturias                      Llanes    13950.0\n",
      "453  Asturias                      Mieres    43688.0\n",
      "454  Asturias                      Oviedo   225155.0\n",
      "455  Asturias  San Martín del Rey Aurelio    18549.0\n",
      "456  Asturias                       Siero    51730.0\n",
      "457  Asturias                Villaviciosa    14840.0\n",
      "808  Asturias                      Oviedo    14511.0\n",
      "809  Asturias                       Siero    12625.0\n",
      "\n"
     ]
    },
    {
     "data": {
      "image/png": "[encoded data removed]",
      "text/plain": [
       "<Figure size 640x480 with 1 Axes>"
      ]
     },
     "metadata": {},
     "output_type": "display_data"
    },
    {
     "name": "stdout",
     "output_type": "stream",
     "text": [
      "-------------------------------------------------\n",
      "\n",
      "    Provincia                  Municipio  Poblacion\n",
      "41    Badajoz               Almendralejo    33975.0\n",
      "42    Badajoz                    Badajoz   150376.0\n",
      "43    Badajoz                     Mérida    57127.0\n",
      "44    Badajoz                    Montijo    16279.0\n",
      "45    Badajoz                   Olivenza    11906.0\n",
      "46    Badajoz  Villafranca de los Barros    13266.0\n",
      "47    Badajoz                      Zafra    16433.0\n",
      "210   Badajoz                 Don Benito    36227.0\n",
      "211   Badajoz    Villanueva de la Serena    26111.0\n",
      "\n"
     ]
    },
    {
     "data": {
      "image/png": "[encoded data removed]",
      "text/plain": [
       "<Figure size 640x480 with 1 Axes>"
      ]
     },
     "metadata": {},
     "output_type": "display_data"
    },
    {
     "name": "stdout",
     "output_type": "stream",
     "text": [
      "-------------------------------------------------\n",
      "\n",
      "     Provincia              Municipio  Poblacion\n",
      "620  Barcelona          Arenys de Mar    14688.0\n",
      "621  Barcelona              Argentona    11718.0\n",
      "622  Barcelona               Badalona   218886.0\n",
      "623  Barcelona              Barcelona  1619337.0\n",
      "624  Barcelona                  Berga    17161.0\n",
      "..         ...                    ...        ...\n",
      "746  Barcelona         Premià de Dalt    10064.0\n",
      "747  Barcelona              Vallirana    14200.0\n",
      "833  Barcelona      Parets del Vallès    10545.0\n",
      "834  Barcelona  Sant Cugat del Vallès    11928.0\n",
      "835  Barcelona     Sant Pere de Ribes    11624.0\n",
      "\n",
      "[84 rows x 3 columns]\n",
      "\n"
     ]
    },
    {
     "data": {
      "image/png": "[encoded data removed]",
      "text/plain": [
       "<Figure size 640x480 with 1 Axes>"
      ]
     },
     "metadata": {},
     "output_type": "display_data"
    },
    {
     "name": "stdout",
     "output_type": "stream",
     "text": [
      "-------------------------------------------------\n",
      "\n",
      "    Provincia        Municipio  Poblacion\n",
      "212    Burgos  Aranda de Duero    33154.0\n",
      "213    Burgos           Burgos   178574.0\n",
      "214    Burgos  Miranda de Ebro    39038.0\n",
      "\n"
     ]
    },
    {
     "data": {
      "image/png": "[encoded data removed]",
      "text/plain": [
       "<Figure size 640x480 with 1 Axes>"
      ]
     },
     "metadata": {},
     "output_type": "display_data"
    },
    {
     "name": "stdout",
     "output_type": "stream",
     "text": [
      "-------------------------------------------------\n",
      "\n",
      "     Provincia               Municipio  Poblacion\n",
      "462  Cantabria            El Astillero    17545.0\n",
      "463  Cantabria                 Camargo    31552.0\n",
      "464  Cantabria         Castro-Urdiales    32258.0\n",
      "465  Cantabria  Los Corrales de Buelna    11622.0\n",
      "466  Cantabria                  Laredo    12378.0\n",
      "467  Cantabria                Piélagos    21268.0\n",
      "468  Cantabria                 Reinosa    10277.0\n",
      "469  Cantabria    Santa Cruz de Bezana    11607.0\n",
      "470  Cantabria               Santander   181589.0\n",
      "471  Cantabria                 Santoña    11584.0\n",
      "472  Cantabria             Torrelavega    55888.0\n",
      "810  Cantabria               Santander    15717.0\n",
      "811  Cantabria               Santander    12927.0\n",
      "812  Cantabria             Torrelavega    11236.0\n",
      "\n"
     ]
    },
    {
     "data": {
      "image/png": "[encoded data removed]",
      "text/plain": [
       "<Figure size 640x480 with 1 Axes>"
      ]
     },
     "metadata": {},
     "output_type": "display_data"
    },
    {
     "name": "stdout",
     "output_type": "stream",
     "text": [
      "-------------------------------------------------\n",
      "\n",
      "              Provincia                                   Municipio  Poblacion\n",
      "229  Castelló/Castellón                                    L'Alcora    11029.0\n",
      "230  Castelló/Castellón                          Almazora/Almassora    25628.0\n",
      "231  Castelló/Castellón                           Borriana/Burriana    34896.0\n",
      "232  Castelló/Castellón  Castellón de la Plana/Castelló de la Plana   180690.0\n",
      "233  Castelló/Castellón                                       Nules    13750.0\n",
      "234  Castelló/Castellón                                        Onda    25778.0\n",
      "235  Castelló/Castellón                              La Vall d'Uixó    32983.0\n",
      "236  Castelló/Castellón                                   Vila-real    51367.0\n",
      "698  Castelló/Castellón                                   Benicarló    26616.0\n",
      "699  Castelló/Castellón                        Benicasim/Benicàssim    18206.0\n",
      "700  Castelló/Castellón                      Oropesa del Mar/Orpesa    10787.0\n",
      "701  Castelló/Castellón                                     Vinaròs    28291.0\n",
      "851  Castelló/Castellón  Castellón de la Plana/Castelló de la Plana    16367.0\n",
      "\n"
     ]
    },
    {
     "data": {
      "image/png": "[encoded data removed]",
      "text/plain": [
       "<Figure size 640x480 with 1 Axes>"
      ]
     },
     "metadata": {},
     "output_type": "display_data"
    },
    {
     "name": "stdout",
     "output_type": "stream",
     "text": [
      "-------------------------------------------------\n",
      "\n",
      "    Provincia Municipio  Poblacion\n",
      "592     Ceuta     Ceuta    80579.0\n",
      "\n"
     ]
    },
    {
     "data": {
      "image/png": "[encoded data removed]",
      "text/plain": [
       "<Figure size 640x480 with 1 Axes>"
      ]
     },
     "metadata": {},
     "output_type": "display_data"
    },
    {
     "name": "stdout",
     "output_type": "stream",
     "text": [
      "-------------------------------------------------\n",
      "\n",
      "       Provincia                Municipio  Poblacion\n",
      "237  Ciudad Real      Alcázar de San Juan    31120.0\n",
      "238  Ciudad Real     Bolaños de Calatrava    12236.0\n",
      "239  Ciudad Real        Campo de Criptana    15048.0\n",
      "240  Ciudad Real              Ciudad Real    74345.0\n",
      "241  Ciudad Real                  Daimiel    18656.0\n",
      "242  Ciudad Real               Manzanares    19242.0\n",
      "243  Ciudad Real              Miguelturra    14312.0\n",
      "244  Ciudad Real              Puertollano    52300.0\n",
      "245  Ciudad Real              Socuéllamos    13651.0\n",
      "246  Ciudad Real                La Solana    16324.0\n",
      "247  Ciudad Real                Tomelloso    38641.0\n",
      "248  Ciudad Real               Valdepeñas    31370.0\n",
      "249  Ciudad Real  Villarrubia de los Ojos    11119.0\n",
      "\n"
     ]
    },
    {
     "data": {
      "image/png": "[encoded data removed]",
      "text/plain": [
       "<Figure size 640x480 with 1 Axes>"
      ]
     },
     "metadata": {},
     "output_type": "display_data"
    },
    {
     "name": "stdout",
     "output_type": "stream",
     "text": [
      "-------------------------------------------------\n",
      "\n",
      "    Provincia Municipio  Poblacion\n",
      "264    Cuenca    Cuenca    56189.0\n",
      "265    Cuenca  Tarancón    15732.0\n",
      "\n"
     ]
    },
    {
     "data": {
      "image/png": "[encoded data removed]",
      "text/plain": [
       "<Figure size 640x480 with 1 Axes>"
      ]
     },
     "metadata": {},
     "output_type": "display_data"
    },
    {
     "name": "stdout",
     "output_type": "stream",
     "text": [
      "-------------------------------------------------\n",
      "\n",
      "    Provincia              Municipio  Poblacion\n",
      "48    Cáceres                Cáceres    94179.0\n",
      "49    Cáceres                  Coria    12962.0\n",
      "50    Cáceres              Plasencia    41447.0\n",
      "215   Cáceres               Miajadas    10323.0\n",
      "216   Cáceres  Navalmoral de la Mata    17309.0\n",
      "\n"
     ]
    },
    {
     "data": {
      "image/png": "[encoded data removed]",
      "text/plain": [
       "<Figure size 640x480 with 1 Axes>"
      ]
     },
     "metadata": {},
     "output_type": "display_data"
    },
    {
     "name": "stdout",
     "output_type": "stream",
     "text": [
      "-------------------------------------------------\n",
      "\n",
      "    Provincia                  Municipio  Poblacion\n",
      "51      Cádiz                      Cádiz   125826.0\n",
      "52      Cádiz       Conil de la Frontera    21331.0\n",
      "53      Cádiz    Chiclana de la Frontera    78591.0\n",
      "54      Cádiz                   Chipiona    18722.0\n",
      "55      Cádiz       Jerez de la Frontera   208896.0\n",
      "56      Cádiz   El Puerto de Santa María    88503.0\n",
      "57      Cádiz                Puerto Real    40667.0\n",
      "58      Cádiz                       Rota    28904.0\n",
      "59      Cádiz               San Fernando    96689.0\n",
      "60      Cádiz      Sanlúcar de Barrameda    66541.0\n",
      "217     Cádiz                  Algeciras   116417.0\n",
      "218     Cádiz       Arcos de la Frontera    31449.0\n",
      "219     Cádiz                    Barbate    22977.0\n",
      "220     Cádiz                Los Barrios    22587.0\n",
      "221     Cádiz      Jimena de la Frontera    10440.0\n",
      "222     Cádiz  La Línea de la Concepción    64645.0\n",
      "223     Cádiz             Medina-Sidonia    11741.0\n",
      "224     Cádiz                  San Roque    29588.0\n",
      "225     Cádiz                     Tarifa    17768.0\n",
      "226     Cádiz                    Ubrique    16915.0\n",
      "227     Cádiz       Vejer de la Frontera    12876.0\n",
      "228     Cádiz                Villamartín    12570.0\n",
      "770     Cádiz   El Puerto de Santa María    11628.0\n",
      "771     Cádiz      Sanlúcar de Barrameda    10260.0\n",
      "\n"
     ]
    },
    {
     "data": {
      "image/png": "[encoded data removed]",
      "text/plain": [
       "<Figure size 640x480 with 1 Axes>"
      ]
     },
     "metadata": {},
     "output_type": "display_data"
    },
    {
     "name": "stdout",
     "output_type": "stream",
     "text": [
      "-------------------------------------------------\n",
      "\n",
      "    Provincia               Municipio  Poblacion\n",
      "250   Córdoba  Aguilar de la Frontera    13693.0\n",
      "251   Córdoba                   Baena    20862.0\n",
      "252   Córdoba                   Cabra    21266.0\n",
      "253   Córdoba              La Carlota    13469.0\n",
      "254   Córdoba                 Córdoba   328547.0\n",
      "255   Córdoba          Fuente Palmera    10865.0\n",
      "256   Córdoba                  Lucena    42308.0\n",
      "257   Córdoba                Montilla    23907.0\n",
      "258   Córdoba           Palma del Río    21605.0\n",
      "259   Córdoba   Peñarroya-Pueblonuevo    11814.0\n",
      "260   Córdoba              Pozoblanco    17796.0\n",
      "261   Córdoba       Priego de Córdoba    23563.0\n",
      "262   Córdoba            Puente Genil    30245.0\n",
      "263   Córdoba                    Rute    10563.0\n",
      "\n"
     ]
    },
    {
     "data": {
      "image/png": "[encoded data removed]",
      "text/plain": [
       "<Figure size 640x480 with 1 Axes>"
      ]
     },
     "metadata": {},
     "output_type": "display_data"
    },
    {
     "name": "stdout",
     "output_type": "stream",
     "text": [
      "-------------------------------------------------\n",
      "\n",
      "    Provincia                Municipio  Poblacion\n",
      "702    Girona                 Banyoles    18780.0\n",
      "703    Girona      La Bisbal d'Empordà    10397.0\n",
      "704    Girona                   Blanes    40010.0\n",
      "705    Girona                  Calonge    10789.0\n",
      "706    Girona      Castelló d'Empúries    12220.0\n",
      "707    Girona     Castell-Platja d'Aro    10445.0\n",
      "708    Girona                 L'Escala    10387.0\n",
      "709    Girona                 Figueres    44255.0\n",
      "710    Girona                   Girona    96236.0\n",
      "711    Girona            Lloret de Mar    39794.0\n",
      "712    Girona                     Olot    33589.0\n",
      "713    Girona              Palafrugell    22622.0\n",
      "714    Girona                  Palamós    18057.0\n",
      "715    Girona                   Ripoll    10991.0\n",
      "716    Girona                    Roses    20418.0\n",
      "717    Girona                     Salt    30304.0\n",
      "718    Girona    Sant Feliu de Guíxols    21975.0\n",
      "719    Girona  Santa Coloma de Farners    11948.0\n",
      "720    Girona     Torroella de Montgrí    11522.0\n",
      "\n"
     ]
    },
    {
     "data": {
      "image/png": "[encoded data removed]",
      "text/plain": [
       "<Figure size 640x480 with 1 Axes>"
      ]
     },
     "metadata": {},
     "output_type": "display_data"
    },
    {
     "name": "stdout",
     "output_type": "stream",
     "text": [
      "-------------------------------------------------\n",
      "\n",
      "    Provincia             Municipio  Poblacion\n",
      "266   Granada              Albolote    17637.0\n",
      "267   Granada             Almuñécar    27703.0\n",
      "268   Granada               Armilla    21895.0\n",
      "269   Granada                Atarfe    15945.0\n",
      "270   Granada                  Baza    21982.0\n",
      "271   Granada  Churriana de la Vega    12448.0\n",
      "272   Granada               Granada   239154.0\n",
      "273   Granada                Guadix    20407.0\n",
      "274   Granada           Huétor Vega    11551.0\n",
      "275   Granada                Illora    10386.0\n",
      "276   Granada                  Loja    21688.0\n",
      "277   Granada              Maracena    21097.0\n",
      "278   Granada                Motril    60884.0\n",
      "279   Granada              Ogíjares    13255.0\n",
      "280   Granada              Peligros    11000.0\n",
      "281   Granada          Pinos Puente    13421.0\n",
      "282   Granada             Salobreña    12821.0\n",
      "283   Granada              Santa Fe    15428.0\n",
      "284   Granada              La Zubia    18240.0\n",
      "285   Granada            Las Gabias    17415.0\n",
      "\n"
     ]
    },
    {
     "data": {
      "image/png": "[encoded data removed]",
      "text/plain": [
       "<Figure size 640x480 with 1 Axes>"
      ]
     },
     "metadata": {},
     "output_type": "display_data"
    },
    {
     "name": "stdout",
     "output_type": "stream",
     "text": [
      "-------------------------------------------------\n",
      "\n",
      "       Provincia            Municipio  Poblacion\n",
      "286  Guadalajara              Alovera    11306.0\n",
      "287  Guadalajara  Azuqueca de Henares    33735.0\n",
      "288  Guadalajara             El Casar    10543.0\n",
      "289  Guadalajara          Guadalajara    83789.0\n",
      "\n"
     ]
    },
    {
     "data": {
      "image/png": "[encoded data removed]",
      "text/plain": [
       "<Figure size 640x480 with 1 Axes>"
      ]
     },
     "metadata": {},
     "output_type": "display_data"
    },
    {
     "name": "stdout",
     "output_type": "stream",
     "text": [
      "-------------------------------------------------\n",
      "\n",
      "     Provincia               Municipio  Poblacion\n",
      "290  Guipúzcoa                 Andoain    14662.0\n",
      "291  Guipúzcoa                Azkoitia    11351.0\n",
      "292  Guipúzcoa                Azpeitia    14305.0\n",
      "293  Guipúzcoa                 Beasain    13680.0\n",
      "294  Guipúzcoa                   Eibar    27378.0\n",
      "295  Guipúzcoa                Elgoibar    11324.0\n",
      "296  Guipúzcoa             Hondarribia    16464.0\n",
      "297  Guipúzcoa                 Hernani    19285.0\n",
      "298  Guipúzcoa                    Irun    60938.0\n",
      "299  Guipúzcoa      Arrasate/Mondragón    22011.0\n",
      "300  Guipúzcoa                   Oñati    10957.0\n",
      "301  Guipúzcoa                  Pasaia    15977.0\n",
      "302  Guipúzcoa              Errenteria    39020.0\n",
      "303  Guipúzcoa  Donostia-San Sebastián   185506.0\n",
      "304  Guipúzcoa                  Tolosa    18095.0\n",
      "305  Guipúzcoa                 Bergara    14637.0\n",
      "306  Guipúzcoa                 Zarautz    22658.0\n",
      "307  Guipúzcoa               Zumarraga    10037.0\n",
      "308  Guipúzcoa            Lasarte-Oria    17856.0\n",
      "\n"
     ]
    },
    {
     "data": {
      "image/png": "[encoded data removed]",
      "text/plain": [
       "<Figure size 640x480 with 1 Axes>"
      ]
     },
     "metadata": {},
     "output_type": "display_data"
    },
    {
     "name": "stdout",
     "output_type": "stream",
     "text": [
      "-------------------------------------------------\n",
      "\n",
      "   Provincia                  Municipio  Poblacion\n",
      "83    Huelva                  Aljaraque    18443.0\n",
      "84    Huelva                    Almonte    22204.0\n",
      "85    Huelva                   Ayamonte    20597.0\n",
      "86    Huelva  Bollullos Par del Condado    13959.0\n",
      "87    Huelva                    Cartaya    18415.0\n",
      "88    Huelva                  Gibraleón    12392.0\n",
      "89    Huelva                     Huelva   149310.0\n",
      "90    Huelva              Isla Cristina    21719.0\n",
      "91    Huelva                       Lepe    26763.0\n",
      "92    Huelva                     Moguer    20040.0\n",
      "93    Huelva       La Palma del Condado    10475.0\n",
      "94    Huelva               Punta Umbría    14714.0\n",
      "95    Huelva        Valverde del Camino    12746.0\n",
      "\n"
     ]
    },
    {
     "data": {
      "image/png": "[encoded data removed]",
      "text/plain": [
       "<Figure size 640x480 with 1 Axes>"
      ]
     },
     "metadata": {},
     "output_type": "display_data"
    },
    {
     "name": "stdout",
     "output_type": "stream",
     "text": [
      "-------------------------------------------------\n",
      "\n",
      "    Provincia   Municipio  Poblacion\n",
      "309    Huesca      Huesca    52347.0\n",
      "310    Huesca        Jaca    13374.0\n",
      "311    Huesca  Sabiñánigo    10383.0\n",
      "721    Huesca   Barbastro    17080.0\n",
      "722    Huesca       Fraga    14539.0\n",
      "723    Huesca      Monzón    17115.0\n",
      "\n"
     ]
    },
    {
     "data": {
      "image/png": "[encoded data removed]",
      "text/plain": [
       "<Figure size 640x480 with 1 Axes>"
      ]
     },
     "metadata": {},
     "output_type": "display_data"
    },
    {
     "name": "stdout",
     "output_type": "stream",
     "text": [
      "-------------------------------------------------\n",
      "\n",
      "         Provincia                Municipio  Poblacion\n",
      "598  Illes Balears                  Alcúdia    19112.0\n",
      "599  Illes Balears                  Andratx    11682.0\n",
      "600  Illes Balears                   Calvià    51462.0\n",
      "601  Illes Balears                Capdepera    11929.0\n",
      "602  Illes Balears    Ciutadella de Menorca    29247.0\n",
      "603  Illes Balears                 Felanitx    18225.0\n",
      "604  Illes Balears                  Eivissa    49516.0\n",
      "605  Illes Balears                     Inca    29321.0\n",
      "606  Illes Balears                Llucmajor    36681.0\n",
      "607  Illes Balears                      Maó    29050.0\n",
      "608  Illes Balears                  Manacor    40859.0\n",
      "609  Illes Balears                 Marratxí    33883.0\n",
      "610  Illes Balears                    Palma   404681.0\n",
      "611  Illes Balears                 Pollença    16981.0\n",
      "612  Illes Balears                 Sa Pobla    12831.0\n",
      "613  Illes Balears  Sant Antoni de Portmany    22136.0\n",
      "614  Illes Balears  Sant Josep de sa Talaia    22871.0\n",
      "615  Illes Balears    Santa Eulalia del Río    32637.0\n",
      "616  Illes Balears          Santa Margalida    11626.0\n",
      "617  Illes Balears                 Santanyí    12823.0\n",
      "618  Illes Balears                   Sóller    14075.0\n",
      "619  Illes Balears              Son Servera    12286.0\n",
      "825  Illes Balears                   Calvià    11033.0\n",
      "826  Illes Balears                Llucmajor    10242.0\n",
      "827  Illes Balears                 Marratxí    18565.0\n",
      "828  Illes Balears                    Palma    10601.0\n",
      "829  Illes Balears                    Palma    15211.0\n",
      "830  Illes Balears                    Palma    23356.0\n",
      "831  Illes Balears                    Palma    11747.0\n",
      "832  Illes Balears    Santa Eulalia del Río    16514.0\n",
      "\n"
     ]
    },
    {
     "data": {
      "image/png": "[encoded data removed]",
      "text/plain": [
       "<Figure size 640x480 with 1 Axes>"
      ]
     },
     "metadata": {},
     "output_type": "display_data"
    },
    {
     "name": "stdout",
     "output_type": "stream",
     "text": [
      "-------------------------------------------------\n",
      "\n",
      "    Provincia        Municipio  Poblacion\n",
      "312      Jaén   Alcalá la Real    22759.0\n",
      "313      Jaén        Alcaudete    11135.0\n",
      "314      Jaén          Andújar    39171.0\n",
      "315      Jaén            Baeza    16360.0\n",
      "316      Jaén           Bailén    18763.0\n",
      "317      Jaén      La Carolina    15901.0\n",
      "318      Jaén             Jaén   116790.0\n",
      "319      Jaén            Jódar    12117.0\n",
      "320      Jaén          Linares    61306.0\n",
      "321      Jaén      Mancha Real    11088.0\n",
      "322      Jaén           Martos    24707.0\n",
      "323      Jaén  Torre del Campo    14657.0\n",
      "324      Jaén   Torredonjimeno    14112.0\n",
      "325      Jaén            Úbeda    36025.0\n",
      "326      Jaén    Villacarrillo    11278.0\n",
      "\n"
     ]
    },
    {
     "data": {
      "image/png": "[encoded data removed]",
      "text/plain": [
       "<Figure size 640x480 with 1 Axes>"
      ]
     },
     "metadata": {},
     "output_type": "display_data"
    },
    {
     "name": "stdout",
     "output_type": "stream",
     "text": [
      "-------------------------------------------------\n",
      "\n",
      "    Provincia  Municipio  Poblacion\n",
      "331  La Rioja     Arnedo    14425.0\n",
      "332  La Rioja  Calahorra    24876.0\n",
      "333  La Rioja       Haro    11960.0\n",
      "334  La Rioja    Logroño   152650.0\n",
      "\n"
     ]
    },
    {
     "data": {
      "image/png": "[encoded data removed]",
      "text/plain": [
       "<Figure size 640x480 with 1 Axes>"
      ]
     },
     "metadata": {},
     "output_type": "display_data"
    },
    {
     "name": "stdout",
     "output_type": "stream",
     "text": [
      "-------------------------------------------------\n",
      "\n",
      "      Provincia                            Municipio  Poblacion\n",
      "0    Las Palmas                              Agüimes    29431.0\n",
      "1    Las Palmas                              Antigua    10458.0\n",
      "2    Las Palmas                             Arrecife    58156.0\n",
      "3    Las Palmas                               Arucas    36745.0\n",
      "4    Las Palmas                               Gáldar    24473.0\n",
      "5    Las Palmas                              Ingenio    29640.0\n",
      "6    Las Palmas                                Mogán    22638.0\n",
      "7    Las Palmas                             La Oliva    22351.0\n",
      "8    Las Palmas                               Pájara    20622.0\n",
      "9    Las Palmas           Las Palmas de Gran Canaria   383308.0\n",
      "10   Las Palmas                   Puerto del Rosario    35702.0\n",
      "11   Las Palmas                        San Bartolomé    18161.0\n",
      "12   Las Palmas                        Santa Brígida    19135.0\n",
      "13   Las Palmas              Santa Lucía de Tirajana    64845.0\n",
      "14   Las Palmas  Santa María de Guía de Gran Canaria    14200.0\n",
      "15   Las Palmas                              Teguise    20105.0\n",
      "16   Las Palmas                                Telde   100900.0\n",
      "17   Las Palmas                                Teror    12944.0\n",
      "18   Las Palmas                                 Tías    19869.0\n",
      "19   Las Palmas                              Tuineje    13536.0\n",
      "20   Las Palmas                                Yaiza    14242.0\n",
      "750  Las Palmas            San Bartolomé de Tirajana    53288.0\n",
      "752  Las Palmas                              Ingenio    12429.0\n",
      "753  Las Palmas                             La Oliva    14425.0\n",
      "754  Las Palmas           Las Palmas de Gran Canaria    25171.0\n",
      "755  Las Palmas           Las Palmas de Gran Canaria    12698.0\n",
      "756  Las Palmas                        San Bartolomé    10220.0\n",
      "757  Las Palmas            San Bartolomé de Tirajana    18823.0\n",
      "758  Las Palmas              Santa Lucía de Tirajana    24514.0\n",
      "759  Las Palmas              Santa Lucía de Tirajana    15012.0\n",
      "760  Las Palmas              Santa Lucía de Tirajana    11583.0\n",
      "761  Las Palmas                                Telde    15768.0\n",
      "762  Las Palmas                                 Tías    11160.0\n",
      "763  Las Palmas                                Yaiza    10759.0\n",
      "839  Las Palmas                                Telde    13096.0\n",
      "\n"
     ]
    },
    {
     "data": {
      "image/png": "[encoded data removed]",
      "text/plain": [
       "<Figure size 640x480 with 1 Axes>"
      ]
     },
     "metadata": {},
     "output_type": "display_data"
    },
    {
     "name": "stdout",
     "output_type": "stream",
     "text": [
      "-------------------------------------------------\n",
      "\n",
      "    Provincia                Municipio  Poblacion\n",
      "96       León                  Astorga    12015.0\n",
      "97       León                 Bembibre    10097.0\n",
      "98       León               Ponferrada    68767.0\n",
      "99       León               Villablino    10553.0\n",
      "327      León                La Bañeza    11050.0\n",
      "328      León                     León   134012.0\n",
      "329      León  San Andrés del Rabanedo    31306.0\n",
      "330      León           Villaquilambre    17631.0\n",
      "751      León  San Andrés del Rabanedo    21231.0\n",
      "\n"
     ]
    },
    {
     "data": {
      "image/png": "[encoded data removed]",
      "text/plain": [
       "<Figure size 640x480 with 1 Axes>"
      ]
     },
     "metadata": {},
     "output_type": "display_data"
    },
    {
     "name": "stdout",
     "output_type": "stream",
     "text": [
      "-------------------------------------------------\n",
      "\n",
      "    Provincia        Municipio  Poblacion\n",
      "724    Lleida         Balaguer    16766.0\n",
      "725    Lleida           Lleida   137387.0\n",
      "726    Lleida       Mollerussa    14733.0\n",
      "727    Lleida  La Seu d'Urgell    13060.0\n",
      "728    Lleida          Tàrrega    17189.0\n",
      "\n"
     ]
    },
    {
     "data": {
      "image/png": "[encoded data removed]",
      "text/plain": [
       "<Figure size 640x480 with 1 Axes>"
      ]
     },
     "metadata": {},
     "output_type": "display_data"
    },
    {
     "name": "stdout",
     "output_type": "stream",
     "text": [
      "-------------------------------------------------\n",
      "\n",
      "    Provincia          Municipio  Poblacion\n",
      "100      Lugo               Lugo    97635.0\n",
      "101      Lugo  Monforte de Lemos    19638.0\n",
      "102      Lugo             Sarria    13611.0\n",
      "103      Lugo            Vilalba    15327.0\n",
      "104      Lugo            Viveiro    16211.0\n",
      "\n"
     ]
    },
    {
     "data": {
      "image/png": "[encoded data removed]",
      "text/plain": [
       "<Figure size 640x480 with 1 Axes>"
      ]
     },
     "metadata": {},
     "output_type": "display_data"
    },
    {
     "name": "stdout",
     "output_type": "stream",
     "text": [
      "-------------------------------------------------\n",
      "\n",
      "    Provincia                   Municipio  Poblacion\n",
      "335    Madrid           Alcalá de Henares   204120.0\n",
      "336    Madrid                  Alcobendas   110080.0\n",
      "337    Madrid                    Alcorcón   168299.0\n",
      "338    Madrid                      Algete    20481.0\n",
      "339    Madrid                   Alpedrete    13163.0\n",
      "340    Madrid                    Aranjuez    55054.0\n",
      "341    Madrid             Arganda del Rey    53135.0\n",
      "342    Madrid               Arroyomolinos    16207.0\n",
      "343    Madrid          Boadilla del Monte    44709.0\n",
      "344    Madrid                Ciempozuelos    22656.0\n",
      "345    Madrid              Colmenar Viejo    44437.0\n",
      "346    Madrid            Collado Villalba    59900.0\n",
      "347    Madrid                     Coslada    91218.0\n",
      "348    Madrid                 El Escorial    15108.0\n",
      "349    Madrid                 Fuenlabrada   198973.0\n",
      "350    Madrid                   Galapagar    32393.0\n",
      "351    Madrid                      Getafe   169130.0\n",
      "352    Madrid                  Guadarrama    15155.0\n",
      "353    Madrid           Humanes de Madrid    18541.0\n",
      "354    Madrid                     Leganés   187227.0\n",
      "355    Madrid                      Madrid  3273049.0\n",
      "356    Madrid                 Majadahonda    69439.0\n",
      "357    Madrid                        Meco    12580.0\n",
      "358    Madrid          Mejorada del Campo    22812.0\n",
      "359    Madrid                 Moralzarzal    11801.0\n",
      "360    Madrid                    Móstoles   206015.0\n",
      "361    Madrid                Navalcarnero    23115.0\n",
      "362    Madrid       Paracuellos de Jarama    16219.0\n",
      "363    Madrid                       Parla   120182.0\n",
      "364    Madrid                       Pinto    44524.0\n",
      "365    Madrid          Pozuelo de Alarcón    82804.0\n",
      "366    Madrid           Rivas-Vaciamadrid    70840.0\n",
      "367    Madrid         Las Rozas de Madrid    88065.0\n",
      "368    Madrid    San Agustín del Guadalix    11885.0\n",
      "369    Madrid     San Fernando de Henares    41384.0\n",
      "370    Madrid  San Lorenzo de El Escorial    18352.0\n",
      "371    Madrid       San Martín de la Vega    18863.0\n",
      "372    Madrid  San Sebastián de los Reyes    78157.0\n",
      "373    Madrid           Torrejón de Ardoz   118441.0\n",
      "374    Madrid                Torrelodones    22117.0\n",
      "375    Madrid                Valdemorillo    11210.0\n",
      "376    Madrid                   Valdemoro    65922.0\n",
      "377    Madrid      Velilla de San Antonio    11668.0\n",
      "378    Madrid     Villanueva de la Cañada    17271.0\n",
      "379    Madrid     Villanueva del Pardillo    15609.0\n",
      "380    Madrid        Villaviciosa de Odón    26725.0\n",
      "381    Madrid                 Tres Cantos    41147.0\n",
      "777    Madrid          Boadilla del Monte    11042.0\n",
      "778    Madrid            Collado Villalba    42388.0\n",
      "779    Madrid                 Fuenlabrada    27955.0\n",
      "780    Madrid                      Getafe    12814.0\n",
      "781    Madrid                     Leganés    12840.0\n",
      "782    Madrid                    Móstoles    10506.0\n",
      "783    Madrid          Pozuelo de Alarcón    14800.0\n",
      "784    Madrid           Rivas-Vaciamadrid    57757.0\n",
      "785    Madrid         Las Rozas de Madrid    45028.0\n",
      "\n"
     ]
    },
    {
     "data": {
      "image/png": "[encoded data removed]",
      "text/plain": [
       "<Figure size 640x480 with 1 Axes>"
      ]
     },
     "metadata": {},
     "output_type": "display_data"
    },
    {
     "name": "stdout",
     "output_type": "stream",
     "text": [
      "-------------------------------------------------\n",
      "\n",
      "    Provincia Municipio  Poblacion\n",
      "749   Melilla   Melilla    76034.0\n",
      "\n"
     ]
    },
    {
     "data": {
      "image/png": "[encoded data removed]",
      "text/plain": [
       "<Figure size 640x480 with 1 Axes>"
      ]
     },
     "metadata": {},
     "output_type": "display_data"
    },
    {
     "name": "stdout",
     "output_type": "stream",
     "text": [
      "-------------------------------------------------\n",
      "\n",
      "    Provincia               Municipio  Poblacion\n",
      "401    Murcia                  Abarán    12974.0\n",
      "402    Murcia                 Águilas    34900.0\n",
      "403    Murcia            Alcantarilla    41326.0\n",
      "404    Murcia        Alhama de Murcia    20269.0\n",
      "405    Murcia                 Archena    18135.0\n",
      "406    Murcia                  Beniel    11027.0\n",
      "407    Murcia                  Bullas    12424.0\n",
      "408    Murcia              Calasparra    10851.0\n",
      "409    Murcia     Caravaca de la Cruz    26449.0\n",
      "410    Murcia               Cartagena   214165.0\n",
      "411    Murcia                 Cehegín    16299.0\n",
      "412    Murcia                   Ceutí    10448.0\n",
      "413    Murcia                   Cieza    35385.0\n",
      "414    Murcia  Fuente Álamo de Murcia    15193.0\n",
      "415    Murcia                 Jumilla    26015.0\n",
      "417    Murcia                Mazarrón    35464.0\n",
      "418    Murcia        Molina de Segura    65815.0\n",
      "419    Murcia                    Mula    17076.0\n",
      "420    Murcia                  Murcia   441345.0\n",
      "421    Murcia        Puerto Lumbreras    14120.0\n",
      "422    Murcia              San Javier    31820.0\n",
      "423    Murcia   San Pedro del Pinatar    23903.0\n",
      "424    Murcia           Torre-Pacheco    32471.0\n",
      "425    Murcia  Las Torres de Cotillas    21282.0\n",
      "426    Murcia                  Totana    29333.0\n",
      "427    Murcia                La Unión    18366.0\n",
      "428    Murcia                   Yecla    34945.0\n",
      "429    Murcia               Santomera    15481.0\n",
      "430    Murcia           Los Alcázares    15993.0\n",
      "798    Murcia               Cartagena    15270.0\n",
      "799    Murcia               Cartagena    24350.0\n",
      "800    Murcia                   Lorca    59683.0\n",
      "801    Murcia                Mazarrón    10967.0\n",
      "802    Murcia        Molina de Segura    12498.0\n",
      "803    Murcia                  Murcia    11233.0\n",
      "804    Murcia                  Murcia    23025.0\n",
      "805    Murcia                  Murcia    11812.0\n",
      "806    Murcia                  Murcia    12039.0\n",
      "807    Murcia                  Murcia    15119.0\n",
      "843    Murcia                   Lorca    12790.0\n",
      "844    Murcia                   Lorca    11905.0\n",
      "845    Murcia                   Lorca    10746.0\n",
      "846    Murcia                  Murcia    21879.0\n",
      "847    Murcia                  Murcia    14192.0\n",
      "848    Murcia                  Murcia    13349.0\n",
      "849    Murcia                  Murcia    15208.0\n",
      "\n"
     ]
    },
    {
     "data": {
      "image/png": "[encoded data removed]",
      "text/plain": [
       "<Figure size 640x480 with 1 Axes>"
      ]
     },
     "metadata": {},
     "output_type": "display_data"
    },
    {
     "name": "stdout",
     "output_type": "stream",
     "text": [
      "-------------------------------------------------\n",
      "\n",
      "    Provincia              Municipio  Poblacion\n",
      "382    Málaga   Alhaurín de la Torre    35832.0\n",
      "383    Málaga     Alhaurín el Grande    23675.0\n",
      "384    Málaga                  Álora    13474.0\n",
      "385    Málaga              Antequera    45234.0\n",
      "386    Málaga            Benalmádena    61383.0\n",
      "387    Málaga                Cártama    22173.0\n",
      "388    Málaga                   Coín    22030.0\n",
      "389    Málaga               Estepona    66150.0\n",
      "390    Málaga             Fuengirola    71783.0\n",
      "391    Málaga                 Málaga   568507.0\n",
      "392    Málaga                Manilva    14168.0\n",
      "393    Málaga               Marbella   136322.0\n",
      "394    Málaga                  Mijas    76362.0\n",
      "395    Málaga                  Nerja    21957.0\n",
      "396    Málaga  Rincón de la Victoria    39922.0\n",
      "397    Málaga                  Ronda    36909.0\n",
      "398    Málaga                 Torrox    17303.0\n",
      "399    Málaga           Vélez-Málaga    75623.0\n",
      "400    Málaga           Torremolinos    66957.0\n",
      "786    Málaga   Alhaurín de la Torre    12637.0\n",
      "787    Málaga            Benalmádena    52061.0\n",
      "788    Málaga                Cártama    11813.0\n",
      "789    Málaga                 Málaga    17349.0\n",
      "790    Málaga                 Málaga    18505.0\n",
      "791    Málaga               Marbella    14441.0\n",
      "792    Málaga               Marbella    33891.0\n",
      "793    Málaga                  Mijas    41299.0\n",
      "794    Málaga                  Mijas    25364.0\n",
      "795    Málaga  Rincón de la Victoria    12595.0\n",
      "796    Málaga                 Torrox    10616.0\n",
      "797    Málaga           Vélez-Málaga    21368.0\n",
      "842    Málaga                  Mijas    15136.0\n",
      "\n"
     ]
    },
    {
     "data": {
      "image/png": "[encoded data removed]",
      "text/plain": [
       "<Figure size 640x480 with 1 Axes>"
      ]
     },
     "metadata": {},
     "output_type": "display_data"
    },
    {
     "name": "stdout",
     "output_type": "stream",
     "text": [
      "-------------------------------------------------\n",
      "\n",
      "    Provincia                  Municipio  Poblacion\n",
      "416   Navarra                      Lorca    92694.0\n",
      "431   Navarra           Ansoáin/Antsoain    10603.0\n",
      "432   Navarra            Burlada/Burlata    18389.0\n",
      "433   Navarra                      Egüés    14354.0\n",
      "434   Navarra            Estella/Lizarra    14207.0\n",
      "435   Navarra             Pamplona/Iruña   197488.0\n",
      "436   Navarra                    Tafalla    11413.0\n",
      "437   Navarra                     Tudela    35268.0\n",
      "438   Navarra          Villava/Atarrabia    10568.0\n",
      "439   Navarra                   Barañain    21705.0\n",
      "440   Navarra  Zizur Mayor/Zizur Nagusia    13316.0\n",
      "\n"
     ]
    },
    {
     "data": {
      "image/png": "[encoded data removed]",
      "text/plain": [
       "<Figure size 640x480 with 1 Axes>"
      ]
     },
     "metadata": {},
     "output_type": "display_data"
    },
    {
     "name": "stdout",
     "output_type": "stream",
     "text": [
      "-------------------------------------------------\n",
      "\n",
      "    Provincia              Municipio  Poblacion\n",
      "105   Ourense  O Barco de Valdeorras    14134.0\n",
      "106   Ourense           O Carballiño    14136.0\n",
      "107   Ourense         Xinzo de Limia    10245.0\n",
      "108   Ourense                Ourense   108673.0\n",
      "109   Ourense                  Verín    14633.0\n",
      "\n"
     ]
    },
    {
     "data": {
      "image/png": "[encoded data removed]",
      "text/plain": [
       "<Figure size 640x480 with 1 Axes>"
      ]
     },
     "metadata": {},
     "output_type": "display_data"
    },
    {
     "name": "stdout",
     "output_type": "stream",
     "text": [
      "-------------------------------------------------\n",
      "\n",
      "    Provincia Municipio  Poblacion\n",
      "458  Palencia  Palencia    82169.0\n",
      "\n"
     ]
    },
    {
     "data": {
      "image/png": "[encoded data removed]",
      "text/plain": [
       "<Figure size 640x480 with 1 Axes>"
      ]
     },
     "metadata": {},
     "output_type": "display_data"
    },
    {
     "name": "stdout",
     "output_type": "stream",
     "text": [
      "-------------------------------------------------\n",
      "\n",
      "      Provincia             Municipio  Poblacion\n",
      "114  Pontevedra                  Bueu    12368.0\n",
      "115  Pontevedra        Caldas de Reis    10045.0\n",
      "116  Pontevedra              Cambados    13872.0\n",
      "117  Pontevedra                Cangas    25913.0\n",
      "118  Pontevedra             A Estrada    21828.0\n",
      "119  Pontevedra              Gondomar    13890.0\n",
      "120  Pontevedra               O Grove    11297.0\n",
      "121  Pontevedra              A Guarda    10472.0\n",
      "122  Pontevedra                 Lalín    21216.0\n",
      "123  Pontevedra                 Marín    25997.0\n",
      "124  Pontevedra                 Moaña    19231.0\n",
      "125  Pontevedra                   Mos    14818.0\n",
      "126  Pontevedra                Nigrán    17909.0\n",
      "127  Pontevedra            Pontevedra    81981.0\n",
      "128  Pontevedra             O Porriño    17977.0\n",
      "129  Pontevedra                  Poio    16309.0\n",
      "130  Pontevedra            Ponteareas    23316.0\n",
      "131  Pontevedra             Redondela    30067.0\n",
      "132  Pontevedra              Sanxenxo    17500.0\n",
      "133  Pontevedra                Tomiño    13492.0\n",
      "134  Pontevedra                   Tui    17306.0\n",
      "135  Pontevedra                  Vigo   297124.0\n",
      "136  Pontevedra  Vilagarcía de Arousa    37926.0\n",
      "137  Pontevedra    Vilanova de Arousa    10682.0\n",
      "154  Pontevedra                Baiona    12154.0\n",
      "\n"
     ]
    },
    {
     "data": {
      "image/png": "[encoded data removed]",
      "text/plain": [
       "<Figure size 640x480 with 1 Axes>"
      ]
     },
     "metadata": {},
     "output_type": "display_data"
    },
    {
     "name": "stdout",
     "output_type": "stream",
     "text": [
      "-------------------------------------------------\n",
      "\n",
      "     Provincia              Municipio  Poblacion\n",
      "138  Salamanca         Ciudad Rodrigo    13777.0\n",
      "459  Salamanca                  Béjar    14785.0\n",
      "460  Salamanca              Salamanca   154462.0\n",
      "461  Salamanca  Santa Marta de Tormes    14756.0\n",
      "\n"
     ]
    },
    {
     "data": {
      "image/png": "[encoded data removed]",
      "text/plain": [
       "<Figure size 640x480 with 1 Axes>"
      ]
     },
     "metadata": {},
     "output_type": "display_data"
    },
    {
     "name": "stdout",
     "output_type": "stream",
     "text": [
      "-------------------------------------------------\n",
      "\n",
      "                  Provincia                   Municipio  Poblacion\n",
      "21   Santa Cruz de Tenerife                       Adeje    43801.0\n",
      "22   Santa Cruz de Tenerife                       Arona    79377.0\n",
      "23   Santa Cruz de Tenerife                  Candelaria    25140.0\n",
      "24   Santa Cruz de Tenerife         Granadilla de Abona    40862.0\n",
      "25   Santa Cruz de Tenerife               Guía de Isora    20535.0\n",
      "26   Santa Cruz de Tenerife                      Güímar    17852.0\n",
      "27   Santa Cruz de Tenerife           Icod de los Vinos    24231.0\n",
      "28   Santa Cruz de Tenerife  San Cristóbal de La Laguna   152222.0\n",
      "29   Santa Cruz de Tenerife       Los Llanos de Aridane    20948.0\n",
      "30   Santa Cruz de Tenerife                  La Orotava    41427.0\n",
      "31   Santa Cruz de Tenerife           Puerto de la Cruz    32571.0\n",
      "32   Santa Cruz de Tenerife                Los Realejos    37658.0\n",
      "33   Santa Cruz de Tenerife                  El Rosario    17417.0\n",
      "34   Santa Cruz de Tenerife         San Miguel de Abona    16707.0\n",
      "35   Santa Cruz de Tenerife      Santa Cruz de la Palma    17128.0\n",
      "36   Santa Cruz de Tenerife                Santa Úrsula    14143.0\n",
      "37   Santa Cruz de Tenerife          Santiago del Teide    12099.0\n",
      "38   Santa Cruz de Tenerife                   Tacoronte    23615.0\n",
      "39   Santa Cruz de Tenerife                    Tegueste    10731.0\n",
      "40   Santa Cruz de Tenerife      Santa Cruz de Tenerife   222643.0\n",
      "764  Santa Cruz de Tenerife                       Adeje    18562.0\n",
      "765  Santa Cruz de Tenerife                       Arona    19383.0\n",
      "766  Santa Cruz de Tenerife         Granadilla de Abona    18371.0\n",
      "767  Santa Cruz de Tenerife  San Cristóbal de La Laguna    25393.0\n",
      "768  Santa Cruz de Tenerife  San Cristóbal de La Laguna    23054.0\n",
      "769  Santa Cruz de Tenerife      Santa Cruz de Tenerife    14094.0\n",
      "\n"
     ]
    },
    {
     "data": {
      "image/png": "[encoded data removed]",
      "text/plain": [
       "<Figure size 640x480 with 1 Axes>"
      ]
     },
     "metadata": {},
     "output_type": "display_data"
    },
    {
     "name": "stdout",
     "output_type": "stream",
     "text": [
      "-------------------------------------------------\n",
      "\n",
      "    Provincia Municipio  Poblacion\n",
      "473   Segovia   Segovia    55748.0\n",
      "\n"
     ]
    },
    {
     "data": {
      "image/png": "[encoded data removed]",
      "text/plain": [
       "<Figure size 640x480 with 1 Axes>"
      ]
     },
     "metadata": {},
     "output_type": "display_data"
    },
    {
     "name": "stdout",
     "output_type": "stream",
     "text": [
      "-------------------------------------------------\n",
      "\n",
      "    Provincia                   Municipio  Poblacion\n",
      "139   Sevilla                   La Algaba    15255.0\n",
      "140   Sevilla                    Bormujos    19110.0\n",
      "141   Sevilla                       Camas    26086.0\n",
      "142   Sevilla     Castilleja de la Cuesta    17282.0\n",
      "143   Sevilla               Coria del Río    28654.0\n",
      "144   Sevilla                  Espartinas    13166.0\n",
      "145   Sevilla                       Gines    13108.0\n",
      "146   Sevilla                    Guillena    11456.0\n",
      "147   Sevilla                     Lebrija    26783.0\n",
      "148   Sevilla        Mairena del Aljarafe    41510.0\n",
      "149   Sevilla                       Pilas    13509.0\n",
      "150   Sevilla           La Puebla del Río    12210.0\n",
      "151   Sevilla    San Juan de Aznalfarache    21025.0\n",
      "152   Sevilla           Sanlúcar la Mayor    13016.0\n",
      "153   Sevilla                     Tomares    23310.0\n",
      "474   Sevilla          Alcalá de Guadaíra    71740.0\n",
      "475   Sevilla              Alcalá del Río    11004.0\n",
      "476   Sevilla                      Arahal    19335.0\n",
      "477   Sevilla                      Brenes    12580.0\n",
      "478   Sevilla     Las Cabezas de San Juan    16571.0\n",
      "479   Sevilla                  Cantillana    10643.0\n",
      "480   Sevilla                     Carmona    28576.0\n",
      "481   Sevilla                Dos Hermanas   125086.0\n",
      "482   Sevilla                       Écija    40534.0\n",
      "483   Sevilla                      Estepa    12682.0\n",
      "484   Sevilla                Lora del Río    19393.0\n",
      "485   Sevilla           Mairena del Alcor    21100.0\n",
      "486   Sevilla                    Marchena    19861.0\n",
      "487   Sevilla        Morón de la Frontera    28467.0\n",
      "488   Sevilla                       Osuna    17926.0\n",
      "489   Sevilla  Los Palacios y Villafranca    37279.0\n",
      "490   Sevilla        La Puebla de Cazalla    11434.0\n",
      "491   Sevilla                La Rinconada    36641.0\n",
      "492   Sevilla                     Sevilla   704198.0\n",
      "493   Sevilla                      Utrera    51177.0\n",
      "494   Sevilla           El Viso del Alcor    18641.0\n",
      "813   Sevilla                Dos Hermanas    34353.0\n",
      "814   Sevilla                La Rinconada    26357.0\n",
      "\n"
     ]
    },
    {
     "data": {
      "image/png": "[encoded data removed]",
      "text/plain": [
       "<Figure size 640x480 with 1 Axes>"
      ]
     },
     "metadata": {},
     "output_type": "display_data"
    },
    {
     "name": "stdout",
     "output_type": "stream",
     "text": [
      "-------------------------------------------------\n",
      "\n",
      "    Provincia Municipio  Poblacion\n",
      "495     Soria     Soria    39838.0\n",
      "\n"
     ]
    },
    {
     "data": {
      "image/png": "[encoded data removed]",
      "text/plain": [
       "<Figure size 640x480 with 1 Axes>"
      ]
     },
     "metadata": {},
     "output_type": "display_data"
    },
    {
     "name": "stdout",
     "output_type": "stream",
     "text": [
      "-------------------------------------------------\n",
      "\n",
      "     Provincia                 Municipio  Poblacion\n",
      "729  Tarragona                   Alcanar    10545.0\n",
      "730  Tarragona                   Amposta    21365.0\n",
      "731  Tarragona                  Calafell    24423.0\n",
      "732  Tarragona                  Cambrils    32422.0\n",
      "733  Tarragona                     Cunit    12464.0\n",
      "734  Tarragona        Mont-roig del Camp    12193.0\n",
      "735  Tarragona                      Reus   106622.0\n",
      "736  Tarragona  Sant Carles de la Ràpita    15583.0\n",
      "737  Tarragona                 Tarragona   140184.0\n",
      "738  Tarragona             Torredembarra    15406.0\n",
      "739  Tarragona                   Tortosa    34473.0\n",
      "740  Tarragona                     Valls    25158.0\n",
      "741  Tarragona               El Vendrell    36068.0\n",
      "742  Tarragona                 Vila-seca    21373.0\n",
      "743  Tarragona                  Deltebre    12098.0\n",
      "744  Tarragona                     Salou    27016.0\n",
      "836  Tarragona                  Calafell    11765.0\n",
      "837  Tarragona                 Tarragona    16137.0\n",
      "838  Tarragona                 Tarragona    23443.0\n",
      "\n"
     ]
    },
    {
     "data": {
      "image/png": "[encoded data removed]",
      "text/plain": [
       "<Figure size 640x480 with 1 Axes>"
      ]
     },
     "metadata": {},
     "output_type": "display_data"
    },
    {
     "name": "stdout",
     "output_type": "stream",
     "text": [
      "-------------------------------------------------\n",
      "\n",
      "    Provincia Municipio  Poblacion\n",
      "496    Teruel   Alcañiz    16291.0\n",
      "497    Teruel    Teruel    35241.0\n",
      "\n"
     ]
    },
    {
     "data": {
      "image/png": "[encoded data removed]",
      "text/plain": [
       "<Figure size 640x480 with 1 Axes>"
      ]
     },
     "metadata": {},
     "output_type": "display_data"
    },
    {
     "name": "stdout",
     "output_type": "stream",
     "text": [
      "-------------------------------------------------\n",
      "\n",
      "    Provincia              Municipio  Poblacion\n",
      "498    Toledo              Consuegra    10945.0\n",
      "499    Toledo             Fuensalida    11042.0\n",
      "500    Toledo               Illescas    22482.0\n",
      "501    Toledo             Madridejos    11314.0\n",
      "502    Toledo                   Mora    10516.0\n",
      "503    Toledo                  Ocaña    10098.0\n",
      "504    Toledo  Quintanar de la Orden    12873.0\n",
      "505    Toledo                 Seseña    17522.0\n",
      "506    Toledo                Sonseca    11331.0\n",
      "507    Toledo   Talavera de la Reina    88986.0\n",
      "508    Toledo                 Toledo    82489.0\n",
      "509    Toledo               Torrijos    13374.0\n",
      "510    Toledo             Villacañas    10602.0\n",
      "850    Toledo                 Toledo    19177.0\n",
      "\n"
     ]
    },
    {
     "data": {
      "image/png": "[encoded data removed]",
      "text/plain": [
       "<Figure size 640x480 with 1 Axes>"
      ]
     },
     "metadata": {},
     "output_type": "display_data"
    },
    {
     "name": "stdout",
     "output_type": "stream",
     "text": [
      "-------------------------------------------------\n",
      "\n",
      "      Provincia                Municipio  Poblacion\n",
      "562  Valladolid  Arroyo de la Encomienda    12758.0\n",
      "563  Valladolid          Laguna de Duero    22110.0\n",
      "564  Valladolid         Medina del Campo    21632.0\n",
      "565  Valladolid               Valladolid   315522.0\n",
      "\n"
     ]
    },
    {
     "data": {
      "image/png": "[encoded data removed]",
      "text/plain": [
       "<Figure size 640x480 with 1 Axes>"
      ]
     },
     "metadata": {},
     "output_type": "display_data"
    },
    {
     "name": "stdout",
     "output_type": "stream",
     "text": [
      "-------------------------------------------------\n",
      "\n",
      "             Provincia                 Municipio  Poblacion\n",
      "511  València/Valencia                   Alaquàs    30270.0\n",
      "512  València/Valencia                     Albal    15618.0\n",
      "513  València/Valencia                   Alberic    11325.0\n",
      "514  València/Valencia                  Alboraya    22409.0\n",
      "515  València/Valencia                    Alzira    44758.0\n",
      "516  València/Valencia                 L'Alcúdia    11246.0\n",
      "517  València/Valencia                    Aldaia    30303.0\n",
      "518  València/Valencia                   Alfafar    20730.0\n",
      "519  València/Valencia                  Algemesí    28329.0\n",
      "520  València/Valencia                   Alginet    13363.0\n",
      "521  València/Valencia                Benaguasil    11144.0\n",
      "522  València/Valencia                Benetússer    15399.0\n",
      "523  València/Valencia                  Benifaió    12220.0\n",
      "524  València/Valencia                    Bétera    21220.0\n",
      "525  València/Valencia                     Buñol    10077.0\n",
      "526  València/Valencia                 Burjassot    38170.0\n",
      "527  València/Valencia                    Canals    14079.0\n",
      "528  València/Valencia                Carcaixent    20935.0\n",
      "529  València/Valencia                    Carlet    15606.0\n",
      "530  València/Valencia                 Catarroja    27175.0\n",
      "531  València/Valencia           Quart de Poblet    25472.0\n",
      "532  València/Valencia                   Cullera    23813.0\n",
      "533  València/Valencia                 Xirivella    30910.0\n",
      "534  València/Valencia                     Chiva    14539.0\n",
      "535  València/Valencia                  L'Eliana    16738.0\n",
      "536  València/Valencia                    Gandia    79430.0\n",
      "537  València/Valencia                   Godella    13288.0\n",
      "538  València/Valencia                    Xàtiva    29361.0\n",
      "539  València/Valencia                    Llíria    22997.0\n",
      "540  València/Valencia                   Manises    30508.0\n",
      "541  València/Valencia              Massamagrell    15339.0\n",
      "542  València/Valencia                   Meliana    10536.0\n",
      "543  València/Valencia                   Mislata    43792.0\n",
      "544  València/Valencia                   Moncada    21847.0\n",
      "545  València/Valencia                     Oliva    28307.0\n",
      "546  València/Valencia                 Ontinyent    37935.0\n",
      "547  València/Valencia                  Paiporta    23980.0\n",
      "548  València/Valencia                   Paterna    65921.0\n",
      "549  València/Valencia                   Picanya    11137.0\n",
      "550  València/Valencia                 Picassent    19944.0\n",
      "551  València/Valencia      La Pobla de Vallbona    21111.0\n",
      "552  València/Valencia                     Puçol    19295.0\n",
      "553  València/Valencia                   Requena    21448.0\n",
      "554  València/Valencia        Riba-roja de Túria    20755.0\n",
      "555  València/Valencia            Sagunto/Sagunt    66259.0\n",
      "556  València/Valencia                     Silla    19143.0\n",
      "557  València/Valencia                     Sueca    28926.0\n",
      "558  València/Valencia  Tavernes de la Valldigna    18130.0\n",
      "559  València/Valencia                   Torrent    79843.0\n",
      "560  València/Valencia                     Utiel    12421.0\n",
      "561  València/Valencia                  Valencia   809267.0\n",
      "815  València/Valencia                    Gandia    13895.0\n",
      "816  València/Valencia                   Paterna    11401.0\n",
      "817  València/Valencia            Sagunto/Sagunt    41406.0\n",
      "818  València/Valencia                   Torrent    11663.0\n",
      "819  València/Valencia                  Valencia    14328.0\n",
      "\n"
     ]
    },
    {
     "data": {
      "image/png": "[encoded data removed]",
      "text/plain": [
       "<Figure size 640x480 with 1 Axes>"
      ]
     },
     "metadata": {},
     "output_type": "display_data"
    },
    {
     "name": "stdout",
     "output_type": "stream",
     "text": [
      "-------------------------------------------------\n",
      "\n",
      "    Provincia                    Municipio  Poblacion\n",
      "566   Vizcaya            Amorebieta-Etxano    17969.0\n",
      "567   Vizcaya                 Arrigorriaga    12358.0\n",
      "568   Vizcaya                    Barakaldo    99321.0\n",
      "569   Vizcaya                      Basauri    42452.0\n",
      "570   Vizcaya                       Bermeo    17026.0\n",
      "571   Vizcaya                       Bilbao   353187.0\n",
      "572   Vizcaya                      Durango    28261.0\n",
      "573   Vizcaya                        Ermua    16196.0\n",
      "574   Vizcaya                     Galdakao    29254.0\n",
      "575   Vizcaya                        Getxo    80277.0\n",
      "576   Vizcaya                 Gernika-Lumo    16295.0\n",
      "577   Vizcaya                        Leioa    30262.0\n",
      "578   Vizcaya                       Mungia    16527.0\n",
      "579   Vizcaya                  Portugalete    47856.0\n",
      "580   Vizcaya  Valle de Trápaga-Trapagaran    12317.0\n",
      "581   Vizcaya                    Santurtzi    47101.0\n",
      "582   Vizcaya                       Sestao    29224.0\n",
      "583   Vizcaya                     Sopelana    12527.0\n",
      "584   Vizcaya                      Erandio    24294.0\n",
      "820   Vizcaya                        Getxo    27010.0\n",
      "821   Vizcaya                        Getxo    14291.0\n",
      "822   Vizcaya                      Erandio    10555.0\n",
      "\n"
     ]
    },
    {
     "data": {
      "image/png": "[encoded data removed]",
      "text/plain": [
       "<Figure size 640x480 with 1 Axes>"
      ]
     },
     "metadata": {},
     "output_type": "display_data"
    },
    {
     "name": "stdout",
     "output_type": "stream",
     "text": [
      "-------------------------------------------------\n",
      "\n",
      "    Provincia  Municipio  Poblacion\n",
      "585    Zamora  Benavente    19100.0\n",
      "586    Zamora     Zamora    65998.0\n",
      "\n"
     ]
    },
    {
     "data": {
      "image/png": "[encoded data removed]",
      "text/plain": [
       "<Figure size 640x480 with 1 Axes>"
      ]
     },
     "metadata": {},
     "output_type": "display_data"
    },
    {
     "name": "stdout",
     "output_type": "stream",
     "text": [
      "-------------------------------------------------\n",
      "\n",
      "    Provincia               Municipio  Poblacion\n",
      "587  Zaragoza               Calatayud    21717.0\n",
      "588  Zaragoza  Ejea de los Caballeros    17344.0\n",
      "589  Zaragoza                Tarazona    11131.0\n",
      "590  Zaragoza                   Utebo    17999.0\n",
      "591  Zaragoza                Zaragoza   675121.0\n",
      "\n"
     ]
    },
    {
     "data": {
      "image/png": "[encoded data removed]",
      "text/plain": [
       "<Figure size 640x480 with 1 Axes>"
      ]
     },
     "metadata": {},
     "output_type": "display_data"
    },
    {
     "name": "stdout",
     "output_type": "stream",
     "text": [
      "-------------------------------------------------\n",
      "\n",
      "    Provincia        Municipio  Poblacion\n",
      "168     Álava          Amurrio    10050.0\n",
      "169     Álava    Laudio/Llodio    18420.0\n",
      "170     Álava  Vitoria-Gasteiz   238247.0\n",
      "\n"
     ]
    },
    {
     "data": {
      "image/png": "[encoded data removed]",
      "text/plain": [
       "<Figure size 640x480 with 1 Axes>"
      ]
     },
     "metadata": {},
     "output_type": "display_data"
    },
    {
     "name": "stdout",
     "output_type": "stream",
     "text": [
      "-------------------------------------------------\n",
      "\n",
      "    Provincia Municipio  Poblacion\n",
      "209     Ávila     Ávila    58245.0\n",
      "\n"
     ]
    },
    {
     "data": {
      "image/png": "[encoded data removed]",
      "text/plain": [
       "<Figure size 640x480 with 1 Axes>"
      ]
     },
     "metadata": {},
     "output_type": "display_data"
    },
    {
     "name": "stdout",
     "output_type": "stream",
     "text": [
      "-------------------------------------------------\n",
      "\n"
     ]
    }
   ],
   "source": [
    "# iterrows() -> Iterar sobre pares de rows (index, Series) del DataFrame\n",
    "for index, row in city_population.iterrows():\n",
    "    temp_provincia = row['Provincia']\n",
    "    \n",
    "    temp_df = dataset[dataset['Provincia'] == temp_provincia][['Provincia', 'Municipio', 'Poblacion']]\n",
    "    \n",
    "    print(temp_df)\n",
    "    \n",
    "    print()\n",
    "    plt.hist(temp_df['Poblacion'])\n",
    "    plt.show()\n",
    "    \n",
    "    print('-------------------------------------------------\\n')\n",
    "    # You can now access data for each row using `row` like a dictionary\n",
    "    #print(f\"Index: {index}, Provincia: {row['Provincia']}, Poblacion: {row['Poblacion']}\")\n"
   ]
  },
  {
   "cell_type": "markdown",
   "id": "0a02056f-8655-4c62-b782-6a7a5cf9b54d",
   "metadata": {},
   "source": [
    "### Ejercicio 7\n",
    "\n",
    "Seleccione al azar cincuenta municipios diferentes de\n",
    "entre los diponibles en el archivo. Asegúrese de que no\n",
    "se repitan. ¿Luego calcule el promedio de la población y\n",
    "la desviación estándar de esto 50 municipios?."
   ]
  },
  {
   "cell_type": "code",
   "execution_count": 37,
   "id": "01cf4a6b-e772-496b-82e9-038f487611e8",
   "metadata": {
    "tags": []
   },
   "outputs": [
    {
     "data": {
      "text/html": [
       "<div>\n",
       "<style scoped>\n",
       "    .dataframe tbody tr th:only-of-type {\n",
       "        vertical-align: middle;\n",
       "    }\n",
       "\n",
       "    .dataframe tbody tr th {\n",
       "        vertical-align: top;\n",
       "    }\n",
       "\n",
       "    .dataframe thead th {\n",
       "        text-align: right;\n",
       "    }\n",
       "</style>\n",
       "<table border=\"1\" class=\"dataframe\">\n",
       "  <thead>\n",
       "    <tr style=\"text-align: right;\">\n",
       "      <th></th>\n",
       "      <th>index</th>\n",
       "      <th>FID</th>\n",
       "      <th>Municipio</th>\n",
       "      <th>Poblacion</th>\n",
       "    </tr>\n",
       "  </thead>\n",
       "  <tbody>\n",
       "    <tr>\n",
       "      <th>0</th>\n",
       "      <td>587</td>\n",
       "      <td>587</td>\n",
       "      <td>Calatayud</td>\n",
       "      <td>21717.0</td>\n",
       "    </tr>\n",
       "    <tr>\n",
       "      <th>1</th>\n",
       "      <td>600</td>\n",
       "      <td>600</td>\n",
       "      <td>Calvià</td>\n",
       "      <td>51462.0</td>\n",
       "    </tr>\n",
       "    <tr>\n",
       "      <th>2</th>\n",
       "      <td>396</td>\n",
       "      <td>396</td>\n",
       "      <td>Rincón de la Victoria</td>\n",
       "      <td>39922.0</td>\n",
       "    </tr>\n",
       "    <tr>\n",
       "      <th>3</th>\n",
       "      <td>110</td>\n",
       "      <td>110</td>\n",
       "      <td>Cangas del Narcea</td>\n",
       "      <td>14445.0</td>\n",
       "    </tr>\n",
       "    <tr>\n",
       "      <th>4</th>\n",
       "      <td>238</td>\n",
       "      <td>238</td>\n",
       "      <td>Bolaños de Calatrava</td>\n",
       "      <td>12236.0</td>\n",
       "    </tr>\n",
       "    <tr>\n",
       "      <th>5</th>\n",
       "      <td>535</td>\n",
       "      <td>535</td>\n",
       "      <td>L'Eliana</td>\n",
       "      <td>16738.0</td>\n",
       "    </tr>\n",
       "    <tr>\n",
       "      <th>6</th>\n",
       "      <td>137</td>\n",
       "      <td>137</td>\n",
       "      <td>Vilanova de Arousa</td>\n",
       "      <td>10682.0</td>\n",
       "    </tr>\n",
       "    <tr>\n",
       "      <th>7</th>\n",
       "      <td>521</td>\n",
       "      <td>521</td>\n",
       "      <td>Benaguasil</td>\n",
       "      <td>11144.0</td>\n",
       "    </tr>\n",
       "    <tr>\n",
       "      <th>8</th>\n",
       "      <td>127</td>\n",
       "      <td>127</td>\n",
       "      <td>Pontevedra</td>\n",
       "      <td>81981.0</td>\n",
       "    </tr>\n",
       "    <tr>\n",
       "      <th>9</th>\n",
       "      <td>451</td>\n",
       "      <td>451</td>\n",
       "      <td>Llanera</td>\n",
       "      <td>13919.0</td>\n",
       "    </tr>\n",
       "    <tr>\n",
       "      <th>10</th>\n",
       "      <td>201</td>\n",
       "      <td>201</td>\n",
       "      <td>Cuevas del Almanzora</td>\n",
       "      <td>12891.0</td>\n",
       "    </tr>\n",
       "    <tr>\n",
       "      <th>11</th>\n",
       "      <td>3</td>\n",
       "      <td>3</td>\n",
       "      <td>Arucas</td>\n",
       "      <td>36745.0</td>\n",
       "    </tr>\n",
       "    <tr>\n",
       "      <th>12</th>\n",
       "      <td>195</td>\n",
       "      <td>195</td>\n",
       "      <td>Villajoyosa/La Vila Joiosa</td>\n",
       "      <td>34344.0</td>\n",
       "    </tr>\n",
       "    <tr>\n",
       "      <th>13</th>\n",
       "      <td>480</td>\n",
       "      <td>480</td>\n",
       "      <td>Carmona</td>\n",
       "      <td>28576.0</td>\n",
       "    </tr>\n",
       "    <tr>\n",
       "      <th>14</th>\n",
       "      <td>801</td>\n",
       "      <td>801</td>\n",
       "      <td>Mazarrón</td>\n",
       "      <td>10967.0</td>\n",
       "    </tr>\n",
       "    <tr>\n",
       "      <th>15</th>\n",
       "      <td>40</td>\n",
       "      <td>40</td>\n",
       "      <td>Santa Cruz de Tenerife</td>\n",
       "      <td>222643.0</td>\n",
       "    </tr>\n",
       "    <tr>\n",
       "      <th>16</th>\n",
       "      <td>479</td>\n",
       "      <td>479</td>\n",
       "      <td>Cantillana</td>\n",
       "      <td>10643.0</td>\n",
       "    </tr>\n",
       "    <tr>\n",
       "      <th>17</th>\n",
       "      <td>578</td>\n",
       "      <td>578</td>\n",
       "      <td>Mungia</td>\n",
       "      <td>16527.0</td>\n",
       "    </tr>\n",
       "    <tr>\n",
       "      <th>18</th>\n",
       "      <td>254</td>\n",
       "      <td>254</td>\n",
       "      <td>Córdoba</td>\n",
       "      <td>328547.0</td>\n",
       "    </tr>\n",
       "    <tr>\n",
       "      <th>19</th>\n",
       "      <td>670</td>\n",
       "      <td>670</td>\n",
       "      <td>Sant Andreu de la Barca</td>\n",
       "      <td>26682.0</td>\n",
       "    </tr>\n",
       "    <tr>\n",
       "      <th>20</th>\n",
       "      <td>523</td>\n",
       "      <td>523</td>\n",
       "      <td>Benifaió</td>\n",
       "      <td>12220.0</td>\n",
       "    </tr>\n",
       "    <tr>\n",
       "      <th>21</th>\n",
       "      <td>73</td>\n",
       "      <td>73</td>\n",
       "      <td>Noia</td>\n",
       "      <td>14947.0</td>\n",
       "    </tr>\n",
       "    <tr>\n",
       "      <th>22</th>\n",
       "      <td>564</td>\n",
       "      <td>564</td>\n",
       "      <td>Medina del Campo</td>\n",
       "      <td>21632.0</td>\n",
       "    </tr>\n",
       "    <tr>\n",
       "      <th>23</th>\n",
       "      <td>346</td>\n",
       "      <td>346</td>\n",
       "      <td>Collado Villalba</td>\n",
       "      <td>59900.0</td>\n",
       "    </tr>\n",
       "    <tr>\n",
       "      <th>24</th>\n",
       "      <td>285</td>\n",
       "      <td>285</td>\n",
       "      <td>Las Gabias</td>\n",
       "      <td>17415.0</td>\n",
       "    </tr>\n",
       "    <tr>\n",
       "      <th>25</th>\n",
       "      <td>175</td>\n",
       "      <td>175</td>\n",
       "      <td>Cocentaina</td>\n",
       "      <td>11534.0</td>\n",
       "    </tr>\n",
       "    <tr>\n",
       "      <th>26</th>\n",
       "      <td>364</td>\n",
       "      <td>364</td>\n",
       "      <td>Pinto</td>\n",
       "      <td>44524.0</td>\n",
       "    </tr>\n",
       "    <tr>\n",
       "      <th>27</th>\n",
       "      <td>702</td>\n",
       "      <td>702</td>\n",
       "      <td>Banyoles</td>\n",
       "      <td>18780.0</td>\n",
       "    </tr>\n",
       "    <tr>\n",
       "      <th>28</th>\n",
       "      <td>699</td>\n",
       "      <td>699</td>\n",
       "      <td>Benicasim/Benicàssim</td>\n",
       "      <td>18206.0</td>\n",
       "    </tr>\n",
       "    <tr>\n",
       "      <th>29</th>\n",
       "      <td>477</td>\n",
       "      <td>477</td>\n",
       "      <td>Brenes</td>\n",
       "      <td>12580.0</td>\n",
       "    </tr>\n",
       "    <tr>\n",
       "      <th>30</th>\n",
       "      <td>568</td>\n",
       "      <td>568</td>\n",
       "      <td>Barakaldo</td>\n",
       "      <td>99321.0</td>\n",
       "    </tr>\n",
       "    <tr>\n",
       "      <th>31</th>\n",
       "      <td>471</td>\n",
       "      <td>471</td>\n",
       "      <td>Santoña</td>\n",
       "      <td>11584.0</td>\n",
       "    </tr>\n",
       "    <tr>\n",
       "      <th>32</th>\n",
       "      <td>275</td>\n",
       "      <td>275</td>\n",
       "      <td>Illora</td>\n",
       "      <td>10386.0</td>\n",
       "    </tr>\n",
       "    <tr>\n",
       "      <th>33</th>\n",
       "      <td>747</td>\n",
       "      <td>747</td>\n",
       "      <td>Vallirana</td>\n",
       "      <td>14200.0</td>\n",
       "    </tr>\n",
       "    <tr>\n",
       "      <th>34</th>\n",
       "      <td>648</td>\n",
       "      <td>648</td>\n",
       "      <td>Manresa</td>\n",
       "      <td>76209.0</td>\n",
       "    </tr>\n",
       "    <tr>\n",
       "      <th>35</th>\n",
       "      <td>8</td>\n",
       "      <td>8</td>\n",
       "      <td>Pájara</td>\n",
       "      <td>20622.0</td>\n",
       "    </tr>\n",
       "    <tr>\n",
       "      <th>36</th>\n",
       "      <td>817</td>\n",
       "      <td>817</td>\n",
       "      <td>Sagunto/Sagunt</td>\n",
       "      <td>41406.0</td>\n",
       "    </tr>\n",
       "    <tr>\n",
       "      <th>37</th>\n",
       "      <td>239</td>\n",
       "      <td>239</td>\n",
       "      <td>Campo de Criptana</td>\n",
       "      <td>15048.0</td>\n",
       "    </tr>\n",
       "    <tr>\n",
       "      <th>38</th>\n",
       "      <td>64</td>\n",
       "      <td>64</td>\n",
       "      <td>Boiro</td>\n",
       "      <td>19076.0</td>\n",
       "    </tr>\n",
       "    <tr>\n",
       "      <th>39</th>\n",
       "      <td>619</td>\n",
       "      <td>619</td>\n",
       "      <td>Son Servera</td>\n",
       "      <td>12286.0</td>\n",
       "    </tr>\n",
       "    <tr>\n",
       "      <th>40</th>\n",
       "      <td>177</td>\n",
       "      <td>177</td>\n",
       "      <td>Elche/Elx</td>\n",
       "      <td>230822.0</td>\n",
       "    </tr>\n",
       "    <tr>\n",
       "      <th>41</th>\n",
       "      <td>227</td>\n",
       "      <td>227</td>\n",
       "      <td>Vejer de la Frontera</td>\n",
       "      <td>12876.0</td>\n",
       "    </tr>\n",
       "    <tr>\n",
       "      <th>42</th>\n",
       "      <td>528</td>\n",
       "      <td>528</td>\n",
       "      <td>Carcaixent</td>\n",
       "      <td>20935.0</td>\n",
       "    </tr>\n",
       "    <tr>\n",
       "      <th>43</th>\n",
       "      <td>210</td>\n",
       "      <td>210</td>\n",
       "      <td>Don Benito</td>\n",
       "      <td>36227.0</td>\n",
       "    </tr>\n",
       "    <tr>\n",
       "      <th>44</th>\n",
       "      <td>157</td>\n",
       "      <td>157</td>\n",
       "      <td>Albatera</td>\n",
       "      <td>11821.0</td>\n",
       "    </tr>\n",
       "    <tr>\n",
       "      <th>45</th>\n",
       "      <td>527</td>\n",
       "      <td>527</td>\n",
       "      <td>Canals</td>\n",
       "      <td>14079.0</td>\n",
       "    </tr>\n",
       "    <tr>\n",
       "      <th>46</th>\n",
       "      <td>638</td>\n",
       "      <td>638</td>\n",
       "      <td>Les Franqueses del Vallès</td>\n",
       "      <td>18114.0</td>\n",
       "    </tr>\n",
       "    <tr>\n",
       "      <th>47</th>\n",
       "      <td>187</td>\n",
       "      <td>187</td>\n",
       "      <td>Petrer</td>\n",
       "      <td>34634.0</td>\n",
       "    </tr>\n",
       "    <tr>\n",
       "      <th>48</th>\n",
       "      <td>500</td>\n",
       "      <td>500</td>\n",
       "      <td>Illescas</td>\n",
       "      <td>22482.0</td>\n",
       "    </tr>\n",
       "    <tr>\n",
       "      <th>49</th>\n",
       "      <td>848</td>\n",
       "      <td>848</td>\n",
       "      <td>Murcia</td>\n",
       "      <td>13349.0</td>\n",
       "    </tr>\n",
       "  </tbody>\n",
       "</table>\n",
       "</div>"
      ],
      "text/plain": [
       "    index  FID                   Municipio  Poblacion\n",
       "0     587  587                   Calatayud    21717.0\n",
       "1     600  600                      Calvià    51462.0\n",
       "2     396  396       Rincón de la Victoria    39922.0\n",
       "3     110  110           Cangas del Narcea    14445.0\n",
       "4     238  238        Bolaños de Calatrava    12236.0\n",
       "5     535  535                    L'Eliana    16738.0\n",
       "6     137  137          Vilanova de Arousa    10682.0\n",
       "7     521  521                  Benaguasil    11144.0\n",
       "8     127  127                  Pontevedra    81981.0\n",
       "9     451  451                     Llanera    13919.0\n",
       "10    201  201        Cuevas del Almanzora    12891.0\n",
       "11      3    3                      Arucas    36745.0\n",
       "12    195  195  Villajoyosa/La Vila Joiosa    34344.0\n",
       "13    480  480                     Carmona    28576.0\n",
       "14    801  801                    Mazarrón    10967.0\n",
       "15     40   40      Santa Cruz de Tenerife   222643.0\n",
       "16    479  479                  Cantillana    10643.0\n",
       "17    578  578                      Mungia    16527.0\n",
       "18    254  254                     Córdoba   328547.0\n",
       "19    670  670     Sant Andreu de la Barca    26682.0\n",
       "20    523  523                    Benifaió    12220.0\n",
       "21     73   73                        Noia    14947.0\n",
       "22    564  564            Medina del Campo    21632.0\n",
       "23    346  346            Collado Villalba    59900.0\n",
       "24    285  285                  Las Gabias    17415.0\n",
       "25    175  175                  Cocentaina    11534.0\n",
       "26    364  364                       Pinto    44524.0\n",
       "27    702  702                    Banyoles    18780.0\n",
       "28    699  699        Benicasim/Benicàssim    18206.0\n",
       "29    477  477                      Brenes    12580.0\n",
       "30    568  568                   Barakaldo    99321.0\n",
       "31    471  471                     Santoña    11584.0\n",
       "32    275  275                      Illora    10386.0\n",
       "33    747  747                   Vallirana    14200.0\n",
       "34    648  648                     Manresa    76209.0\n",
       "35      8    8                      Pájara    20622.0\n",
       "36    817  817              Sagunto/Sagunt    41406.0\n",
       "37    239  239           Campo de Criptana    15048.0\n",
       "38     64   64                       Boiro    19076.0\n",
       "39    619  619                 Son Servera    12286.0\n",
       "40    177  177                   Elche/Elx   230822.0\n",
       "41    227  227        Vejer de la Frontera    12876.0\n",
       "42    528  528                  Carcaixent    20935.0\n",
       "43    210  210                  Don Benito    36227.0\n",
       "44    157  157                    Albatera    11821.0\n",
       "45    527  527                      Canals    14079.0\n",
       "46    638  638   Les Franqueses del Vallès    18114.0\n",
       "47    187  187                      Petrer    34634.0\n",
       "48    500  500                    Illescas    22482.0\n",
       "49    848  848                      Murcia    13349.0"
      ]
     },
     "execution_count": 37,
     "metadata": {},
     "output_type": "execute_result"
    }
   ],
   "source": [
    "# pandas.DataFrame.sample -> Return a random sample of items from an axis of object.\n",
    "# Con n seteamos el tamaño de la muestra, con replace False indico que no se permitan rows repetidas\n",
    "# Luego indico que solo quiero las columnas FID, Municipio y Poblacion\n",
    "ex7_ds_sample = dataset.sample(n=50, replace=False)[['FID', 'Municipio', 'Poblacion']].reset_index()\n",
    "ex7_ds_sample"
   ]
  },
  {
   "cell_type": "code",
   "execution_count": 38,
   "id": "ded9981d-f5a7-4b5c-b76b-9ca911b7b334",
   "metadata": {
    "tags": []
   },
   "outputs": [
    {
     "data": {
      "text/plain": [
       "50"
      ]
     },
     "execution_count": 38,
     "metadata": {},
     "output_type": "execute_result"
    }
   ],
   "source": [
    "# Verificamos que en efecto siempre haya 50 elementos con FID único\n",
    "len(ex7_ds_sample['FID'].unique())"
   ]
  },
  {
   "cell_type": "code",
   "execution_count": 39,
   "id": "ce99d0b7-26d3-4b16-9667-9a95585a0ae3",
   "metadata": {
    "tags": []
   },
   "outputs": [
    {
     "name": "stdout",
     "output_type": "stream",
     "text": [
      "Para la muestra de 50 municipios, en cuanto a a población: \n",
      "El promedio es: 39400.52 y la desviación estándar es: 60871.34632818396\n"
     ]
    }
   ],
   "source": [
    "# Obtener promedio y desviación estándar de la población\n",
    "ex7_mean = ex7_ds_sample['Poblacion'].mean()\n",
    "\n",
    "ex7_std = ex7_ds_sample['Poblacion'].std()\n",
    "\n",
    "print(f'Para la muestra de 50 municipios, en cuanto a a población: \\nEl promedio es: {ex7_mean} y la desviación estándar es: {ex7_std}')"
   ]
  },
  {
   "cell_type": "markdown",
   "id": "59ee9c1f-ec60-4a6b-8baa-31bf0257924b",
   "metadata": {},
   "source": [
    "### Ejercicio 8\n",
    "\n",
    "Determine los nombres de los Municipios más cercano y\n",
    "más lejano a Madrid. Para ello debe calcular la\n",
    "distancia en todos ellos y Madrid. No considere a Madrid\n",
    "en el análisis ya que la distancia sería cero.\n",
    "\n",
    "##### Fórmula para calcular distancia entre 2 puntos\n",
    "![Formula distancia entre 2 puntos](data:image/png;base64,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)"
   ]
  },
  {
   "cell_type": "code",
   "execution_count": 40,
   "id": "32e666b2-cc88-4cbb-9896-90fd52b7d1f9",
   "metadata": {
    "tags": []
   },
   "outputs": [
    {
     "data": {
      "text/html": [
       "<div>\n",
       "<style scoped>\n",
       "    .dataframe tbody tr th:only-of-type {\n",
       "        vertical-align: middle;\n",
       "    }\n",
       "\n",
       "    .dataframe tbody tr th {\n",
       "        vertical-align: top;\n",
       "    }\n",
       "\n",
       "    .dataframe thead th {\n",
       "        text-align: right;\n",
       "    }\n",
       "</style>\n",
       "<table border=\"1\" class=\"dataframe\">\n",
       "  <thead>\n",
       "    <tr style=\"text-align: right;\">\n",
       "      <th></th>\n",
       "      <th>FID</th>\n",
       "      <th>OBJECTID</th>\n",
       "      <th>Texto</th>\n",
       "      <th>Poblacion</th>\n",
       "      <th>CodMun</th>\n",
       "      <th>Municipio</th>\n",
       "      <th>CodProvin</th>\n",
       "      <th>Provincia</th>\n",
       "      <th>X</th>\n",
       "      <th>Y</th>\n",
       "    </tr>\n",
       "  </thead>\n",
       "  <tbody>\n",
       "    <tr>\n",
       "      <th>355</th>\n",
       "      <td>355</td>\n",
       "      <td>356</td>\n",
       "      <td>Madrid</td>\n",
       "      <td>3273049.0</td>\n",
       "      <td>28079</td>\n",
       "      <td>Madrid</td>\n",
       "      <td>28</td>\n",
       "      <td>Madrid</td>\n",
       "      <td>-3.703797</td>\n",
       "      <td>40.41663</td>\n",
       "    </tr>\n",
       "  </tbody>\n",
       "</table>\n",
       "</div>"
      ],
      "text/plain": [
       "     FID  OBJECTID   Texto  Poblacion  CodMun Municipio  CodProvin Provincia  \\\n",
       "355  355       356  Madrid  3273049.0   28079    Madrid         28    Madrid   \n",
       "\n",
       "            X         Y  \n",
       "355 -3.703797  40.41663  "
      ]
     },
     "execution_count": 40,
     "metadata": {},
     "output_type": "execute_result"
    }
   ],
   "source": [
    "# Primero obtenemos los puntos X1 y Y1 de la ubicación de Madrid\n",
    "coords_madrid = dataset[dataset[\"Municipio\"] == 'Madrid']\n",
    "coords_madrid"
   ]
  },
  {
   "cell_type": "code",
   "execution_count": 41,
   "id": "139d192c-9abc-4efe-9a7c-136ec92a5e10",
   "metadata": {
    "tags": []
   },
   "outputs": [],
   "source": [
    "x_coord_madrid = coords_madrid[\"X\"].iloc[0]\n",
    "y_coord_madrid = coords_madrid[\"Y\"].iloc[0]"
   ]
  },
  {
   "cell_type": "code",
   "execution_count": 42,
   "id": "e04ce9d6-f210-4363-aab9-08372684d33b",
   "metadata": {
    "tags": []
   },
   "outputs": [],
   "source": [
    "dataset['distance_to_madrid'] = np.sqrt((dataset['X'] - x_coord_madrid) ** 2 + (dataset['Y'] - y_coord_madrid) ** 2)"
   ]
  },
  {
   "cell_type": "code",
   "execution_count": 43,
   "id": "b0b29ab5-1e9c-478d-9dc1-1de70256ad97",
   "metadata": {
    "tags": []
   },
   "outputs": [
    {
     "data": {
      "text/html": [
       "<div>\n",
       "<style scoped>\n",
       "    .dataframe tbody tr th:only-of-type {\n",
       "        vertical-align: middle;\n",
       "    }\n",
       "\n",
       "    .dataframe tbody tr th {\n",
       "        vertical-align: top;\n",
       "    }\n",
       "\n",
       "    .dataframe thead th {\n",
       "        text-align: right;\n",
       "    }\n",
       "</style>\n",
       "<table border=\"1\" class=\"dataframe\">\n",
       "  <thead>\n",
       "    <tr style=\"text-align: right;\">\n",
       "      <th></th>\n",
       "      <th>FID</th>\n",
       "      <th>OBJECTID</th>\n",
       "      <th>Texto</th>\n",
       "      <th>Poblacion</th>\n",
       "      <th>CodMun</th>\n",
       "      <th>Municipio</th>\n",
       "      <th>CodProvin</th>\n",
       "      <th>Provincia</th>\n",
       "      <th>X</th>\n",
       "      <th>Y</th>\n",
       "      <th>distance_to_madrid</th>\n",
       "    </tr>\n",
       "  </thead>\n",
       "  <tbody>\n",
       "    <tr>\n",
       "      <th>0</th>\n",
       "      <td>0</td>\n",
       "      <td>1</td>\n",
       "      <td>Agüimes</td>\n",
       "      <td>29431.0</td>\n",
       "      <td>35002</td>\n",
       "      <td>Agüimes</td>\n",
       "      <td>35</td>\n",
       "      <td>Las Palmas</td>\n",
       "      <td>-15.446012</td>\n",
       "      <td>27.900542</td>\n",
       "      <td>17.161937</td>\n",
       "    </tr>\n",
       "    <tr>\n",
       "      <th>1</th>\n",
       "      <td>1</td>\n",
       "      <td>2</td>\n",
       "      <td>Antigua</td>\n",
       "      <td>10458.0</td>\n",
       "      <td>35003</td>\n",
       "      <td>Antigua</td>\n",
       "      <td>35</td>\n",
       "      <td>Las Palmas</td>\n",
       "      <td>-14.013301</td>\n",
       "      <td>28.418966</td>\n",
       "      <td>15.818654</td>\n",
       "    </tr>\n",
       "    <tr>\n",
       "      <th>2</th>\n",
       "      <td>2</td>\n",
       "      <td>3</td>\n",
       "      <td>Arrecife</td>\n",
       "      <td>58156.0</td>\n",
       "      <td>35004</td>\n",
       "      <td>Arrecife</td>\n",
       "      <td>35</td>\n",
       "      <td>Las Palmas</td>\n",
       "      <td>-13.551451</td>\n",
       "      <td>28.960649</td>\n",
       "      <td>15.106812</td>\n",
       "    </tr>\n",
       "    <tr>\n",
       "      <th>3</th>\n",
       "      <td>3</td>\n",
       "      <td>4</td>\n",
       "      <td>Arucas</td>\n",
       "      <td>36745.0</td>\n",
       "      <td>35006</td>\n",
       "      <td>Arucas</td>\n",
       "      <td>35</td>\n",
       "      <td>Las Palmas</td>\n",
       "      <td>-15.521512</td>\n",
       "      <td>28.117496</td>\n",
       "      <td>17.056584</td>\n",
       "    </tr>\n",
       "    <tr>\n",
       "      <th>4</th>\n",
       "      <td>4</td>\n",
       "      <td>5</td>\n",
       "      <td>Gáldar</td>\n",
       "      <td>24473.0</td>\n",
       "      <td>35009</td>\n",
       "      <td>Gáldar</td>\n",
       "      <td>35</td>\n",
       "      <td>Las Palmas</td>\n",
       "      <td>-15.654111</td>\n",
       "      <td>28.143873</td>\n",
       "      <td>17.129815</td>\n",
       "    </tr>\n",
       "    <tr>\n",
       "      <th>...</th>\n",
       "      <td>...</td>\n",
       "      <td>...</td>\n",
       "      <td>...</td>\n",
       "      <td>...</td>\n",
       "      <td>...</td>\n",
       "      <td>...</td>\n",
       "      <td>...</td>\n",
       "      <td>...</td>\n",
       "      <td>...</td>\n",
       "      <td>...</td>\n",
       "      <td>...</td>\n",
       "    </tr>\n",
       "    <tr>\n",
       "      <th>847</th>\n",
       "      <td>847</td>\n",
       "      <td>848</td>\n",
       "      <td>Infante Juan Manuel</td>\n",
       "      <td>14192.0</td>\n",
       "      <td>30030</td>\n",
       "      <td>Murcia</td>\n",
       "      <td>30</td>\n",
       "      <td>Murcia</td>\n",
       "      <td>-1.124304</td>\n",
       "      <td>37.979033</td>\n",
       "      <td>3.549037</td>\n",
       "    </tr>\n",
       "    <tr>\n",
       "      <th>848</th>\n",
       "      <td>848</td>\n",
       "      <td>849</td>\n",
       "      <td>Santa Maria de Gracia</td>\n",
       "      <td>13349.0</td>\n",
       "      <td>30030</td>\n",
       "      <td>Murcia</td>\n",
       "      <td>30</td>\n",
       "      <td>Murcia</td>\n",
       "      <td>-1.202069</td>\n",
       "      <td>37.984024</td>\n",
       "      <td>3.489444</td>\n",
       "    </tr>\n",
       "    <tr>\n",
       "      <th>849</th>\n",
       "      <td>849</td>\n",
       "      <td>850</td>\n",
       "      <td>Vista Alegre</td>\n",
       "      <td>15208.0</td>\n",
       "      <td>30030</td>\n",
       "      <td>Murcia</td>\n",
       "      <td>30</td>\n",
       "      <td>Murcia</td>\n",
       "      <td>-1.130564</td>\n",
       "      <td>37.995715</td>\n",
       "      <td>3.533038</td>\n",
       "    </tr>\n",
       "    <tr>\n",
       "      <th>850</th>\n",
       "      <td>850</td>\n",
       "      <td>851</td>\n",
       "      <td>Poligono Sta M de Benquerencia</td>\n",
       "      <td>19177.0</td>\n",
       "      <td>45168</td>\n",
       "      <td>Toledo</td>\n",
       "      <td>45</td>\n",
       "      <td>Toledo</td>\n",
       "      <td>-3.948364</td>\n",
       "      <td>39.866699</td>\n",
       "      <td>0.601861</td>\n",
       "    </tr>\n",
       "    <tr>\n",
       "      <th>851</th>\n",
       "      <td>851</td>\n",
       "      <td>852</td>\n",
       "      <td>Grao</td>\n",
       "      <td>16367.0</td>\n",
       "      <td>12040</td>\n",
       "      <td>Castellón de la Plana/Castelló de la Plana</td>\n",
       "      <td>12</td>\n",
       "      <td>Castelló/Castellón</td>\n",
       "      <td>0.012911</td>\n",
       "      <td>39.973568</td>\n",
       "      <td>3.743024</td>\n",
       "    </tr>\n",
       "  </tbody>\n",
       "</table>\n",
       "<p>852 rows × 11 columns</p>\n",
       "</div>"
      ],
      "text/plain": [
       "     FID  OBJECTID                           Texto  Poblacion  CodMun  \\\n",
       "0      0         1                         Agüimes    29431.0   35002   \n",
       "1      1         2                         Antigua    10458.0   35003   \n",
       "2      2         3                        Arrecife    58156.0   35004   \n",
       "3      3         4                          Arucas    36745.0   35006   \n",
       "4      4         5                          Gáldar    24473.0   35009   \n",
       "..   ...       ...                             ...        ...     ...   \n",
       "847  847       848             Infante Juan Manuel    14192.0   30030   \n",
       "848  848       849           Santa Maria de Gracia    13349.0   30030   \n",
       "849  849       850                    Vista Alegre    15208.0   30030   \n",
       "850  850       851  Poligono Sta M de Benquerencia    19177.0   45168   \n",
       "851  851       852                            Grao    16367.0   12040   \n",
       "\n",
       "                                      Municipio  CodProvin  \\\n",
       "0                                       Agüimes         35   \n",
       "1                                       Antigua         35   \n",
       "2                                      Arrecife         35   \n",
       "3                                        Arucas         35   \n",
       "4                                        Gáldar         35   \n",
       "..                                          ...        ...   \n",
       "847                                      Murcia         30   \n",
       "848                                      Murcia         30   \n",
       "849                                      Murcia         30   \n",
       "850                                      Toledo         45   \n",
       "851  Castellón de la Plana/Castelló de la Plana         12   \n",
       "\n",
       "              Provincia          X          Y  distance_to_madrid  \n",
       "0            Las Palmas -15.446012  27.900542           17.161937  \n",
       "1            Las Palmas -14.013301  28.418966           15.818654  \n",
       "2            Las Palmas -13.551451  28.960649           15.106812  \n",
       "3            Las Palmas -15.521512  28.117496           17.056584  \n",
       "4            Las Palmas -15.654111  28.143873           17.129815  \n",
       "..                  ...        ...        ...                 ...  \n",
       "847              Murcia  -1.124304  37.979033            3.549037  \n",
       "848              Murcia  -1.202069  37.984024            3.489444  \n",
       "849              Murcia  -1.130564  37.995715            3.533038  \n",
       "850              Toledo  -3.948364  39.866699            0.601861  \n",
       "851  Castelló/Castellón   0.012911  39.973568            3.743024  \n",
       "\n",
       "[852 rows x 11 columns]"
      ]
     },
     "execution_count": 43,
     "metadata": {},
     "output_type": "execute_result"
    }
   ],
   "source": [
    "dataset"
   ]
  },
  {
   "cell_type": "code",
   "execution_count": 44,
   "id": "8ee3d65c-bd76-44ae-856a-6268d02d4c7f",
   "metadata": {
    "tags": []
   },
   "outputs": [
    {
     "data": {
      "text/html": [
       "<div>\n",
       "<style scoped>\n",
       "    .dataframe tbody tr th:only-of-type {\n",
       "        vertical-align: middle;\n",
       "    }\n",
       "\n",
       "    .dataframe tbody tr th {\n",
       "        vertical-align: top;\n",
       "    }\n",
       "\n",
       "    .dataframe thead th {\n",
       "        text-align: right;\n",
       "    }\n",
       "</style>\n",
       "<table border=\"1\" class=\"dataframe\">\n",
       "  <thead>\n",
       "    <tr style=\"text-align: right;\">\n",
       "      <th></th>\n",
       "      <th>FID</th>\n",
       "      <th>OBJECTID</th>\n",
       "      <th>Texto</th>\n",
       "      <th>Poblacion</th>\n",
       "      <th>CodMun</th>\n",
       "      <th>Municipio</th>\n",
       "      <th>CodProvin</th>\n",
       "      <th>Provincia</th>\n",
       "      <th>X</th>\n",
       "      <th>Y</th>\n",
       "      <th>distance_to_madrid</th>\n",
       "    </tr>\n",
       "  </thead>\n",
       "  <tbody>\n",
       "    <tr>\n",
       "      <th>0</th>\n",
       "      <td>0</td>\n",
       "      <td>1</td>\n",
       "      <td>Agüimes</td>\n",
       "      <td>29431.0</td>\n",
       "      <td>35002</td>\n",
       "      <td>Agüimes</td>\n",
       "      <td>35</td>\n",
       "      <td>Las Palmas</td>\n",
       "      <td>-15.446012</td>\n",
       "      <td>27.900542</td>\n",
       "      <td>17.161937</td>\n",
       "    </tr>\n",
       "    <tr>\n",
       "      <th>1</th>\n",
       "      <td>1</td>\n",
       "      <td>2</td>\n",
       "      <td>Antigua</td>\n",
       "      <td>10458.0</td>\n",
       "      <td>35003</td>\n",
       "      <td>Antigua</td>\n",
       "      <td>35</td>\n",
       "      <td>Las Palmas</td>\n",
       "      <td>-14.013301</td>\n",
       "      <td>28.418966</td>\n",
       "      <td>15.818654</td>\n",
       "    </tr>\n",
       "    <tr>\n",
       "      <th>2</th>\n",
       "      <td>2</td>\n",
       "      <td>3</td>\n",
       "      <td>Arrecife</td>\n",
       "      <td>58156.0</td>\n",
       "      <td>35004</td>\n",
       "      <td>Arrecife</td>\n",
       "      <td>35</td>\n",
       "      <td>Las Palmas</td>\n",
       "      <td>-13.551451</td>\n",
       "      <td>28.960649</td>\n",
       "      <td>15.106812</td>\n",
       "    </tr>\n",
       "    <tr>\n",
       "      <th>3</th>\n",
       "      <td>3</td>\n",
       "      <td>4</td>\n",
       "      <td>Arucas</td>\n",
       "      <td>36745.0</td>\n",
       "      <td>35006</td>\n",
       "      <td>Arucas</td>\n",
       "      <td>35</td>\n",
       "      <td>Las Palmas</td>\n",
       "      <td>-15.521512</td>\n",
       "      <td>28.117496</td>\n",
       "      <td>17.056584</td>\n",
       "    </tr>\n",
       "    <tr>\n",
       "      <th>4</th>\n",
       "      <td>4</td>\n",
       "      <td>5</td>\n",
       "      <td>Gáldar</td>\n",
       "      <td>24473.0</td>\n",
       "      <td>35009</td>\n",
       "      <td>Gáldar</td>\n",
       "      <td>35</td>\n",
       "      <td>Las Palmas</td>\n",
       "      <td>-15.654111</td>\n",
       "      <td>28.143873</td>\n",
       "      <td>17.129815</td>\n",
       "    </tr>\n",
       "    <tr>\n",
       "      <th>...</th>\n",
       "      <td>...</td>\n",
       "      <td>...</td>\n",
       "      <td>...</td>\n",
       "      <td>...</td>\n",
       "      <td>...</td>\n",
       "      <td>...</td>\n",
       "      <td>...</td>\n",
       "      <td>...</td>\n",
       "      <td>...</td>\n",
       "      <td>...</td>\n",
       "      <td>...</td>\n",
       "    </tr>\n",
       "    <tr>\n",
       "      <th>847</th>\n",
       "      <td>847</td>\n",
       "      <td>848</td>\n",
       "      <td>Infante Juan Manuel</td>\n",
       "      <td>14192.0</td>\n",
       "      <td>30030</td>\n",
       "      <td>Murcia</td>\n",
       "      <td>30</td>\n",
       "      <td>Murcia</td>\n",
       "      <td>-1.124304</td>\n",
       "      <td>37.979033</td>\n",
       "      <td>3.549037</td>\n",
       "    </tr>\n",
       "    <tr>\n",
       "      <th>848</th>\n",
       "      <td>848</td>\n",
       "      <td>849</td>\n",
       "      <td>Santa Maria de Gracia</td>\n",
       "      <td>13349.0</td>\n",
       "      <td>30030</td>\n",
       "      <td>Murcia</td>\n",
       "      <td>30</td>\n",
       "      <td>Murcia</td>\n",
       "      <td>-1.202069</td>\n",
       "      <td>37.984024</td>\n",
       "      <td>3.489444</td>\n",
       "    </tr>\n",
       "    <tr>\n",
       "      <th>849</th>\n",
       "      <td>849</td>\n",
       "      <td>850</td>\n",
       "      <td>Vista Alegre</td>\n",
       "      <td>15208.0</td>\n",
       "      <td>30030</td>\n",
       "      <td>Murcia</td>\n",
       "      <td>30</td>\n",
       "      <td>Murcia</td>\n",
       "      <td>-1.130564</td>\n",
       "      <td>37.995715</td>\n",
       "      <td>3.533038</td>\n",
       "    </tr>\n",
       "    <tr>\n",
       "      <th>850</th>\n",
       "      <td>850</td>\n",
       "      <td>851</td>\n",
       "      <td>Poligono Sta M de Benquerencia</td>\n",
       "      <td>19177.0</td>\n",
       "      <td>45168</td>\n",
       "      <td>Toledo</td>\n",
       "      <td>45</td>\n",
       "      <td>Toledo</td>\n",
       "      <td>-3.948364</td>\n",
       "      <td>39.866699</td>\n",
       "      <td>0.601861</td>\n",
       "    </tr>\n",
       "    <tr>\n",
       "      <th>851</th>\n",
       "      <td>851</td>\n",
       "      <td>852</td>\n",
       "      <td>Grao</td>\n",
       "      <td>16367.0</td>\n",
       "      <td>12040</td>\n",
       "      <td>Castellón de la Plana/Castelló de la Plana</td>\n",
       "      <td>12</td>\n",
       "      <td>Castelló/Castellón</td>\n",
       "      <td>0.012911</td>\n",
       "      <td>39.973568</td>\n",
       "      <td>3.743024</td>\n",
       "    </tr>\n",
       "  </tbody>\n",
       "</table>\n",
       "<p>851 rows × 11 columns</p>\n",
       "</div>"
      ],
      "text/plain": [
       "     FID  OBJECTID                           Texto  Poblacion  CodMun  \\\n",
       "0      0         1                         Agüimes    29431.0   35002   \n",
       "1      1         2                         Antigua    10458.0   35003   \n",
       "2      2         3                        Arrecife    58156.0   35004   \n",
       "3      3         4                          Arucas    36745.0   35006   \n",
       "4      4         5                          Gáldar    24473.0   35009   \n",
       "..   ...       ...                             ...        ...     ...   \n",
       "847  847       848             Infante Juan Manuel    14192.0   30030   \n",
       "848  848       849           Santa Maria de Gracia    13349.0   30030   \n",
       "849  849       850                    Vista Alegre    15208.0   30030   \n",
       "850  850       851  Poligono Sta M de Benquerencia    19177.0   45168   \n",
       "851  851       852                            Grao    16367.0   12040   \n",
       "\n",
       "                                      Municipio  CodProvin  \\\n",
       "0                                       Agüimes         35   \n",
       "1                                       Antigua         35   \n",
       "2                                      Arrecife         35   \n",
       "3                                        Arucas         35   \n",
       "4                                        Gáldar         35   \n",
       "..                                          ...        ...   \n",
       "847                                      Murcia         30   \n",
       "848                                      Murcia         30   \n",
       "849                                      Murcia         30   \n",
       "850                                      Toledo         45   \n",
       "851  Castellón de la Plana/Castelló de la Plana         12   \n",
       "\n",
       "              Provincia          X          Y  distance_to_madrid  \n",
       "0            Las Palmas -15.446012  27.900542           17.161937  \n",
       "1            Las Palmas -14.013301  28.418966           15.818654  \n",
       "2            Las Palmas -13.551451  28.960649           15.106812  \n",
       "3            Las Palmas -15.521512  28.117496           17.056584  \n",
       "4            Las Palmas -15.654111  28.143873           17.129815  \n",
       "..                  ...        ...        ...                 ...  \n",
       "847              Murcia  -1.124304  37.979033            3.549037  \n",
       "848              Murcia  -1.202069  37.984024            3.489444  \n",
       "849              Murcia  -1.130564  37.995715            3.533038  \n",
       "850              Toledo  -3.948364  39.866699            0.601861  \n",
       "851  Castelló/Castellón   0.012911  39.973568            3.743024  \n",
       "\n",
       "[851 rows x 11 columns]"
      ]
     },
     "execution_count": 44,
     "metadata": {},
     "output_type": "execute_result"
    }
   ],
   "source": [
    "# Crear copia del dataset pero sin Madrid\n",
    "new_ex8_ds = dataset.drop(355)\n",
    "new_ex8_ds"
   ]
  },
  {
   "cell_type": "code",
   "execution_count": 45,
   "id": "05e09bac-5f95-4b01-9f81-e2d5b9f2634c",
   "metadata": {
    "tags": []
   },
   "outputs": [
    {
     "name": "stdout",
     "output_type": "stream",
     "text": [
      "FID del municipio más cercano: 783\n",
      "FID del municipio más lejano: 29\n"
     ]
    }
   ],
   "source": [
    "# Obtener valor max y min de la nueva columna 'distance_to_madrid'\n",
    "# Para ello vuelvo a usar .idxmax()\n",
    "ex8_nearest = new_ex8_ds[\"distance_to_madrid\"].idxmin()\n",
    "ex8_farthest = new_ex8_ds[\"distance_to_madrid\"].idxmax()\n",
    "\n",
    "print('FID del municipio más cercano:', ex8_nearest)\n",
    "print('FID del municipio más lejano:',ex8_farthest)"
   ]
  },
  {
   "cell_type": "code",
   "execution_count": 46,
   "id": "f564d0dc-9040-41ba-a583-fa8270ac76e5",
   "metadata": {
    "tags": []
   },
   "outputs": [],
   "source": [
    "nearest_city = new_ex8_ds[new_ex8_ds['FID'] == ex8_nearest]\n",
    "nearest_city_name = nearest_city['Municipio'].iloc[0]"
   ]
  },
  {
   "cell_type": "code",
   "execution_count": 47,
   "id": "d720db31-3cb0-4af6-88ce-0a3733eb6c88",
   "metadata": {
    "tags": []
   },
   "outputs": [],
   "source": [
    "farthest_city = new_ex8_ds[new_ex8_ds['FID'] == ex8_farthest]\n",
    "farthest_city_name = farthest_city['Municipio'].iloc[0]"
   ]
  },
  {
   "cell_type": "code",
   "execution_count": 48,
   "id": "24f32917-5e95-4cdd-a4a6-b955955e8861",
   "metadata": {
    "tags": []
   },
   "outputs": [
    {
     "name": "stdout",
     "output_type": "stream",
     "text": [
      "El municipio mas cercano es: Pozuelo de Alarcón\n",
      "El municipio mas lejano es: Los Llanos de Aridane\n"
     ]
    }
   ],
   "source": [
    "print(f'El municipio mas cercano es: {nearest_city_name}\\nEl municipio mas lejano es: {farthest_city_name}')"
   ]
  },
  {
   "cell_type": "code",
   "execution_count": 49,
   "id": "64599d79-198d-4adc-8699-50134c15e2e6",
   "metadata": {
    "tags": []
   },
   "outputs": [
    {
     "data": {
      "text/html": [
       "<div>\n",
       "<style scoped>\n",
       "    .dataframe tbody tr th:only-of-type {\n",
       "        vertical-align: middle;\n",
       "    }\n",
       "\n",
       "    .dataframe tbody tr th {\n",
       "        vertical-align: top;\n",
       "    }\n",
       "\n",
       "    .dataframe thead th {\n",
       "        text-align: right;\n",
       "    }\n",
       "</style>\n",
       "<table border=\"1\" class=\"dataframe\">\n",
       "  <thead>\n",
       "    <tr style=\"text-align: right;\">\n",
       "      <th></th>\n",
       "      <th>FID</th>\n",
       "      <th>OBJECTID</th>\n",
       "      <th>Texto</th>\n",
       "      <th>Poblacion</th>\n",
       "      <th>CodMun</th>\n",
       "      <th>Municipio</th>\n",
       "      <th>CodProvin</th>\n",
       "      <th>Provincia</th>\n",
       "      <th>X</th>\n",
       "      <th>Y</th>\n",
       "      <th>distance_to_madrid</th>\n",
       "    </tr>\n",
       "  </thead>\n",
       "  <tbody>\n",
       "    <tr>\n",
       "      <th>0</th>\n",
       "      <td>783</td>\n",
       "      <td>784</td>\n",
       "      <td>Humera-Somosaguas-prado del Rey</td>\n",
       "      <td>14800.0</td>\n",
       "      <td>28115</td>\n",
       "      <td>Pozuelo de Alarcón</td>\n",
       "      <td>28</td>\n",
       "      <td>Madrid</td>\n",
       "      <td>-3.783853</td>\n",
       "      <td>40.428764</td>\n",
       "      <td>0.080970</td>\n",
       "    </tr>\n",
       "    <tr>\n",
       "      <th>1</th>\n",
       "      <td>780</td>\n",
       "      <td>781</td>\n",
       "      <td>El Bercial</td>\n",
       "      <td>12814.0</td>\n",
       "      <td>28065</td>\n",
       "      <td>Getafe</td>\n",
       "      <td>28</td>\n",
       "      <td>Madrid</td>\n",
       "      <td>-3.736771</td>\n",
       "      <td>40.327270</td>\n",
       "      <td>0.095249</td>\n",
       "    </tr>\n",
       "    <tr>\n",
       "      <th>2</th>\n",
       "      <td>781</td>\n",
       "      <td>782</td>\n",
       "      <td>Fortuna</td>\n",
       "      <td>12840.0</td>\n",
       "      <td>28074</td>\n",
       "      <td>Leganés</td>\n",
       "      <td>28</td>\n",
       "      <td>Madrid</td>\n",
       "      <td>-3.780326</td>\n",
       "      <td>40.358067</td>\n",
       "      <td>0.096365</td>\n",
       "    </tr>\n",
       "    <tr>\n",
       "      <th>3</th>\n",
       "      <td>354</td>\n",
       "      <td>355</td>\n",
       "      <td>Leganés</td>\n",
       "      <td>187227.0</td>\n",
       "      <td>28074</td>\n",
       "      <td>Leganés</td>\n",
       "      <td>28</td>\n",
       "      <td>Madrid</td>\n",
       "      <td>-3.766556</td>\n",
       "      <td>40.331744</td>\n",
       "      <td>0.105567</td>\n",
       "    </tr>\n",
       "    <tr>\n",
       "      <th>4</th>\n",
       "      <td>365</td>\n",
       "      <td>366</td>\n",
       "      <td>Pozuelo de Alarcón</td>\n",
       "      <td>82804.0</td>\n",
       "      <td>28115</td>\n",
       "      <td>Pozuelo de Alarcón</td>\n",
       "      <td>28</td>\n",
       "      <td>Madrid</td>\n",
       "      <td>-3.815816</td>\n",
       "      <td>40.435940</td>\n",
       "      <td>0.113671</td>\n",
       "    </tr>\n",
       "    <tr>\n",
       "      <th>...</th>\n",
       "      <td>...</td>\n",
       "      <td>...</td>\n",
       "      <td>...</td>\n",
       "      <td>...</td>\n",
       "      <td>...</td>\n",
       "      <td>...</td>\n",
       "      <td>...</td>\n",
       "      <td>...</td>\n",
       "      <td>...</td>\n",
       "      <td>...</td>\n",
       "      <td>...</td>\n",
       "    </tr>\n",
       "    <tr>\n",
       "      <th>846</th>\n",
       "      <td>21</td>\n",
       "      <td>22</td>\n",
       "      <td>Adeje</td>\n",
       "      <td>43801.0</td>\n",
       "      <td>38001</td>\n",
       "      <td>Adeje</td>\n",
       "      <td>38</td>\n",
       "      <td>Santa Cruz de Tenerife</td>\n",
       "      <td>-16.729708</td>\n",
       "      <td>28.118880</td>\n",
       "      <td>17.913933</td>\n",
       "    </tr>\n",
       "    <tr>\n",
       "      <th>847</th>\n",
       "      <td>764</td>\n",
       "      <td>765</td>\n",
       "      <td>Playa de las Américas</td>\n",
       "      <td>18562.0</td>\n",
       "      <td>38001</td>\n",
       "      <td>Adeje</td>\n",
       "      <td>38</td>\n",
       "      <td>Santa Cruz de Tenerife</td>\n",
       "      <td>-16.729436</td>\n",
       "      <td>28.068070</td>\n",
       "      <td>17.948654</td>\n",
       "    </tr>\n",
       "    <tr>\n",
       "      <th>848</th>\n",
       "      <td>765</td>\n",
       "      <td>766</td>\n",
       "      <td>Los Cristianos</td>\n",
       "      <td>19383.0</td>\n",
       "      <td>38006</td>\n",
       "      <td>Arona</td>\n",
       "      <td>38</td>\n",
       "      <td>Santa Cruz de Tenerife</td>\n",
       "      <td>-16.716798</td>\n",
       "      <td>28.053827</td>\n",
       "      <td>17.949292</td>\n",
       "    </tr>\n",
       "    <tr>\n",
       "      <th>849</th>\n",
       "      <td>35</td>\n",
       "      <td>36</td>\n",
       "      <td>Santa Cruz de la Palma</td>\n",
       "      <td>17128.0</td>\n",
       "      <td>38037</td>\n",
       "      <td>Santa Cruz de la Palma</td>\n",
       "      <td>38</td>\n",
       "      <td>Santa Cruz de Tenerife</td>\n",
       "      <td>-17.765386</td>\n",
       "      <td>28.684138</td>\n",
       "      <td>18.313373</td>\n",
       "    </tr>\n",
       "    <tr>\n",
       "      <th>850</th>\n",
       "      <td>29</td>\n",
       "      <td>30</td>\n",
       "      <td>Los Llanos de Aridane</td>\n",
       "      <td>20948.0</td>\n",
       "      <td>38024</td>\n",
       "      <td>Los Llanos de Aridane</td>\n",
       "      <td>38</td>\n",
       "      <td>Santa Cruz de Tenerife</td>\n",
       "      <td>-17.914361</td>\n",
       "      <td>28.658639</td>\n",
       "      <td>18.444254</td>\n",
       "    </tr>\n",
       "  </tbody>\n",
       "</table>\n",
       "<p>851 rows × 11 columns</p>\n",
       "</div>"
      ],
      "text/plain": [
       "     FID  OBJECTID                            Texto  Poblacion  CodMun  \\\n",
       "0    783       784  Humera-Somosaguas-prado del Rey    14800.0   28115   \n",
       "1    780       781                       El Bercial    12814.0   28065   \n",
       "2    781       782                          Fortuna    12840.0   28074   \n",
       "3    354       355                          Leganés   187227.0   28074   \n",
       "4    365       366               Pozuelo de Alarcón    82804.0   28115   \n",
       "..   ...       ...                              ...        ...     ...   \n",
       "846   21        22                            Adeje    43801.0   38001   \n",
       "847  764       765            Playa de las Américas    18562.0   38001   \n",
       "848  765       766                   Los Cristianos    19383.0   38006   \n",
       "849   35        36           Santa Cruz de la Palma    17128.0   38037   \n",
       "850   29        30            Los Llanos de Aridane    20948.0   38024   \n",
       "\n",
       "                  Municipio  CodProvin               Provincia          X  \\\n",
       "0        Pozuelo de Alarcón         28                  Madrid  -3.783853   \n",
       "1                    Getafe         28                  Madrid  -3.736771   \n",
       "2                   Leganés         28                  Madrid  -3.780326   \n",
       "3                   Leganés         28                  Madrid  -3.766556   \n",
       "4        Pozuelo de Alarcón         28                  Madrid  -3.815816   \n",
       "..                      ...        ...                     ...        ...   \n",
       "846                   Adeje         38  Santa Cruz de Tenerife -16.729708   \n",
       "847                   Adeje         38  Santa Cruz de Tenerife -16.729436   \n",
       "848                   Arona         38  Santa Cruz de Tenerife -16.716798   \n",
       "849  Santa Cruz de la Palma         38  Santa Cruz de Tenerife -17.765386   \n",
       "850   Los Llanos de Aridane         38  Santa Cruz de Tenerife -17.914361   \n",
       "\n",
       "             Y  distance_to_madrid  \n",
       "0    40.428764            0.080970  \n",
       "1    40.327270            0.095249  \n",
       "2    40.358067            0.096365  \n",
       "3    40.331744            0.105567  \n",
       "4    40.435940            0.113671  \n",
       "..         ...                 ...  \n",
       "846  28.118880           17.913933  \n",
       "847  28.068070           17.948654  \n",
       "848  28.053827           17.949292  \n",
       "849  28.684138           18.313373  \n",
       "850  28.658639           18.444254  \n",
       "\n",
       "[851 rows x 11 columns]"
      ]
     },
     "execution_count": 49,
     "metadata": {},
     "output_type": "execute_result"
    }
   ],
   "source": [
    "# Lo comprobamos ordenando el nuevo dataset por la columna 'distance_to_madrid'\n",
    "ex8_ordered_ds = new_ex8_ds.sort_values(by=['distance_to_madrid'], ascending=True)\n",
    "ex8_ordered_ds.reset_index(drop=True, inplace=True)\n",
    "\n",
    "ex8_ordered_ds"
   ]
  },
  {
   "cell_type": "markdown",
   "id": "5b42f17d-d1ce-4b4b-8bb0-55f28598b16a",
   "metadata": {},
   "source": [
    "Comprobamos que Pozuelo de Alarcón es el más cercano, y Los Llanos de Aridane el más lejano"
   ]
  },
  {
   "cell_type": "code",
   "execution_count": null,
   "id": "0e7ca496-82e6-4b60-b51d-c9a9eab4b00a",
   "metadata": {},
   "outputs": [],
   "source": []
  }
 ],
 "metadata": {
  "kernelspec": {
   "display_name": "Python 3 (ipykernel)",
   "language": "python",
   "name": "python3"
  },
  "language_info": {
   "codemirror_mode": {
    "name": "ipython",
    "version": 3
   },
   "file_extension": ".py",
   "mimetype": "text/x-python",
   "name": "python",
   "nbconvert_exporter": "python",
   "pygments_lexer": "ipython3",
   "version": "3.11.5"
  }
 },
 "nbformat": 4,
 "nbformat_minor": 5
}
