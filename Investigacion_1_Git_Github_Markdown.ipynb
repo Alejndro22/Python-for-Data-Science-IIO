{
 "cells": [
  {
   "cell_type": "markdown",
   "id": "13690106-76f6-4ab8-86fc-c95a9d11ae4b",
   "metadata": {},
   "source": [
    "## 1. ¿Qué es Git?\n",
    "---\n",
    "\n",
    "Git es un sistema distribuido de control de versiones. Tiene muchos usos, pero se usan principalmente para trabajo coordinado entre programadores que trabajan simultáneamente en un proyecto de desarrollo de software. Git es un software que corre localmente, por lo que tanto el historial como los archivos se guardan dentro del equipo donde se ejecuta. Sin embargo, se puede enlazar con hosts remotos como Github, Gitlab, Bitbucket para tener una copia en ellos. A continuación algunos conceptos esenciales de git.\n",
    "\n",
    "### 1.1 Repositorios de Git\n",
    "---\n",
    "\n",
    "Un repositorio contiene los archivos de un proyecto, así como el historial de los cambios sobre estos archivos. Cuando se designa una carpeta como repositorio de git, se crea un directorio .git que contendrá todo lo mencionado anteriormente. Para hacerlo ejecutamos el comando:\n",
    "\n",
    "```git init```\n",
    "\n",
    "### 1.2 Archivos en Stage y en Commit\n",
    "---\n",
    "\n",
    "Para poder guardar un cambio en el historial, en git elegimos el/los archivos a dar seguimiento con el comando add. Se puede hacer para todos los archivos que han sido cambiados o para cada archivo individualmente. Luego de ejecutar el add, estos archivos estan en staging.\n",
    "\n",
    "- Para todos los archivos usamos: ```git add .```\n",
    "- Para un archivo individual usamos su nombre ```git add README.md```\n",
    "\n",
    "Y para poder hacer la *\"captura\"* utilizamos el comando commit, donde podemos agregar un título y una descripción para el commit. Luego de hacer commit los archivos salen del staging y queda limpio el track de cambios ya con la *\"captura\"* creada.\n",
    "\n",
    "- ```git commit -m \"Titulo de commit\" -m \"Descripción del commit\"```\n",
    "\n",
    "\n",
    "\n"
   ]
  },
  {
   "cell_type": "markdown",
   "id": "67e2d89b-f190-420b-a253-d19ac6b57e16",
   "metadata": {},
   "source": [
    "## 2. ¿Qué es Github?\n",
    "---\n",
    "\n",
    "De forma teórica, Github es un servicio basado en la nube que aloja Git. Es una plataforma que se puede usar para la gestión y organización de repositorios de Git, ya sea porque hay varias personas trabajando en un mismo proyecto realizando cambios constantes, porque queremos mantener un control de los cambios en un proyecto, o para tener una plataforma que facilite la visualización de proyectos.\n",
    "\n",
    "Gracias a que Github está en la nube, facilita mucho el trabajo con el uso de ramas.\n",
    "\n",
    "### 2.1 ¿Qué son las ramas?\n",
    "---\n",
    "\n",
    "Son las ramificaciones de un proyecto, y son muy útiles porque permite trabajar en distintas características, arreglos o experimentos de forma paralela con otros desarrolladores sin afectar directamente a los demás.\n",
    "\n",
    "### 2.2 Merge\n",
    "---\n",
    "\n",
    "La fusión de las ramas se refiere a combinar los cambios de una rama en otra rama. Se hace para incorporar los cambios en los que se han trabajado y poder tener todo generalmente en un flujo principal\n",
    "\n",
    "![Git Image](https://www.nobledesktop.com/image/blog/git-branches-merge.png)"
   ]
  },
  {
   "cell_type": "markdown",
   "id": "bc21305f-4390-40a1-94e2-143f1211607b",
   "metadata": {
    "tags": []
   },
   "source": [
    "## 3. Markdown y sus comandos\n",
    "\n",
    "### 3.1 Títulos\n",
    "---\n",
    "\n",
    "Para crear un título, se agrega un (#) al inicio del título. El nivel del título (h1, h2, h3...) depende de cuántos (#) se pongan al inicio.\n",
    "\n",
    "| Markdown | HTML equivalente |\n",
    "|-----------|------------------|\n",
    "| # | `<h1></h1>` |\n",
    "| ## | `<h2></h2>` |\n",
    "| ### | `<h3></h3>` |\n",
    "\n",
    "### 3.2 Párrafos\n",
    "---\n",
    "\n",
    "Para crar párrafos, basta con dejar una línea en blanco de separación entre dos textos.\n",
    "\n",
    "| Markdown | HTML equivalente |\n",
    "|-----------|------------------|\n",
    "| Párrafo de prueba 1. <br> <br> Párrafo de prueba 2. | `<p>Párrafo de prueba 1.</p>` <br> <br> `<p>Párrafo de prueba 2.</p>` |\n",
    "\n",
    "### 3.3 Estilos de letra\n",
    "\n",
    "#### 3.3.1 Negrita\n",
    "---\n",
    "\n",
    "Para resaltar un texto en negrita, se debe envolver el texto dentro de dos asteriscos `(**)` o dentro de dos guiones bajos `(__)`.\n",
    "\n",
    "| Markdown | Resultado |\n",
    "|-----------|------------------|\n",
    "| Resaltar con negrita ```**este texto**``` con asteriscos | Resaltar con negrita **este texto** con asteriscos |\n",
    "| Resaltar con negrita ```__este texto__``` con guiones bajos | Resaltar con negrita __este texto__ con guiones bajos |\n",
    "\n",
    "#### 3.3.2 Italica\n",
    "---\n",
    "\n",
    "Para agregar italica a un texto es similar a la negrita, pero el texto queda solo dentro de un asterisco `(*)` o dentro de un guion bajo `(_)`.\n",
    "\n",
    "| Markdown | Resultado |\n",
    "|-----------|------------------|\n",
    "| Resaltar con italica ```*este texto*``` con asteriscos | Resaltar con italica *este texto* con asteriscos |\n",
    "| Resaltar con italica ```_este texto_``` con guiones bajos | Resaltar con italica _este texto_ con guiones bajos |\n",
    "\n",
    "#### 3.3.3 Negrita e Italica\n",
    "---\n",
    "\n",
    "Para agregar ambos estilos, dejamos el texto dentro de tres asteriscos `(***)` o dentro de tres guiones bajos `(__)`.\n",
    "\n",
    "| Markdown | Resultado |\n",
    "|-----------|------------------|\n",
    "| Resaltar con negrita e italica ```***este texto***``` con asteriscos | Resaltar con negrita e italica ***este texto*** con asteriscos |\n",
    "| Resaltar con negrita e italica ```___este texto___``` con guiones bajos | Resaltar con negrita e italica ___este texto___ con guiones bajos |\n",
    "\n",
    "### 3.4 Listas\n",
    "\n",
    "#### 3.4.1 Listas ordenadas\n",
    "---\n",
    "\n",
    "Para crear listas ordenadas, cada elemento debe iniciar con un número seguido de un punto. También se puede agregar identación para tener sub-elementos.\n",
    "\n",
    "**Nota:** No debe estar en orden numerico, pero si debe iniciar siempre con 1.\n",
    "\n",
    "```\n",
    "1. Primer elemento\n",
    "2. Segundo elemento\n",
    "2. Tercer elemento\n",
    "    1. Subelemento del tercer elemento 1.\n",
    "    2. Subelemento del tercer elemento 2.\n",
    "2. Cuarto elemento\n",
    "```\n",
    "\n",
    "Dejando el siguiente resultado:\n",
    "1. Primer elemento\n",
    "2. Segundo elemento\n",
    "2. Tercer elemento\n",
    "    1. Subelemento del tercer elemento 1.\n",
    "    2. Subelemento del tercer elemento 2.\n",
    "2. Cuarto elemento\n",
    "\n",
    "#### 3.4.2 Listas no ordenadas\n",
    "---\n",
    "\n",
    "Para crear listas no ordenadas, cada elemento debe iniciar con uno de los siguientes símbolos ( -, *, + ), pero como buena practica se recomienda usar siempre el mismo tipo. También se puede agregar identación para tener listas anidadas.\n",
    "\n",
    "```\n",
    "- Primer elemento\n",
    "- Segundo elemento\n",
    "- Tercer elemento\n",
    "    - Subelemento del tercer elemento 1.\n",
    "    - Subelemento del tercer elemento 2.\n",
    "- Cuarto elemento\n",
    "    - Subelemento del cuarto elemento 1.\n",
    "    - Subelemento del cuarto elemento 2.\n",
    "```\n",
    "Dejando el siguiente resultado:\n",
    "- Primer elemento\n",
    "- Segundo elemento\n",
    "- Tercer elemento\n",
    "    - Subelemento del tercer elemento 1.\n",
    "    - Subelemento del tercer elemento 2.\n",
    "- Cuarto elemento\n",
    "    - Subelemento del cuarto elemento 1.\n",
    "    - Subelemento del cuarto elemento 2.\n",
    "\n",
    "### 3.5 Tablas\n",
    "---\n",
    "\n",
    "Para crear tablas en Mardown, se usan los símbolos de or (|) para indicar el inicio y final del contenido y para separar las columnas, y tres o mas guiones (---) para crear cada uno de los títulos de las columnas. \n",
    "\n",
    "Un ejemplo sería el siguiente:\n",
    "```\n",
    "| Mes | Año |\n",
    "|---|---|\n",
    "| Enero | 2024 |\n",
    "| Febrero | 2024 |\n",
    "| Marzo | 2024 |\n",
    "```\n",
    "\n",
    "Que genera la siguiente tabla:\n",
    "| Mes | Año |\n",
    "|---|---|\n",
    "| Enero | 2024 |\n",
    "| Febrero | 2024 |\n",
    "| Marzo | 2024 |\n",
    "\n",
    "### 3.6 Links\n",
    "---\n",
    "\n",
    "Para añadir un enlace con un título distinto, se debe rodear el texto dentro de corchetes `([ ])` y justo después un enlace dentro de paréntesis `( )`. También se puede dejar únicamente el enlace sin cambiarle el título, para ello rodeamos el link dentro de paréntesis angulares `(< >)`.\n",
    "\n",
    "| Markdown | Resultado |\n",
    "|-----------|------------------|\n",
    "| `[Github](https://github.com/)` | [Github](https://github.com/) |\n",
    "| `<https://github.com/>` | <https://github.com/> |\n",
    "\n",
    "### 3.7 Imagenes\n",
    "---\n",
    "\n",
    "Para agregar imagenes, es una sintaxis similar a los enlaces. Debemos iniciar con un signo de exclamación `(!)`, seguido del texto altenativo dentro de corchetes `([ ])` y justo después el enlace de la imágen dentro de paréntesis `( )`.\n",
    "| Markdown | Resultado |\n",
    "|-----------|------------------|\n",
    "| `![Markdown](https://upload.wikimedia.org/wikipedia/commons/thumb/4/48/Markdown-mark.svg/1200px-Markdown-mark.svg.png)` | ![Markdown](https://upload.wikimedia.org/wikipedia/commons/thumb/4/48/Markdown-mark.svg/1200px-Markdown-mark.svg.png) |\n"
   ]
  },
  {
   "cell_type": "markdown",
   "id": "a9b934e7-4bfa-4983-a137-3874558a52f1",
   "metadata": {},
   "source": [
    "## 4. Magic Cells\n",
    "---\n",
    "\n",
    "Las \"magic cells\" en Jupyter Notebooks son comandos especiales que se inician con el signo de exclamación ***!*** para comandos de línea.. Estos comandos proporcionan una funcionalidad adicional que va más allá de la ejecución normal de código en las celdas, permitiendo a los usuarios realizar tareas específicas de manera más eficiente y con menos código. \n",
    "\n",
    "### 4.1 Magic Cells para subir a repo de github\n",
    "\n",
    "#### Inicializar repositorio de Github\n",
    "---\n",
    "\n",
    "```%git init```\n",
    "\n",
    "#### Añadir todos los archivos a staging\n",
    "---\n",
    "\n",
    "```%git add .```\n",
    "\n",
    "#### Hacer commit de los cambios\n",
    "---\n",
    "\n",
    "```%git commit -m \"Commit desde Magic Cells\"```\n",
    "\n",
    "#### Configurar repositorio remoto\n",
    "---\n",
    "\n",
    "```%git remote add origin git@github.com:Alejndro22/Python-for-Data-Science-IIO.git```\n",
    "\n",
    "#### Hacer push al repositorio remoto\n",
    "---  \n",
    "        \n",
    "```%git push -u origin main```"
   ]
  },
  {
   "cell_type": "code",
   "execution_count": 4,
   "id": "aefd62f0-6212-4322-9059-9f06b646570f",
   "metadata": {
    "tags": []
   },
   "outputs": [
    {
     "name": "stdout",
     "output_type": "stream",
     "text": [
      "Initialized empty Git repository in C:/Users/ACER/Documents/Galileo - IIO/Data_Science_Python/.git/\n"
     ]
    }
   ],
   "source": [
    "!git init"
   ]
  },
  {
   "cell_type": "code",
   "execution_count": 16,
   "id": "c3f92b48-d6bf-4f03-90ed-053a3230ffce",
   "metadata": {
    "tags": []
   },
   "outputs": [
    {
     "name": "stderr",
     "output_type": "stream",
     "text": [
      "warning: in the working copy of '.ipynb_checkpoints/Investigacion_1_Git_Github_Markdown-checkpoint.ipynb', LF will be replaced by CRLF the next time Git touches it\n",
      "warning: in the working copy of 'Investigacion_1_Git_Github_Markdown.ipynb', LF will be replaced by CRLF the next time Git touches it\n"
     ]
    }
   ],
   "source": [
    "!git add ."
   ]
  },
  {
   "cell_type": "code",
   "execution_count": 21,
   "id": "82f17339-3078-4806-ae95-830fa7510b64",
   "metadata": {
    "tags": []
   },
   "outputs": [
    {
     "name": "stdout",
     "output_type": "stream",
     "text": [
      "[main 33f5085] Commit desde Magic Cells\n",
      " 2 files changed, 16 insertions(+), 14 deletions(-)\n"
     ]
    }
   ],
   "source": [
    "!git commit -m \"Commit desde Magic Cells\""
   ]
  },
  {
   "cell_type": "code",
   "execution_count": 18,
   "id": "515cf903-3efa-4e18-8b9c-07e2cae36bdd",
   "metadata": {
    "tags": []
   },
   "outputs": [
    {
     "name": "stderr",
     "output_type": "stream",
     "text": [
      "error: remote origin already exists.\n"
     ]
    }
   ],
   "source": [
    "!git remote add origin git@github.com:Alejndro22/Python-for-Data-Science-IIO.git"
   ]
  },
  {
   "cell_type": "code",
   "execution_count": 20,
   "id": "79923998-c1f4-4e4f-a545-f00e0ec0b72c",
   "metadata": {
    "tags": []
   },
   "outputs": [
    {
     "name": "stderr",
     "output_type": "stream",
     "text": [
      "git@github.com: Permission denied (publickey).\n",
      "fatal: Could not read from remote repository.\n",
      "\n",
      "Please make sure you have the correct access rights\n",
      "and the repository exists.\n"
     ]
    }
   ],
   "source": [
    "!git push -u origin main"
   ]
  },
  {
   "cell_type": "code",
   "execution_count": null,
   "id": "2b939aa4-5d06-44cc-8ced-f406908538ed",
   "metadata": {},
   "outputs": [],
   "source": []
  }
 ],
 "metadata": {
  "kernelspec": {
   "display_name": "Python 3 (ipykernel)",
   "language": "python",
   "name": "python3"
  },
  "language_info": {
   "codemirror_mode": {
    "name": "ipython",
    "version": 3
   },
   "file_extension": ".py",
   "mimetype": "text/x-python",
   "name": "python",
   "nbconvert_exporter": "python",
   "pygments_lexer": "ipython3",
   "version": "3.11.5"
  }
 },
 "nbformat": 4,
 "nbformat_minor": 5
}
